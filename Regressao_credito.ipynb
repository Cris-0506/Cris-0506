{
  "nbformat": 4,
  "nbformat_minor": 0,
  "metadata": {
    "colab": {
      "provenance": [],
      "collapsed_sections": [],
      "mount_file_id": "1kyCDbXoYY7YGvvOg5hHbKVYS-dswdmLn",
      "authorship_tag": "ABX9TyPe0cDKQWTI3R+lO0122v5A",
      "include_colab_link": true
    },
    "kernelspec": {
      "name": "python3",
      "display_name": "Python 3"
    },
    "language_info": {
      "name": "python"
    }
  },
  "cells": [
    {
      "cell_type": "markdown",
      "metadata": {
        "id": "view-in-github",
        "colab_type": "text"
      },
      "source": [
        "<a href=\"https://colab.research.google.com/github/Cris-0506/Cris-0506/blob/main/Regressao_credito.ipynb\" target=\"_parent\"><img src=\"https://colab.research.google.com/assets/colab-badge.svg\" alt=\"Open In Colab\"/></a>"
      ]
    },
    {
      "cell_type": "markdown",
      "source": [
        "Análise de regressão linear dos dados de crédito."
      ],
      "metadata": {
        "id": "bIDrjAFWRVw3"
      }
    },
    {
      "cell_type": "markdown",
      "source": [
        "Base de dados retirada do Kaggle (www.kaggle.com/laotse/credit-risk-dataset)"
      ],
      "metadata": {
        "id": "5gs1VqO6R_3v"
      }
    },
    {
      "cell_type": "code",
      "source": [
        "import pandas as pd"
      ],
      "metadata": {
        "id": "3zkE5R5ySeqp"
      },
      "execution_count": 64,
      "outputs": []
    },
    {
      "cell_type": "code",
      "source": [
        "import numpy as np"
      ],
      "metadata": {
        "id": "OQHZxduAShhh"
      },
      "execution_count": 65,
      "outputs": []
    },
    {
      "cell_type": "code",
      "source": [
        "dados = pd.read_csv('/content/credit_data.csv', sep=',', encoding = 'iso-8859-1')"
      ],
      "metadata": {
        "id": "Rmwg0430Sbyp"
      },
      "execution_count": 66,
      "outputs": []
    },
    {
      "cell_type": "code",
      "source": [
        "dados"
      ],
      "metadata": {
        "id": "U0w-Az8JTXaO"
      },
      "execution_count": null,
      "outputs": []
    },
    {
      "cell_type": "code",
      "source": [
        "dados.shape"
      ],
      "metadata": {
        "id": "_Wt7e8xOTlxG",
        "colab": {
          "base_uri": "https://localhost:8080/"
        },
        "outputId": "3d4ee993-fd31-4071-a226-2c2b2c8605aa"
      },
      "execution_count": 68,
      "outputs": [
        {
          "output_type": "execute_result",
          "data": {
            "text/plain": [
              "(2000, 5)"
            ]
          },
          "metadata": {},
          "execution_count": 68
        }
      ]
    },
    {
      "cell_type": "code",
      "source": [
        "dados.dtypes"
      ],
      "metadata": {
        "id": "GGBY102nTwra"
      },
      "execution_count": null,
      "outputs": []
    },
    {
      "cell_type": "code",
      "source": [
        "dados.describe()"
      ],
      "metadata": {
        "id": "7eymNmBMTpuD"
      },
      "execution_count": null,
      "outputs": []
    },
    {
      "cell_type": "code",
      "source": [
        "dados.isnull().sum()"
      ],
      "metadata": {
        "id": "1WoCk4i0T4lw"
      },
      "execution_count": null,
      "outputs": []
    },
    {
      "cell_type": "code",
      "source": [
        "dados.head()"
      ],
      "metadata": {
        "id": "IRLjfpLaUOs3"
      },
      "execution_count": null,
      "outputs": []
    },
    {
      "cell_type": "code",
      "source": [
        "dados_credito = dados.rename (columns = {'clientid': 'cliente', 'income':'renda', 'age': 'idade', 'loan': 'divida', 'default': 'inadimplencia'})"
      ],
      "metadata": {
        "id": "QUD8EzwaUClO"
      },
      "execution_count": 73,
      "outputs": []
    },
    {
      "cell_type": "code",
      "source": [
        "dados_credito.head()"
      ],
      "metadata": {
        "id": "T_9mZ9mKU9aW"
      },
      "execution_count": null,
      "outputs": []
    },
    {
      "cell_type": "code",
      "source": [
        "# Existem dados inconsistentes, como os dados relacionados à idade que são valores negativos.\n",
        "dados_credito.describe()"
      ],
      "metadata": {
        "id": "rJ1s2LZxVxEV"
      },
      "execution_count": null,
      "outputs": []
    },
    {
      "cell_type": "code",
      "source": [
        "dados_credito[dados_credito['idade']<0]"
      ],
      "metadata": {
        "id": "SBkq24QiWO2u"
      },
      "execution_count": null,
      "outputs": []
    },
    {
      "cell_type": "code",
      "source": [
        "# Preenchendo os valores de idade que são negativos com a média das idades."
      ],
      "metadata": {
        "id": "zhkx2l08IsOh"
      },
      "execution_count": 77,
      "outputs": []
    },
    {
      "cell_type": "code",
      "source": [
        "dados_credito.mean()"
      ],
      "metadata": {
        "id": "Q_B7pascKfaB"
      },
      "execution_count": null,
      "outputs": []
    },
    {
      "cell_type": "code",
      "source": [
        "# Fazendo a média sem contar com os valores negativos.\n",
        "dados_credito['idade'][dados_credito['idade']>0].mean()"
      ],
      "metadata": {
        "id": "3C1V5O77K1Nh"
      },
      "execution_count": null,
      "outputs": []
    },
    {
      "cell_type": "code",
      "source": [
        "dados_credito.loc[dados_credito['idade']<0, 'idade'] = 40.92"
      ],
      "metadata": {
        "id": "6Th4-DgVLjXw"
      },
      "execution_count": 80,
      "outputs": []
    },
    {
      "cell_type": "code",
      "source": [
        "dados_credito.loc[dados_credito['idade'] <0]"
      ],
      "metadata": {
        "id": "VoOGHnu1OVFI"
      },
      "execution_count": null,
      "outputs": []
    },
    {
      "cell_type": "code",
      "source": [
        "dados_credito.head(27)"
      ],
      "metadata": {
        "id": "Ulxk0URtOlHR"
      },
      "execution_count": null,
      "outputs": []
    },
    {
      "cell_type": "code",
      "source": [
        "# Verificando valores faltantes.\n",
        "dados_credito.isnull().sum()"
      ],
      "metadata": {
        "id": "UmLI_Y4aRLji"
      },
      "execution_count": null,
      "outputs": []
    },
    {
      "cell_type": "code",
      "source": [
        "dados_credito.loc[pd.isnull(dados_credito['idade'])]"
      ],
      "metadata": {
        "id": "dO2CEBs2Rbqn"
      },
      "execution_count": null,
      "outputs": []
    },
    {
      "cell_type": "code",
      "source": [
        "# Preenchendo os valores faltantes com a média das idades.\n",
        "dados_credito['idade'].fillna(dados_credito['idade'].mean(), inplace=True)"
      ],
      "metadata": {
        "id": "CZtgPK-pR_up"
      },
      "execution_count": 86,
      "outputs": []
    },
    {
      "cell_type": "code",
      "source": [
        "dados_credito.loc[dados_credito['cliente'].isin([29,30,31])]"
      ],
      "metadata": {
        "id": "2sRgolfxSaXU"
      },
      "execution_count": null,
      "outputs": []
    },
    {
      "cell_type": "code",
      "source": [
        "dados_credito"
      ],
      "metadata": {
        "id": "sRAB5HQETC5w"
      },
      "execution_count": null,
      "outputs": []
    },
    {
      "cell_type": "code",
      "source": [
        "import statsmodels.formula.api as smf\n",
        "import statsmodels.stats.api as sms "
      ],
      "metadata": {
        "id": "2uzy4r6xVRWG"
      },
      "execution_count": 92,
      "outputs": []
    },
    {
      "cell_type": "code",
      "source": [
        "dados_credito.head()"
      ],
      "metadata": {
        "id": "rsrFD2K4V5sk"
      },
      "execution_count": null,
      "outputs": []
    },
    {
      "cell_type": "code",
      "source": [
        "regressao = smf.ols('divida ~ renda', data = dados_credito).fit()"
      ],
      "metadata": {
        "id": "ej7YscjEVntv"
      },
      "execution_count": 122,
      "outputs": []
    },
    {
      "cell_type": "code",
      "source": [
        "print(regressao.summary())"
      ],
      "metadata": {
        "id": "uS4EDmSOWRQF"
      },
      "execution_count": null,
      "outputs": []
    },
    {
      "cell_type": "code",
      "source": [
        "coeficientes = pd.DataFrame(regressao.params)\n"
      ],
      "metadata": {
        "id": "rQXIcE35Wzkm"
      },
      "execution_count": 124,
      "outputs": []
    },
    {
      "cell_type": "code",
      "source": [
        "print(coeficientes)"
      ],
      "metadata": {
        "colab": {
          "base_uri": "https://localhost:8080/"
        },
        "id": "8LCW31BsW-4p",
        "outputId": "76745172-b69d-4ae0-f666-7c7879b9ef6b"
      },
      "execution_count": 125,
      "outputs": [
        {
          "output_type": "stream",
          "name": "stdout",
          "text": [
            "                    0\n",
            "Intercept  193.622619\n",
            "renda        0.093770\n"
          ]
        }
      ]
    },
    {
      "cell_type": "code",
      "source": [
        "# Analisando os resíduos.\n",
        "residuos = regressao.resid"
      ],
      "metadata": {
        "id": "PgKMofXBXjeJ"
      },
      "execution_count": 126,
      "outputs": []
    },
    {
      "cell_type": "code",
      "source": [
        "residuos"
      ],
      "metadata": {
        "id": "QYRndeL-Xvfs"
      },
      "execution_count": null,
      "outputs": []
    },
    {
      "cell_type": "code",
      "source": [
        "import matplotlib.pyplot as plt\n"
      ],
      "metadata": {
        "id": "5u6GxtoPYaHE"
      },
      "execution_count": 119,
      "outputs": []
    },
    {
      "cell_type": "code",
      "source": [
        "# Criando um gráfico de dispersão para analisar os resíduos.\n",
        "plt.scatter(dados_credito.renda, dados_credito.divida, color = 'blue', s=8, alpha = 1)"
      ],
      "metadata": {
        "id": "csjG8qAeX3UX"
      },
      "execution_count": null,
      "outputs": []
    },
    {
      "cell_type": "code",
      "source": [
        "# Analisando normalidade dos resíduos.\n",
        "import scipy.stats as stats\n",
        "stats.shapiro(residuos)\n",
        "\n"
      ],
      "metadata": {
        "id": "QlQBKiMEZwRY"
      },
      "execution_count": null,
      "outputs": []
    },
    {
      "cell_type": "code",
      "source": [
        "# Os resíduos não possuem distribuição normal, dessa forma o modelo de predição não é válido."
      ],
      "metadata": {
        "id": "QPO8Jw_Pb1if"
      },
      "execution_count": null,
      "outputs": []
    }
  ]
}