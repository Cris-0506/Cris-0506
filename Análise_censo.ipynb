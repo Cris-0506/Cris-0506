{
  "nbformat": 4,
  "nbformat_minor": 0,
  "metadata": {
    "colab": {
      "provenance": [],
      "collapsed_sections": [],
      "mount_file_id": "1HnrVC7RX0Aa9l7ndgYiAtUTHoaGda-oL",
      "authorship_tag": "ABX9TyMXufJeEBw5LKl/d6T7302U",
      "include_colab_link": true
    },
    "kernelspec": {
      "name": "python3",
      "display_name": "Python 3"
    },
    "language_info": {
      "name": "python"
    }
  },
  "cells": [
    {
      "cell_type": "markdown",
      "metadata": {
        "id": "view-in-github",
        "colab_type": "text"
      },
      "source": [
        "<a href=\"https://colab.research.google.com/github/Cris-0506/Cris-0506/blob/main/An%C3%A1lise_censo.ipynb\" target=\"_parent\"><img src=\"https://colab.research.google.com/assets/colab-badge.svg\" alt=\"Open In Colab\"/></a>"
      ]
    },
    {
      "cell_type": "markdown",
      "source": [
        "Exploração e processamento de dados do censo."
      ],
      "metadata": {
        "id": "K2oidWpu1h-F"
      }
    },
    {
      "cell_type": "markdown",
      "source": [
        "Dados disponíveis em http://archive.ics.uci.edu/ml/datasets/adult"
      ],
      "metadata": {
        "id": "vOqEVUDS1tD_"
      }
    },
    {
      "cell_type": "code",
      "source": [
        "import pandas as pd\n",
        "import numpy as np"
      ],
      "metadata": {
        "id": "jnODpifi2Qrp"
      },
      "execution_count": 1,
      "outputs": []
    },
    {
      "cell_type": "code",
      "source": [
        "dados_censo = pd.read_csv('/content/census.csv', sep=',', encoding = 'iso-8859-1')"
      ],
      "metadata": {
        "id": "DyBWtQY52V9y"
      },
      "execution_count": 2,
      "outputs": []
    },
    {
      "cell_type": "code",
      "source": [
        "dados_censo"
      ],
      "metadata": {
        "id": "IU9CjPnZ3vgx"
      },
      "execution_count": null,
      "outputs": []
    },
    {
      "cell_type": "code",
      "source": [
        "dados_censo.describe()"
      ],
      "metadata": {
        "id": "bDzspkIS3_Qv"
      },
      "execution_count": null,
      "outputs": []
    },
    {
      "cell_type": "code",
      "source": [
        "dados_censo.isnull().sum()"
      ],
      "metadata": {
        "id": "IeeODYdm4Kps"
      },
      "execution_count": null,
      "outputs": []
    },
    {
      "cell_type": "code",
      "source": [
        "np.unique (dados_censo['income'])"
      ],
      "metadata": {
        "id": "5IdmGSUg4TS7"
      },
      "execution_count": null,
      "outputs": []
    },
    {
      "cell_type": "code",
      "source": [
        "np.unique(dados_censo['income'], return_counts = True)"
      ],
      "metadata": {
        "id": "TGV6dgHX7JDm"
      },
      "execution_count": null,
      "outputs": []
    },
    {
      "cell_type": "code",
      "source": [
        "import seaborn as sns\n",
        "import matplotlib.pyplot as plt\n",
        "import plotly.express as px"
      ],
      "metadata": {
        "id": "JD3QdYU39EpD"
      },
      "execution_count": 14,
      "outputs": []
    },
    {
      "cell_type": "code",
      "source": [
        "sns.countplot(x=dados_censo['income']);"
      ],
      "metadata": {
        "id": "OQ_lr0u79UzP"
      },
      "execution_count": null,
      "outputs": []
    },
    {
      "cell_type": "code",
      "source": [
        "sns.histplot(dados_censo, x='age', bins=10, color='orange', kde=True, stat='probability');"
      ],
      "metadata": {
        "id": "7Rd8wPbG-Pc0"
      },
      "execution_count": null,
      "outputs": []
    },
    {
      "cell_type": "code",
      "source": [
        "sns.histplot(dados_censo, x='education-num', bins=10, color='blue', kde=True, stat='probability');"
      ],
      "metadata": {
        "id": "7Nl9G6x0_3BW"
      },
      "execution_count": null,
      "outputs": []
    },
    {
      "cell_type": "code",
      "source": [
        "sns.histplot(dados_censo, x='hour-per-week', bins=10, color='green', kde=True, stat='probability');"
      ],
      "metadata": {
        "id": "n6M38fTWAZBa"
      },
      "execution_count": null,
      "outputs": []
    },
    {
      "cell_type": "code",
      "source": [
        "grafico = px.treemap(dados_censo, path = ['income', 'education-num'])\n",
        "grafico.show()"
      ],
      "metadata": {
        "id": "LuafgNULAnEZ"
      },
      "execution_count": null,
      "outputs": []
    },
    {
      "cell_type": "code",
      "source": [
        "grafico2 = px.parallel_categories(dados_censo, dimensions = ['income', 'education-num'])\n",
        "grafico2.show()"
      ],
      "metadata": {
        "id": "W1SPPiy8BxdW"
      },
      "execution_count": null,
      "outputs": []
    },
    {
      "cell_type": "code",
      "source": [
        "# Fazendo a divisão entre dados previsores e classe.\n",
        "x_censo = dados_censo.iloc[:, 0:14].values"
      ],
      "metadata": {
        "id": "p7m_gz-3CZdm"
      },
      "execution_count": 51,
      "outputs": []
    },
    {
      "cell_type": "code",
      "source": [
        "dados_censo.columns"
      ],
      "metadata": {
        "colab": {
          "base_uri": "https://localhost:8080/"
        },
        "id": "HH06dXB4DYA_",
        "outputId": "a860aec4-71ea-43bb-c77c-7bc5a471f6fe"
      },
      "execution_count": 69,
      "outputs": [
        {
          "output_type": "execute_result",
          "data": {
            "text/plain": [
              "Index(['age', 'workclass', 'final-weight', 'education', 'education-num',\n",
              "       'marital-status', 'occupation', 'relationship', 'race', 'sex',\n",
              "       'capital-gain', 'capital-loos', 'hour-per-week', 'native-country',\n",
              "       'income'],\n",
              "      dtype='object')"
            ]
          },
          "metadata": {},
          "execution_count": 69
        }
      ]
    },
    {
      "cell_type": "code",
      "source": [
        "y_censo = dados_censo.iloc[:, 14].values"
      ],
      "metadata": {
        "id": "O2Go3UiJDZBP"
      },
      "execution_count": 54,
      "outputs": []
    },
    {
      "cell_type": "code",
      "source": [
        "# Transformação dos atributos categóricos.\n",
        "from sklearn.preprocessing import LabelEncoder"
      ],
      "metadata": {
        "id": "8rzNsa5NEDQc"
      },
      "execution_count": 36,
      "outputs": []
    },
    {
      "cell_type": "code",
      "source": [
        "label_encoder_workclass=LabelEncoder()"
      ],
      "metadata": {
        "id": "nComBXfFEYLl"
      },
      "execution_count": 55,
      "outputs": []
    },
    {
      "cell_type": "code",
      "source": [
        "label_encoder_education=LabelEncoder()"
      ],
      "metadata": {
        "id": "kiSl_YvyFD0I"
      },
      "execution_count": 56,
      "outputs": []
    },
    {
      "cell_type": "code",
      "source": [
        "label_encoder_occupation=LabelEncoder()"
      ],
      "metadata": {
        "id": "wuZYC-wPHqkp"
      },
      "execution_count": 70,
      "outputs": []
    },
    {
      "cell_type": "code",
      "source": [
        "label_encoder_marital=LabelEncoder()"
      ],
      "metadata": {
        "id": "5H6UOpnSFGQF"
      },
      "execution_count": 57,
      "outputs": []
    },
    {
      "cell_type": "code",
      "source": [
        "label_encoder_relationship=LabelEncoder()"
      ],
      "metadata": {
        "id": "qDOLB6zsFJEC"
      },
      "execution_count": 58,
      "outputs": []
    },
    {
      "cell_type": "code",
      "source": [
        "label_encoder_race=LabelEncoder()"
      ],
      "metadata": {
        "id": "ijsDyFxqFOMV"
      },
      "execution_count": 59,
      "outputs": []
    },
    {
      "cell_type": "code",
      "source": [
        "label_encoder_sex=LabelEncoder()"
      ],
      "metadata": {
        "id": "-ghz6QPpFQ5U"
      },
      "execution_count": 60,
      "outputs": []
    },
    {
      "cell_type": "code",
      "source": [
        "label_encoder_country=LabelEncoder()"
      ],
      "metadata": {
        "id": "A8sf29C7FUaF"
      },
      "execution_count": 61,
      "outputs": []
    },
    {
      "cell_type": "code",
      "source": [
        "x_censo[:,1] = label_encoder_workclass.fit_transform(x_censo[:,1])"
      ],
      "metadata": {
        "id": "hf2I1vb_FexA"
      },
      "execution_count": 62,
      "outputs": []
    },
    {
      "cell_type": "code",
      "source": [
        "x_censo[:,3] = label_encoder_education.fit_transform(x_censo[:,3])"
      ],
      "metadata": {
        "id": "sJ2sc9LSGTki"
      },
      "execution_count": 63,
      "outputs": []
    },
    {
      "cell_type": "code",
      "source": [
        "x_censo[:,5] = label_encoder_marital.fit_transform(x_censo[:,5])"
      ],
      "metadata": {
        "id": "-W-NqibaHVJ3"
      },
      "execution_count": 64,
      "outputs": []
    },
    {
      "cell_type": "code",
      "source": [
        "x_censo[:,6] = label_encoder_occupation.fit_transform(x_censo[:,6])"
      ],
      "metadata": {
        "id": "CReO9MWmHb5P"
      },
      "execution_count": 71,
      "outputs": []
    },
    {
      "cell_type": "code",
      "source": [
        "x_censo[:,7] = label_encoder_relationship.fit_transform(x_censo[:,7])"
      ],
      "metadata": {
        "id": "Dj54qqmcHiLW"
      },
      "execution_count": 73,
      "outputs": []
    },
    {
      "cell_type": "code",
      "source": [
        "x_censo[:,8] = label_encoder_race.fit_transform(x_censo[:,8])"
      ],
      "metadata": {
        "id": "Pl8HP4-KIFBq"
      },
      "execution_count": 74,
      "outputs": []
    },
    {
      "cell_type": "code",
      "source": [
        "x_censo[:,9] = label_encoder_sex.fit_transform(x_censo[:,9])"
      ],
      "metadata": {
        "id": "b2T5Tv8FIR-N"
      },
      "execution_count": 75,
      "outputs": []
    },
    {
      "cell_type": "code",
      "source": [
        "x_censo[:,13] = label_encoder_country.fit_transform(x_censo[:,13])"
      ],
      "metadata": {
        "id": "u2TqxICcISib"
      },
      "execution_count": 76,
      "outputs": []
    },
    {
      "cell_type": "code",
      "source": [
        "from sklearn.preprocessing  import OneHotEncoder\n",
        "from sklearn.compose import ColumnTransformer"
      ],
      "metadata": {
        "id": "8RkE1JXLIosy"
      },
      "execution_count": 80,
      "outputs": []
    },
    {
      "cell_type": "code",
      "source": [
        "onehotencoder_censo = ColumnTransformer(transformers = [('OneHot', OneHotEncoder(),[1,3,5,6,7,8,9,13])], remainder = 'passthrough')"
      ],
      "metadata": {
        "id": "PFtTr7-dJTuC"
      },
      "execution_count": 89,
      "outputs": []
    },
    {
      "cell_type": "code",
      "source": [
        "x_censo = onehotencoder_censo.fit_transform(x_censo).toarray()"
      ],
      "metadata": {
        "id": "GZW6CvF8MTCS"
      },
      "execution_count": 90,
      "outputs": []
    },
    {
      "cell_type": "code",
      "source": [
        "x_censo.shape"
      ],
      "metadata": {
        "colab": {
          "base_uri": "https://localhost:8080/"
        },
        "id": "PQtA1KH-Mvhu",
        "outputId": "e489cdbc-05ed-4b93-f0e9-9ad42f81fc88"
      },
      "execution_count": 93,
      "outputs": [
        {
          "output_type": "execute_result",
          "data": {
            "text/plain": [
              "(32561, 108)"
            ]
          },
          "metadata": {},
          "execution_count": 93
        }
      ]
    }
  ]
}