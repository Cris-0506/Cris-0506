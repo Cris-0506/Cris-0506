{
  "nbformat": 4,
  "nbformat_minor": 0,
  "metadata": {
    "colab": {
      "provenance": [],
      "collapsed_sections": [],
      "mount_file_id": "1AizVNGv5rPaCO230XwP4cMSi_dRkGTvH",
      "authorship_tag": "ABX9TyPz0F5hanVZ83Q8z3z6tzd4",
      "include_colab_link": true
    },
    "kernelspec": {
      "name": "python3",
      "display_name": "Python 3"
    },
    "language_info": {
      "name": "python"
    }
  },
  "cells": [
    {
      "cell_type": "markdown",
      "metadata": {
        "id": "view-in-github",
        "colab_type": "text"
      },
      "source": [
        "<a href=\"https://colab.research.google.com/github/Cris-0506/Cris-0506/blob/main/Projeto_Enem_2019_SP.ipynb\" target=\"_parent\"><img src=\"https://colab.research.google.com/assets/colab-badge.svg\" alt=\"Open In Colab\"/></a>"
      ]
    },
    {
      "cell_type": "markdown",
      "source": [
        "Projeto Enem 2019 - São Paulo /\n",
        "Dados disponíveis no site do Inep (http://inep.gov.br/microdados)"
      ],
      "metadata": {
        "id": "gkf4-gGIxXtX"
      }
    },
    {
      "cell_type": "markdown",
      "source": [
        "Objetivo: Analisar o desempenho entre os vestibulandos de escolas públicas e privadas do Estado de São Paulo classificados na prova do Enem de 2019. "
      ],
      "metadata": {
        "id": "QbglPwKOK-wI"
      }
    },
    {
      "cell_type": "code",
      "source": [
        "import numpy as np\n",
        "import pandas as pd\n"
      ],
      "metadata": {
        "id": "xnfbBYq9IaDC"
      },
      "execution_count": 1,
      "outputs": []
    },
    {
      "cell_type": "code",
      "source": [
        "dados = pd.read_csv('/content/microdados_enem_2019_sp.csv', sep=';', encoding = 'iso-8859-1')"
      ],
      "metadata": {
        "id": "X6mlxE-8Ij3_"
      },
      "execution_count": 2,
      "outputs": []
    },
    {
      "cell_type": "code",
      "source": [
        "dados.head()"
      ],
      "metadata": {
        "id": "dSZGZNXpJS1i"
      },
      "execution_count": null,
      "outputs": []
    },
    {
      "cell_type": "code",
      "source": [
        "dados.shape"
      ],
      "metadata": {
        "id": "pth_aTsGJzNo",
        "colab": {
          "base_uri": "https://localhost:8080/"
        },
        "outputId": "a28b6c33-0c80-4687-fcb1-a1eafc8f0e8d"
      },
      "execution_count": 4,
      "outputs": [
        {
          "output_type": "execute_result",
          "data": {
            "text/plain": [
              "(70833, 44)"
            ]
          },
          "metadata": {},
          "execution_count": 4
        }
      ]
    },
    {
      "cell_type": "code",
      "source": [
        "dados.dtypes"
      ],
      "metadata": {
        "id": "-uq_Q942ON53"
      },
      "execution_count": null,
      "outputs": []
    },
    {
      "cell_type": "code",
      "source": [
        "# Removendo colunas com dados que não serão utilizados na análise.\n",
        "\n",
        "dados1 = dados.drop(columns = ['NU_INSCRICAO', 'CO_UF_RESIDENCIA','SG_UF_RESIDENCIA', 'TP_ESTADO_CIVIL'])"
      ],
      "metadata": {
        "id": "cIPrzUl-Ps4r"
      },
      "execution_count": 6,
      "outputs": []
    },
    {
      "cell_type": "code",
      "source": [
        "dados1 = dados1.drop(columns = ['TP_NACIONALIDADE','CO_MUNICIPIO_NASCIMENTO', 'NO_MUNICIPIO_NASCIMENTO', 'CO_UF_NASCIMENTO', 'SG_UF_NASCIMENTO'])"
      ],
      "metadata": {
        "id": "K6VIH1lBTFJt"
      },
      "execution_count": 7,
      "outputs": []
    },
    {
      "cell_type": "code",
      "source": [
        "dados1 = dados1.drop(columns = ['TP_ST_CONCLUSAO', 'TP_ANO_CONCLUIU', 'TP_ENSINO'])"
      ],
      "metadata": {
        "id": "GFMMG2cFXcEK"
      },
      "execution_count": 8,
      "outputs": []
    },
    {
      "cell_type": "code",
      "source": [
        "dados1.shape"
      ],
      "metadata": {
        "id": "hUweMKl4ZtI9",
        "colab": {
          "base_uri": "https://localhost:8080/"
        },
        "outputId": "4f7b177c-9f1f-4e45-c6b5-f80b1a9039fb"
      },
      "execution_count": 9,
      "outputs": [
        {
          "output_type": "execute_result",
          "data": {
            "text/plain": [
              "(70833, 32)"
            ]
          },
          "metadata": {},
          "execution_count": 9
        }
      ]
    },
    {
      "cell_type": "code",
      "source": [
        "# Renomeando as variáveis\n",
        "\n",
        "dados1 = dados1.rename (columns = {'NU_IDADE':'IDADE', 'TP_SEXO':'SEXO', 'TP_COR_RACA':'RACA','Q025': 'INTERNET'})"
      ],
      "metadata": {
        "id": "hQhi_NoHaC5a"
      },
      "execution_count": 10,
      "outputs": []
    },
    {
      "cell_type": "code",
      "source": [
        "dados1 = dados1.rename (columns = {'NU_NOTA_REDACAO': 'NOTA_REDACAO', 'NU_NOTA_CN': 'NOTA_CN', 'NU_NOTA_CH': 'NOTA_CH', 'NU_NOTA_LC':'NOTA_LC', 'NU_NOTA_MT': 'NOTA_MT'})"
      ],
      "metadata": {
        "id": "Q2AvqDcUb6O9"
      },
      "execution_count": 11,
      "outputs": []
    },
    {
      "cell_type": "code",
      "source": [
        "dados1 = dados1.rename (columns = {'TP_ESCOLA':'ESCOLA', 'NU_NOTA_COMP1':'COMP1', 'NU_NOTA_COMP2': 'COMP2', 'NU_NOTA_COMP3': 'COMP3', 'NU_NOTA_COMP4': 'COMP4', 'NU_NOTA_COMP5': 'COMP5'})"
      ],
      "metadata": {
        "id": "-GVr8_GCdm_X"
      },
      "execution_count": 12,
      "outputs": []
    },
    {
      "cell_type": "code",
      "source": [
        "dados1.head()"
      ],
      "metadata": {
        "id": "Mw88ANhCek-2"
      },
      "execution_count": null,
      "outputs": []
    },
    {
      "cell_type": "code",
      "source": [
        "# A soma das notas deve dar no máximo 1000, mas algumas variáveis estão com as notas multiplicadas por 10 (MT, CL, CH e CN) e dessa forma necessitam de correção.\n",
        "\n",
        "dados1.loc [:,'NOTA_CN']/=10\n"
      ],
      "metadata": {
        "id": "I-Wfo5TNfSJZ"
      },
      "execution_count": 14,
      "outputs": []
    },
    {
      "cell_type": "code",
      "source": [
        "dados1.loc [:,'NOTA_CH']/=10\n"
      ],
      "metadata": {
        "id": "o49gIGFzjHMl"
      },
      "execution_count": 15,
      "outputs": []
    },
    {
      "cell_type": "code",
      "source": [
        "dados1.loc [:,'NOTA_MT']/=10\n"
      ],
      "metadata": {
        "id": "-DuN6sVejGDE"
      },
      "execution_count": 16,
      "outputs": []
    },
    {
      "cell_type": "code",
      "source": [
        "dados1.loc [:,'NOTA_LC']/=10"
      ],
      "metadata": {
        "id": "YoU5acIpjm3-"
      },
      "execution_count": 17,
      "outputs": []
    },
    {
      "cell_type": "code",
      "source": [
        "dados1.head()"
      ],
      "metadata": {
        "id": "yEm6ReaBkbmD"
      },
      "execution_count": null,
      "outputs": []
    },
    {
      "cell_type": "code",
      "source": [
        "# Os registros de algumas variáveis qualitativas estão na forma de códigos numéricos, é necessário renomear esses registros.\n",
        "\n",
        "dados1['RACA']= dados1['RACA'].replace ({0:'Não declarado', 1: 'Branca', 2: 'Preta', 3: 'Parda', 4: 'Amarela', 5: 'Indígena'})"
      ],
      "metadata": {
        "id": "o6Ne-hPQk7xU"
      },
      "execution_count": 19,
      "outputs": []
    },
    {
      "cell_type": "code",
      "source": [
        "dados1['ESCOLA'] = dados1['ESCOLA'].replace({1:'Nao respondeu', 2: 'Pública', 3: 'Privada', 4:'Exterior'})"
      ],
      "metadata": {
        "id": "VgJjD-PenOmJ"
      },
      "execution_count": 20,
      "outputs": []
    },
    {
      "cell_type": "code",
      "source": [
        "dados1['INTERNET'] = dados1['INTERNET'].replace({'A': 'Não', 'B': 'Sim'})"
      ],
      "metadata": {
        "id": "dnqYVCxToBEb"
      },
      "execution_count": 21,
      "outputs": []
    },
    {
      "cell_type": "code",
      "source": [
        "dados1['IDADE'].value_counts()"
      ],
      "metadata": {
        "id": "Vm2Mu5K7ptQE"
      },
      "execution_count": null,
      "outputs": []
    },
    {
      "cell_type": "code",
      "source": [
        "# O Enem pode ser feito por alunos do primeiro e segundo colegial como treineiros, porém serão utilizados somente os dados dos vestibulandos, ou seja, acima de 18 anos. \n",
        "vestibulandos = dados1.loc[dados1.IDADE>18]\n"
      ],
      "metadata": {
        "id": "qq44U4i5qgjR"
      },
      "execution_count": 23,
      "outputs": []
    },
    {
      "cell_type": "code",
      "source": [
        "vestibulandos.head()"
      ],
      "metadata": {
        "id": "aXCUBsXp0zOf"
      },
      "execution_count": null,
      "outputs": []
    },
    {
      "cell_type": "code",
      "source": [
        "# Averiguando se há algum treineiro acima de 18 anos. Registro: 1 (é treineiro) e 0 (não é treineiro) \n",
        "vestibulandos.query('IN_TREINEIRO == 1')['IN_TREINEIRO'].value_counts()"
      ],
      "metadata": {
        "id": "C8DhZeCLzFRM",
        "colab": {
          "base_uri": "https://localhost:8080/"
        },
        "outputId": "144b4003-02a1-46f1-b5fe-7a64fea21413"
      },
      "execution_count": 25,
      "outputs": [
        {
          "output_type": "execute_result",
          "data": {
            "text/plain": [
              "1    68\n",
              "Name: IN_TREINEIRO, dtype: int64"
            ]
          },
          "metadata": {},
          "execution_count": 25
        }
      ]
    },
    {
      "cell_type": "code",
      "source": [
        "# Excluindo os treineiros do DataFrame vestibulandos.\n",
        "vestibulandos = vestibulandos.loc[vestibulandos.IN_TREINEIRO == 0]"
      ],
      "metadata": {
        "id": "Cxqe7FZ61w-8"
      },
      "execution_count": 26,
      "outputs": []
    },
    {
      "cell_type": "code",
      "source": [
        "vestibulandos.shape"
      ],
      "metadata": {
        "colab": {
          "base_uri": "https://localhost:8080/"
        },
        "id": "pVEmfpi42i61",
        "outputId": "bc0a0e31-cfdf-4a8b-837d-f9c4f478eec9"
      },
      "execution_count": 27,
      "outputs": [
        {
          "output_type": "execute_result",
          "data": {
            "text/plain": [
              "(31199, 32)"
            ]
          },
          "metadata": {},
          "execution_count": 27
        }
      ]
    },
    {
      "cell_type": "code",
      "source": [
        "# A análise será feita utilizando somente os dados dos vestibulandos classificados. As provas LC, CH e redação foram feitas no mesmo dia, CN e MT em outro dia.\n",
        "# Assim, o aluno perde mais de uma prova caso falte um dia.\n",
        "# Registros: 0 = faltou; 1 = classificado; 2 = desclassificado\n",
        "classificados = vestibulandos.loc[vestibulandos.TP_PRESENCA_CH == 1]\n"
      ],
      "metadata": {
        "id": "aV92d_WP3Lb0"
      },
      "execution_count": 28,
      "outputs": []
    },
    {
      "cell_type": "code",
      "source": [
        "classificados = classificados.loc[classificados.TP_PRESENCA_MT == 1]"
      ],
      "metadata": {
        "id": "lHLPjRnO538j"
      },
      "execution_count": 29,
      "outputs": []
    },
    {
      "cell_type": "code",
      "source": [
        "classificados.isnull().sum()"
      ],
      "metadata": {
        "id": "dZq-gi3N7HFv"
      },
      "execution_count": null,
      "outputs": []
    },
    {
      "cell_type": "code",
      "source": [
        "# Removendo demais colunas que não serão utilizadas nas análises\n",
        "classificados = classificados.drop(columns = ['CO_MUNICIPIO_ESC', 'NO_MUNICIPIO_ESC', 'CO_UF_ESC', 'SG_UF_ESC', 'TP_DEPENDENCIA_ADM_ESC', 'TP_LOCALIZACAO_ESC', 'TP_SIT_FUNC_ESC'])\n"
      ],
      "metadata": {
        "id": "J7Je9I9z97to"
      },
      "execution_count": 31,
      "outputs": []
    },
    {
      "cell_type": "code",
      "source": [
        "classificados.head()"
      ],
      "metadata": {
        "id": "-y2ZtctA_a3p"
      },
      "execution_count": null,
      "outputs": []
    },
    {
      "cell_type": "code",
      "source": [
        "classificados.shape"
      ],
      "metadata": {
        "id": "goy9-bNIBlSY",
        "colab": {
          "base_uri": "https://localhost:8080/"
        },
        "outputId": "c95683c0-230a-4844-b59e-f3304f2c6c19"
      },
      "execution_count": 33,
      "outputs": [
        {
          "output_type": "execute_result",
          "data": {
            "text/plain": [
              "(18989, 25)"
            ]
          },
          "metadata": {},
          "execution_count": 33
        }
      ]
    },
    {
      "cell_type": "code",
      "source": [
        "from IPython.utils.sysinfo import encoding\n",
        "classificados.to_csv('enem_sp_2019.csv', sep = ';', encoding = 'iso-8859-1', index=False)"
      ],
      "metadata": {
        "id": "E7APWdlS_niE"
      },
      "execution_count": 34,
      "outputs": []
    },
    {
      "cell_type": "markdown",
      "source": [
        "Amostragem aleatória simples"
      ],
      "metadata": {
        "id": "P0wt4yhrGDvi"
      }
    },
    {
      "cell_type": "code",
      "source": [
        "enem_sp = pd.read_csv('/content/enem_sp_2019.csv', sep = ';', encoding = 'iso-8859-1')"
      ],
      "metadata": {
        "id": "6yA63V3FELeT"
      },
      "execution_count": 35,
      "outputs": []
    },
    {
      "cell_type": "code",
      "source": [
        "np.random.seed(1)"
      ],
      "metadata": {
        "id": "gYibH6RxFfZq"
      },
      "execution_count": 36,
      "outputs": []
    },
    {
      "cell_type": "code",
      "source": [
        "amos_simples = enem_sp.sample (3500)"
      ],
      "metadata": {
        "id": "WrRUj9X2GLPo"
      },
      "execution_count": 37,
      "outputs": []
    },
    {
      "cell_type": "code",
      "source": [
        "amos_simples.shape"
      ],
      "metadata": {
        "id": "k5-qWJTGHFo-",
        "colab": {
          "base_uri": "https://localhost:8080/"
        },
        "outputId": "25863d0d-ead9-406a-ae65-e563d3b48076"
      },
      "execution_count": 38,
      "outputs": [
        {
          "output_type": "execute_result",
          "data": {
            "text/plain": [
              "(3500, 25)"
            ]
          },
          "metadata": {},
          "execution_count": 38
        }
      ]
    },
    {
      "cell_type": "code",
      "source": [
        "dados_enem = amos_simples"
      ],
      "metadata": {
        "id": "-4JD-7KAHPN-"
      },
      "execution_count": 39,
      "outputs": []
    },
    {
      "cell_type": "code",
      "source": [
        "dados_enem.describe"
      ],
      "metadata": {
        "id": "omcYLdvLIKgY"
      },
      "execution_count": null,
      "outputs": []
    },
    {
      "cell_type": "code",
      "source": [
        "dados_enem = dados_enem.drop(columns=['CO_ESCOLA'])"
      ],
      "metadata": {
        "id": "qGJ9bE6pIge4"
      },
      "execution_count": 41,
      "outputs": []
    },
    {
      "cell_type": "code",
      "source": [
        "dados_enem.dtypes"
      ],
      "metadata": {
        "id": "5oVpGH-LI-3T"
      },
      "execution_count": null,
      "outputs": []
    },
    {
      "cell_type": "markdown",
      "source": [
        "1. Análise da Nota de Redação"
      ],
      "metadata": {
        "id": "w0l2ZOeYLlR1"
      }
    },
    {
      "cell_type": "code",
      "source": [
        "import plotly.express as px"
      ],
      "metadata": {
        "id": "8UEEkzQQJhHt"
      },
      "execution_count": 43,
      "outputs": []
    },
    {
      "cell_type": "code",
      "source": [
        "import seaborn as sns"
      ],
      "metadata": {
        "id": "UdzU_nV_N8yy"
      },
      "execution_count": 44,
      "outputs": []
    },
    {
      "cell_type": "code",
      "source": [
        "import scipy.stats as stats\n",
        "import matplotlib.pyplot as plt"
      ],
      "metadata": {
        "id": "99k32lhCOw1x"
      },
      "execution_count": 45,
      "outputs": []
    },
    {
      "cell_type": "code",
      "source": [
        "escola_publica = dados_enem.loc[dados_enem.ESCOLA=='Pública']"
      ],
      "metadata": {
        "id": "VLtlbSjDUF5D"
      },
      "execution_count": 46,
      "outputs": []
    },
    {
      "cell_type": "code",
      "source": [
        "escola_publica.shape"
      ],
      "metadata": {
        "id": "OM0mCg7eWoH6",
        "colab": {
          "base_uri": "https://localhost:8080/"
        },
        "outputId": "7261bba5-559b-48f7-d323-e70e83ecc95f"
      },
      "execution_count": 47,
      "outputs": [
        {
          "output_type": "execute_result",
          "data": {
            "text/plain": [
              "(165, 24)"
            ]
          },
          "metadata": {},
          "execution_count": 47
        }
      ]
    },
    {
      "cell_type": "code",
      "source": [
        "escola_privada = dados_enem.loc[dados_enem.ESCOLA=='Privada']"
      ],
      "metadata": {
        "id": "MXorT_Z3WOVB"
      },
      "execution_count": 48,
      "outputs": []
    },
    {
      "cell_type": "code",
      "source": [
        "escola_privada.shape"
      ],
      "metadata": {
        "id": "QmWR2Xh5Wtut",
        "colab": {
          "base_uri": "https://localhost:8080/"
        },
        "outputId": "36e4e223-5b96-49f9-8fca-b216afd5f97e"
      },
      "execution_count": 49,
      "outputs": [
        {
          "output_type": "execute_result",
          "data": {
            "text/plain": [
              "(29, 24)"
            ]
          },
          "metadata": {},
          "execution_count": 49
        }
      ]
    },
    {
      "cell_type": "code",
      "source": [
        "stats.shapiro(escola_publica.NOTA_REDACAO)"
      ],
      "metadata": {
        "colab": {
          "base_uri": "https://localhost:8080/"
        },
        "id": "SvAKj_36XcDs",
        "outputId": "dc31dbb1-5799-426d-c75f-766dc00d3a87"
      },
      "execution_count": 50,
      "outputs": [
        {
          "output_type": "execute_result",
          "data": {
            "text/plain": [
              "ShapiroResult(statistic=0.9086031913757324, pvalue=1.2533441839934767e-08)"
            ]
          },
          "metadata": {},
          "execution_count": 50
        }
      ]
    },
    {
      "cell_type": "code",
      "source": [
        "stats.shapiro(escola_privada.NOTA_REDACAO)"
      ],
      "metadata": {
        "colab": {
          "base_uri": "https://localhost:8080/"
        },
        "id": "4Sq_zwbpXwbg",
        "outputId": "d01f47aa-cb16-450d-c4e3-53e5f0ba6738"
      },
      "execution_count": 51,
      "outputs": [
        {
          "output_type": "execute_result",
          "data": {
            "text/plain": [
              "ShapiroResult(statistic=0.8670300245285034, pvalue=0.0017389527056366205)"
            ]
          },
          "metadata": {},
          "execution_count": 51
        }
      ]
    },
    {
      "cell_type": "code",
      "source": [
        "# A distribuição das médias das escolas públicas não é normal, dessa maneira é necessário usar um teste não-paramétrico. \n",
        "# Observando esses resultados em histograma e gráfico QQ Plot."
      ],
      "metadata": {
        "id": "te7cG7zZYHYy"
      },
      "execution_count": 52,
      "outputs": []
    },
    {
      "cell_type": "code",
      "source": [
        "stats.probplot(escola_publica['NOTA_REDACAO'], dist='norm', plot=plt)\n",
        "plt.title('Normal QQ Plot - Escola Pública')\n",
        "plt.show()"
      ],
      "metadata": {
        "id": "7mJVN11bYvS-"
      },
      "execution_count": null,
      "outputs": []
    },
    {
      "cell_type": "code",
      "source": [
        "stats.probplot(escola_privada['NOTA_REDACAO'], dist='norm', plot=plt)\n",
        "plt.title('Normal QQ Plot - Escola Privada')\n",
        "plt.show()"
      ],
      "metadata": {
        "id": "0wrN4MqpZYr1"
      },
      "execution_count": null,
      "outputs": []
    },
    {
      "cell_type": "code",
      "source": [
        "from seaborn.distributions import histplot\n",
        "sns.histplot(escola_publica, x='NOTA_REDACAO', bins=10, color='orange', kde=True, stat='probability')"
      ],
      "metadata": {
        "id": "2vfITrwB1NTb"
      },
      "execution_count": null,
      "outputs": []
    },
    {
      "cell_type": "code",
      "source": [
        "sns.histplot(escola_privada, x='NOTA_REDACAO', bins=10, color='orange', kde=True, stat='probability')"
      ],
      "metadata": {
        "id": "_Gs91T_k2JTu"
      },
      "execution_count": null,
      "outputs": []
    },
    {
      "cell_type": "markdown",
      "source": [
        "Objetivo: analisar as medianas das notas de redação das escolas públicas e privadas.\n",
        "*  H0: não há diferença entre as medianas (p>0,05). \n",
        "*  Ha: há diferença entre as medianas (p<=0,05).\n",
        "\n"
      ],
      "metadata": {
        "id": "9V2_9TEfbGA_"
      }
    },
    {
      "cell_type": "code",
      "source": [
        "# Teste não paramétrico de Mann-Whitney\n",
        "stat, p = stats.mannwhitneyu(escola_publica.NOTA_REDACAO, escola_privada.NOTA_REDACAO)\n",
        "print('Estatística do Teste: {}:'.format(stat.round(2)))\n",
        "print('p-valor:{}'.format(p))"
      ],
      "metadata": {
        "id": "rG-qwRVMccvN",
        "colab": {
          "base_uri": "https://localhost:8080/"
        },
        "outputId": "f59fa88e-14d7-458d-9f51-2133d50449bb"
      },
      "execution_count": 57,
      "outputs": [
        {
          "output_type": "stream",
          "name": "stdout",
          "text": [
            "Estatística do Teste: 1855.0:\n",
            "p-valor:0.05372625743170889\n"
          ]
        }
      ]
    },
    {
      "cell_type": "code",
      "source": [
        "escola_publica.median()"
      ],
      "metadata": {
        "id": "1pwr3s9SGs1-"
      },
      "execution_count": null,
      "outputs": []
    },
    {
      "cell_type": "code",
      "source": [
        "escola_privada.median()"
      ],
      "metadata": {
        "id": "pEB4sz_qGtoj"
      },
      "execution_count": null,
      "outputs": []
    },
    {
      "cell_type": "markdown",
      "source": [
        "Conclusão: Considerando o intervalo de confiança de 95%, não podemos concluir que exista diferença entre as medianas das notas de redação entre escolas públicas e privadas.\n",
        "Não rejeita H0.\n",
        "\n",
        "\n",
        "*   Mediana escola privada = 560\n",
        "*   Mediana escola pública = 520\n",
        "\n"
      ],
      "metadata": {
        "id": "0GTyRYsWdv8c"
      }
    },
    {
      "cell_type": "markdown",
      "source": [
        "2. Análise da Nota de Matemática"
      ],
      "metadata": {
        "id": "9Pt4XwE_fJ7t"
      }
    },
    {
      "cell_type": "code",
      "source": [
        "stats.shapiro(escola_publica.NOTA_MT)"
      ],
      "metadata": {
        "colab": {
          "base_uri": "https://localhost:8080/"
        },
        "id": "1vveAelumw3i",
        "outputId": "a3c3368c-3d6b-4e45-dddf-d9fec1865684"
      },
      "execution_count": 60,
      "outputs": [
        {
          "output_type": "execute_result",
          "data": {
            "text/plain": [
              "ShapiroResult(statistic=0.85226970911026, pvalue=1.307145277434918e-11)"
            ]
          },
          "metadata": {},
          "execution_count": 60
        }
      ]
    },
    {
      "cell_type": "code",
      "source": [
        "stats.shapiro(escola_privada.NOTA_MT)"
      ],
      "metadata": {
        "colab": {
          "base_uri": "https://localhost:8080/"
        },
        "id": "ngUMNyMmoOc3",
        "outputId": "8dc48e2b-5f6d-4101-f827-0c0405a64325"
      },
      "execution_count": 61,
      "outputs": [
        {
          "output_type": "execute_result",
          "data": {
            "text/plain": [
              "ShapiroResult(statistic=0.9106526374816895, pvalue=0.017793038859963417)"
            ]
          },
          "metadata": {},
          "execution_count": 61
        }
      ]
    },
    {
      "cell_type": "code",
      "source": [
        "# A distribuição das notas matemática de escolas públicas não é normal, dessa forma será necessário um teste não paramétrico.\n",
        "# Observação dos dados nos gráficos QQ Plot e histograma."
      ],
      "metadata": {
        "id": "QTsg-j7ptxt5"
      },
      "execution_count": 62,
      "outputs": []
    },
    {
      "cell_type": "code",
      "source": [
        "stats.probplot(escola_publica['NOTA_MT'], dist='norm', plot=plt)\n",
        "plt.title('Normal QQ Plot - Escola Pública - Matemática')\n",
        "plt.show()"
      ],
      "metadata": {
        "id": "DcDRWpWlvZwf"
      },
      "execution_count": null,
      "outputs": []
    },
    {
      "cell_type": "code",
      "source": [
        "stats.probplot(escola_privada['NOTA_MT'], dist='norm', plot=plt)\n",
        "plt.title('Normal QQ Plot - Escola Privada - Matemática')\n",
        "plt.show()"
      ],
      "metadata": {
        "id": "_OeYzudjwTqt"
      },
      "execution_count": null,
      "outputs": []
    },
    {
      "cell_type": "code",
      "source": [
        "sns.histplot(escola_privada, x='NOTA_MT', bins=10, color='orange', kde=True, stat='probability')"
      ],
      "metadata": {
        "id": "c2u2E0xz29Gl"
      },
      "execution_count": null,
      "outputs": []
    },
    {
      "cell_type": "code",
      "source": [
        "sns.histplot(escola_privada, x='NOTA_MT', bins=10, color='orange', kde=True, stat='probability')"
      ],
      "metadata": {
        "id": "4OMyTWfn3EXg"
      },
      "execution_count": null,
      "outputs": []
    },
    {
      "cell_type": "markdown",
      "source": [
        "Objetivo: Analisar se há diferença nas medianas das notas de matemática entre escolas públicas e privadas.\n",
        "\n",
        "\n",
        "*   H0: Não existe diferença (p>0,05)\n",
        "*   Ha: Existe diferença (p<=0,05)\n",
        "\n"
      ],
      "metadata": {
        "id": "fWovJf-amSmr"
      }
    },
    {
      "cell_type": "code",
      "source": [
        "stat, p=stats.mannwhitneyu(escola_publica.NOTA_MT, escola_privada.NOTA_MT)\n",
        "print('Estatística do Teste: {}'.format(stat.round(2)))\n",
        "print('p-valor:{}'.format(p))"
      ],
      "metadata": {
        "colab": {
          "base_uri": "https://localhost:8080/"
        },
        "id": "olVbaFDIpMrV",
        "outputId": "f3101541-0735-47ed-9a81-7cfcd7f36285"
      },
      "execution_count": 67,
      "outputs": [
        {
          "output_type": "stream",
          "name": "stdout",
          "text": [
            "Estatística do Teste: 1982.0\n",
            "p-valor:0.14147064021214475\n"
          ]
        }
      ]
    },
    {
      "cell_type": "code",
      "source": [
        "escola_publica.median()"
      ],
      "metadata": {
        "id": "PXIBZMwr9VsC"
      },
      "execution_count": null,
      "outputs": []
    },
    {
      "cell_type": "code",
      "source": [
        "escola_privada.median()"
      ],
      "metadata": {
        "id": "6RNO2EyA9aMn"
      },
      "execution_count": null,
      "outputs": []
    },
    {
      "cell_type": "markdown",
      "source": [
        "Conclusão: Considerando o intervalo de confiança de 95%, podemos concluir que existe diferença entre as medianas das notas de matemática entre escolas públicas e privadas. Rejeita H0. O desempenho dos alunos de escolas privadas na prova de matemática foi superior ao de escolas públicas.\n",
        " \n",
        "\n",
        "*   Mediana escola privada = 538,8\n",
        "*   Mediana escola pública = 455,3\n",
        "\n"
      ],
      "metadata": {
        "id": "riouYfhlw0wO"
      }
    },
    {
      "cell_type": "markdown",
      "source": [
        "3. Análise da Nota de Ciências Naturais"
      ],
      "metadata": {
        "id": "EU-mkofAxfpB"
      }
    },
    {
      "cell_type": "code",
      "source": [
        "stats.shapiro(escola_publica.NOTA_CN)"
      ],
      "metadata": {
        "colab": {
          "base_uri": "https://localhost:8080/"
        },
        "id": "dYKTFtll3i-J",
        "outputId": "07620eae-8a17-4250-eafc-3a22d8cd13bd"
      },
      "execution_count": 70,
      "outputs": [
        {
          "output_type": "execute_result",
          "data": {
            "text/plain": [
              "ShapiroResult(statistic=0.772907555103302, pvalue=1.0333017603993307e-14)"
            ]
          },
          "metadata": {},
          "execution_count": 70
        }
      ]
    },
    {
      "cell_type": "code",
      "source": [
        "stats.shapiro(escola_privada.NOTA_CN)"
      ],
      "metadata": {
        "colab": {
          "base_uri": "https://localhost:8080/"
        },
        "id": "Wy9VfIhL3jhR",
        "outputId": "1504a206-bd68-44de-9afb-d9f79798767e"
      },
      "execution_count": 71,
      "outputs": [
        {
          "output_type": "execute_result",
          "data": {
            "text/plain": [
              "ShapiroResult(statistic=0.7317918539047241, pvalue=6.219795523065841e-06)"
            ]
          },
          "metadata": {},
          "execution_count": 71
        }
      ]
    },
    {
      "cell_type": "code",
      "source": [
        "# A distribuição das notas ciências naturais de escolas públicas não é normal, dessa forma será necessário um teste não paramétrico.\n",
        "# Observação dos dados nos gráficos QQ Plot e histograma."
      ],
      "metadata": {
        "id": "UpTXzFt83-yl"
      },
      "execution_count": 72,
      "outputs": []
    },
    {
      "cell_type": "code",
      "source": [
        "stats.probplot(escola_publica['NOTA_CN'], dist='norm', plot=plt)\n",
        "plt.title('Normal QQ Plot - Escola Pública - Ciências Naturais')\n",
        "plt.show()"
      ],
      "metadata": {
        "id": "L12YkF_X4GsC"
      },
      "execution_count": null,
      "outputs": []
    },
    {
      "cell_type": "code",
      "source": [
        "stats.probplot(escola_privada['NOTA_CN'], dist='norm', plot=plt)\n",
        "plt.title('Normal QQ Plot - Escola Privada - Ciências Naturais')\n",
        "plt.show()"
      ],
      "metadata": {
        "id": "wqoxqFJf4PT5"
      },
      "execution_count": null,
      "outputs": []
    },
    {
      "cell_type": "code",
      "source": [
        "sns.histplot(escola_publica, x='NOTA_CN', bins=10, color='purple', kde=True, stat='probability')"
      ],
      "metadata": {
        "id": "GpxQvc644cBn"
      },
      "execution_count": null,
      "outputs": []
    },
    {
      "cell_type": "code",
      "source": [
        "sns.histplot(escola_privada, x='NOTA_CN', bins=10, color='purple', kde=True, stat='probability')"
      ],
      "metadata": {
        "id": "_OG3MJKB4czM"
      },
      "execution_count": null,
      "outputs": []
    },
    {
      "cell_type": "markdown",
      "source": [
        "Objetivo: Analisar se há diferença nas medianas das notas de ciências naturais entre escolas públicas e privadas.\n",
        "\n",
        "*   H0: Não existe diferença (p>0,05)\n",
        "*   Ha: Existe diferença (p<=0,05)"
      ],
      "metadata": {
        "id": "7ijfqcuD40T_"
      }
    },
    {
      "cell_type": "code",
      "source": [
        "stat, p=stats.mannwhitneyu(escola_publica.NOTA_CN, escola_privada.NOTA_CN)\n",
        "print('Estatística do Teste: {}'.format(stat.round(2)))\n",
        "print('p-valor:{}'.format(p))"
      ],
      "metadata": {
        "colab": {
          "base_uri": "https://localhost:8080/"
        },
        "id": "491eklnX5LxP",
        "outputId": "f8f1c647-0d60-4ecf-862e-d6885c554489"
      },
      "execution_count": 77,
      "outputs": [
        {
          "output_type": "stream",
          "name": "stdout",
          "text": [
            "Estatística do Teste: 2096.5\n",
            "p-valor:0.2892716606266096\n"
          ]
        }
      ]
    },
    {
      "cell_type": "code",
      "source": [
        "escola_publica.median()"
      ],
      "metadata": {
        "id": "1gPYsUkG6WNF"
      },
      "execution_count": null,
      "outputs": []
    },
    {
      "cell_type": "code",
      "source": [
        "escola_privada.median()"
      ],
      "metadata": {
        "id": "MeSi8dnh6pqf"
      },
      "execution_count": null,
      "outputs": []
    },
    {
      "cell_type": "markdown",
      "source": [
        "Conclusão: Considerando o intervalo de confiança de 95%,podemos concluir que existe diferença entre as medianas das notas de ciências naturais entre escolas públicas e privadas. O desempenho dos alunos de escola privada foi melhor que dos alunos de escola pública.Rejeita H0.\n",
        "\n",
        "*  Mediana escola privada = 503,70\n",
        "*  Mediana escola pública = 433,20 \n"
      ],
      "metadata": {
        "id": "ZbHpIH1O51r5"
      }
    },
    {
      "cell_type": "markdown",
      "source": [
        "4. Análise da Nota de Linguagem e Códigos "
      ],
      "metadata": {
        "id": "rJ8PfIXS95D1"
      }
    },
    {
      "cell_type": "code",
      "source": [
        "stats.shapiro(escola_publica.NOTA_LC)"
      ],
      "metadata": {
        "id": "0IFJZSWP-MoX",
        "colab": {
          "base_uri": "https://localhost:8080/"
        },
        "outputId": "2c7f0210-a329-45f6-a85b-95eb17688391"
      },
      "execution_count": 80,
      "outputs": [
        {
          "output_type": "execute_result",
          "data": {
            "text/plain": [
              "ShapiroResult(statistic=0.6691642999649048, pvalue=9.184708292142787e-18)"
            ]
          },
          "metadata": {},
          "execution_count": 80
        }
      ]
    },
    {
      "cell_type": "code",
      "source": [
        "stats.shapiro(escola_privada.NOTA_LC)"
      ],
      "metadata": {
        "id": "b5_K6zSn-PLC",
        "colab": {
          "base_uri": "https://localhost:8080/"
        },
        "outputId": "4ffa586c-5b07-4196-90b2-8a74d7226ca6"
      },
      "execution_count": 81,
      "outputs": [
        {
          "output_type": "execute_result",
          "data": {
            "text/plain": [
              "ShapiroResult(statistic=0.6838060617446899, pvalue=1.2425335853549768e-06)"
            ]
          },
          "metadata": {},
          "execution_count": 81
        }
      ]
    },
    {
      "cell_type": "code",
      "source": [
        "stats.probplot(escola_publica['NOTA_LC'], dist='norm', plot=plt)\n",
        "plt.title('Normal QQ Plot - Escola Pública - Linguagens e Códigos')\n",
        "plt.show()"
      ],
      "metadata": {
        "id": "jzFGeEwy-ctX"
      },
      "execution_count": null,
      "outputs": []
    },
    {
      "cell_type": "code",
      "source": [
        "stats.probplot(escola_privada['NOTA_LC'], dist='norm', plot=plt)\n",
        "plt.title('Normal QQ Plot - Escola Privada - Linguagens e Códigos')\n",
        "plt.show()"
      ],
      "metadata": {
        "id": "DhIBg65v-j_j"
      },
      "execution_count": null,
      "outputs": []
    },
    {
      "cell_type": "code",
      "source": [
        "sns.histplot(escola_publica, x='NOTA_LC', bins=10, color='pink', kde=True, stat='probability')"
      ],
      "metadata": {
        "id": "5uU0vx3O-8hd"
      },
      "execution_count": null,
      "outputs": []
    },
    {
      "cell_type": "code",
      "source": [
        "sns.histplot(escola_privada, x='NOTA_LC', bins=10, color='pink', kde=True, stat='probability')"
      ],
      "metadata": {
        "id": "jBo61WzI_Bgs"
      },
      "execution_count": null,
      "outputs": []
    },
    {
      "cell_type": "markdown",
      "source": [
        "Objetivo: Analisar se há diferença nas medianas das notas de linguagens e códigos entre escolas públicas e privadas.\n",
        "\n",
        "\n",
        "*   H0: Não existe diferença (p>0,05)\n",
        "*   Ha: Existe diferença (p<=0,05)\n"
      ],
      "metadata": {
        "id": "wbNxDEok_R0u"
      }
    },
    {
      "cell_type": "code",
      "source": [
        "stat, p=stats.mannwhitneyu(escola_publica.NOTA_LC, escola_privada.NOTA_LC)\n",
        "print('Estatística do Teste: {}'.format(stat.round(2)))\n",
        "print('p-valor:{}'.format(p))"
      ],
      "metadata": {
        "id": "HKJkwMIK_qms",
        "colab": {
          "base_uri": "https://localhost:8080/"
        },
        "outputId": "e7087503-5440-44d1-f66f-d74ebd70bb92"
      },
      "execution_count": 86,
      "outputs": [
        {
          "output_type": "stream",
          "name": "stdout",
          "text": [
            "Estatística do Teste: 2184.5\n",
            "p-valor:0.4567950284713853\n"
          ]
        }
      ]
    },
    {
      "cell_type": "markdown",
      "source": [
        "Conclusão: Considerando o intervalo de confiança de 95%, não podemos concluir que exista diferença entre as medianas das notas de linguagens e códigos entre escolas públicas e privadas.\n",
        "Não rejeita H0.\n",
        "\n",
        "\n",
        "*   Mediana escola privada = 520,70\n",
        "*   Mediana escola publica = 507,35\n"
      ],
      "metadata": {
        "id": "FcH4LtTW_6IH"
      }
    },
    {
      "cell_type": "markdown",
      "source": [
        "5. Análise da nota de Ciências Humanas"
      ],
      "metadata": {
        "id": "yfIHtef5ADQQ"
      }
    },
    {
      "cell_type": "code",
      "source": [
        "stats.shapiro(escola_publica.NOTA_CH)"
      ],
      "metadata": {
        "id": "vhWnazFkAMo5",
        "colab": {
          "base_uri": "https://localhost:8080/"
        },
        "outputId": "5f3d85bc-78a2-4955-9e69-95c8625fccbf"
      },
      "execution_count": 87,
      "outputs": [
        {
          "output_type": "execute_result",
          "data": {
            "text/plain": [
              "ShapiroResult(statistic=0.7907549142837524, pvalue=4.328378001611406e-14)"
            ]
          },
          "metadata": {},
          "execution_count": 87
        }
      ]
    },
    {
      "cell_type": "code",
      "source": [
        "stats.shapiro(escola_privada.NOTA_CH)"
      ],
      "metadata": {
        "id": "zNPLxQXeARRQ",
        "colab": {
          "base_uri": "https://localhost:8080/"
        },
        "outputId": "84bf2239-a491-4489-97af-739f8927d61f"
      },
      "execution_count": 88,
      "outputs": [
        {
          "output_type": "execute_result",
          "data": {
            "text/plain": [
              "ShapiroResult(statistic=0.7545619606971741, pvalue=1.4153321899357252e-05)"
            ]
          },
          "metadata": {},
          "execution_count": 88
        }
      ]
    },
    {
      "cell_type": "code",
      "source": [
        "stats.probplot(escola_publica['NOTA_CH'], dist='norm', plot=plt)\n",
        "plt.title('Normal QQ Plot - Escola Pública - Ciências Humanas')\n",
        "plt.show()"
      ],
      "metadata": {
        "id": "n5UWKdNmAfQt"
      },
      "execution_count": null,
      "outputs": []
    },
    {
      "cell_type": "code",
      "source": [
        "stats.probplot(escola_privada['NOTA_CH'], dist='norm', plot=plt)\n",
        "plt.title('Normal QQ Plot - Escola Privada - Ciências Humanas')\n",
        "plt.show()"
      ],
      "metadata": {
        "id": "acgHnanGAmwC"
      },
      "execution_count": null,
      "outputs": []
    },
    {
      "cell_type": "code",
      "source": [
        "sns.histplot(escola_publica, x='NOTA_CH', bins=10, color='red', kde=True, stat='probability')"
      ],
      "metadata": {
        "id": "0EGOv_VbA4lr"
      },
      "execution_count": null,
      "outputs": []
    },
    {
      "cell_type": "code",
      "source": [
        "sns.histplot(escola_privada, x='NOTA_CH', bins=10, color='red', kde=True, stat='probability')"
      ],
      "metadata": {
        "id": "qozUBIxYA9OR"
      },
      "execution_count": null,
      "outputs": []
    },
    {
      "cell_type": "markdown",
      "source": [
        "Objetivo: Analisar se há diferença nas medianas das notas de ciências humanas entre escolas públicas e privadas.\n",
        "\n",
        "\n",
        "*   H0: Não existe diferença (p>0,05)\n",
        "*   Ha: Existe diferença (p<=0,05)"
      ],
      "metadata": {
        "id": "nGWjcrZgBL4V"
      }
    },
    {
      "cell_type": "code",
      "source": [
        "stat, p=stats.mannwhitneyu(escola_publica.NOTA_CH, escola_privada.NOTA_CH)\n",
        "print('Estatística do Teste: {}'.format(stat.round(2)))\n",
        "print('p-valor:{}'.format(p))"
      ],
      "metadata": {
        "id": "TiuqgZgwBSvp",
        "colab": {
          "base_uri": "https://localhost:8080/"
        },
        "outputId": "7622fbb2-133e-49ef-89a2-11c862154033"
      },
      "execution_count": 93,
      "outputs": [
        {
          "output_type": "stream",
          "name": "stdout",
          "text": [
            "Estatística do Teste: 2319.0\n",
            "p-valor:0.7934818507423063\n"
          ]
        }
      ]
    },
    {
      "cell_type": "markdown",
      "source": [
        "Conclusão: Considerando o intervalo de confiança de 95%, não podemos concluir que exista diferença entre as medianas das notas de ciências humanas entre escolas públicas e privadas.\n",
        "Não rejeita H0.\n",
        "\n",
        "\n",
        "*   Mediana escola privada = 494,40\n",
        "*   Mediana escola pública = 472,20\n"
      ],
      "metadata": {
        "id": "TZjF1m4jBlJQ"
      }
    },
    {
      "cell_type": "markdown",
      "source": [
        "Conclusão do Projeto\n",
        "\n",
        "Os alunos de escolas privadas foram superiores em desempenho nas provas de Ciências Naturais e Matemática, embora não tenha diferença entre as demais provas. Dessa forma, conclui-se que para que os alunos de escolas públicas possam competir de forma igualitária nas provas do Enem é necessário maior atenção da parte dos governantes à educação no Estado de São Paulo."
      ],
      "metadata": {
        "id": "OEMDnQSVB9bV"
      }
    }
  ]
}