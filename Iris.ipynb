{
  "nbformat": 4,
  "nbformat_minor": 0,
  "metadata": {
    "colab": {
      "provenance": [],
      "collapsed_sections": [],
      "mount_file_id": "1bt4p7IdbkBUuMMjvMXQwJnL8LHMfAfMD",
      "authorship_tag": "ABX9TyNT++37SJBPEuxw42p35T6D",
      "include_colab_link": true
    },
    "kernelspec": {
      "name": "python3",
      "display_name": "Python 3"
    },
    "language_info": {
      "name": "python"
    }
  },
  "cells": [
    {
      "cell_type": "markdown",
      "metadata": {
        "id": "view-in-github",
        "colab_type": "text"
      },
      "source": [
        "<a href=\"https://colab.research.google.com/github/Cris-0506/Cris-0506/blob/main/Iris.ipynb\" target=\"_parent\"><img src=\"https://colab.research.google.com/assets/colab-badge.svg\" alt=\"Open In Colab\"/></a>"
      ]
    },
    {
      "cell_type": "markdown",
      "source": [
        "Análise exploratória de dados utilizando o conjunto de dados Iris."
      ],
      "metadata": {
        "id": "ArcJpvee8Zoy"
      }
    },
    {
      "cell_type": "code",
      "execution_count": null,
      "metadata": {
        "id": "KfsG2FL0L-cX"
      },
      "outputs": [],
      "source": [
        "import numpy as np\n",
        "import pandas as pd"
      ]
    },
    {
      "cell_type": "code",
      "source": [
        "dados = pd.read_csv('/content/Iris.csv', sep=',', encoding = 'iso-8859-1')"
      ],
      "metadata": {
        "id": "kDEMH6hGMn6J"
      },
      "execution_count": null,
      "outputs": []
    },
    {
      "cell_type": "code",
      "source": [
        "dados.head()"
      ],
      "metadata": {
        "id": "VK3PerMSMxPw"
      },
      "execution_count": null,
      "outputs": []
    },
    {
      "cell_type": "code",
      "source": [
        "dados.shape"
      ],
      "metadata": {
        "id": "S3umlRXbOkyh"
      },
      "execution_count": null,
      "outputs": []
    },
    {
      "cell_type": "code",
      "source": [
        "dados.dtypes"
      ],
      "metadata": {
        "id": "vrvRYdHYRZH_"
      },
      "execution_count": null,
      "outputs": []
    },
    {
      "cell_type": "code",
      "source": [
        "dados.describe()"
      ],
      "metadata": {
        "id": "IRnbVe5IOQBx"
      },
      "execution_count": null,
      "outputs": []
    },
    {
      "cell_type": "code",
      "source": [
        "dados.isnull().sum()"
      ],
      "metadata": {
        "id": "C2i6h757RjiV"
      },
      "execution_count": null,
      "outputs": []
    },
    {
      "cell_type": "code",
      "source": [
        "# Renomeando as colunas\n",
        "dados = dados.rename (columns = {'SepalLengthCm': 'Sépala_comprimento', 'SepalWidthCm': 'Sépala_largura', 'PetalLengthCm': 'Pétala_comprimento', 'PetalWidthCm': 'Pétala_largura', 'Species': 'Espécie'})"
      ],
      "metadata": {
        "id": "h_0Am7OLOYRi"
      },
      "execution_count": null,
      "outputs": []
    },
    {
      "cell_type": "code",
      "source": [
        "dados.head()"
      ],
      "metadata": {
        "id": "zGqM1WhxQZE9"
      },
      "execution_count": null,
      "outputs": []
    },
    {
      "cell_type": "code",
      "source": [
        "setosa = dados.loc[dados.Espécie == 'Iris-setosa']"
      ],
      "metadata": {
        "id": "gl6iz7vablja"
      },
      "execution_count": null,
      "outputs": []
    },
    {
      "cell_type": "code",
      "source": [
        "setosa.head()"
      ],
      "metadata": {
        "id": "Od4_0ku3cr1I"
      },
      "execution_count": null,
      "outputs": []
    },
    {
      "cell_type": "code",
      "source": [
        "setosa.shape"
      ],
      "metadata": {
        "id": "tZx3ThAWcv3p"
      },
      "execution_count": null,
      "outputs": []
    },
    {
      "cell_type": "code",
      "source": [
        "setosa.describe()"
      ],
      "metadata": {
        "id": "m_qJLK_Pc0CS"
      },
      "execution_count": null,
      "outputs": []
    },
    {
      "cell_type": "code",
      "source": [
        "versicolor = dados.loc[dados.Espécie == 'Iris-versicolor']"
      ],
      "metadata": {
        "id": "AqxKm1bMc4l_"
      },
      "execution_count": null,
      "outputs": []
    },
    {
      "cell_type": "code",
      "source": [
        "versicolor.head()"
      ],
      "metadata": {
        "id": "dVDQ6ej-dEGG"
      },
      "execution_count": null,
      "outputs": []
    },
    {
      "cell_type": "code",
      "source": [
        "versicolor.shape"
      ],
      "metadata": {
        "id": "duWDvPA_dJlA"
      },
      "execution_count": null,
      "outputs": []
    },
    {
      "cell_type": "code",
      "source": [
        "versicolor.describe()"
      ],
      "metadata": {
        "id": "Alom8ybGdPGQ"
      },
      "execution_count": null,
      "outputs": []
    },
    {
      "cell_type": "code",
      "source": [
        "virginica = dados.loc[dados.Espécie == 'Iris-virginica']"
      ],
      "metadata": {
        "id": "nl8-4NPCdUJN"
      },
      "execution_count": null,
      "outputs": []
    },
    {
      "cell_type": "code",
      "source": [
        "virginica.head()"
      ],
      "metadata": {
        "id": "04wPqSt2ddoZ"
      },
      "execution_count": null,
      "outputs": []
    },
    {
      "cell_type": "code",
      "source": [
        "virginica.shape"
      ],
      "metadata": {
        "id": "WcUbLaIbdioE"
      },
      "execution_count": null,
      "outputs": []
    },
    {
      "cell_type": "code",
      "source": [
        "virginica.describe()"
      ],
      "metadata": {
        "id": "cefHrbJydmb_"
      },
      "execution_count": null,
      "outputs": []
    },
    {
      "cell_type": "code",
      "source": [
        "# Analisando a existência de outliers para Iris setosa.\n",
        "import plotly.express as px"
      ],
      "metadata": {
        "id": "9JDLa94LQvLV"
      },
      "execution_count": null,
      "outputs": []
    },
    {
      "cell_type": "code",
      "source": [
        "scompsetosa = px.box(setosa, y='Sépala_comprimento')\n",
        "scompsetosa.show()"
      ],
      "metadata": {
        "id": "ccoxSmN9R4iN"
      },
      "execution_count": null,
      "outputs": []
    },
    {
      "cell_type": "code",
      "source": [
        "slargsetosa = px.box(setosa, y='Sépala_largura')\n",
        "slargsetosa.show()"
      ],
      "metadata": {
        "id": "IE_IeHsjTGk_"
      },
      "execution_count": null,
      "outputs": []
    },
    {
      "cell_type": "code",
      "source": [
        "pcompsetosa = px.box(setosa, y='Pétala_comprimento')\n",
        "pcompsetosa.show()"
      ],
      "metadata": {
        "id": "XhaIpSnTTjyb"
      },
      "execution_count": null,
      "outputs": []
    },
    {
      "cell_type": "code",
      "source": [
        "plargsetosa = px.box(setosa, y='Pétala_largura')\n",
        "plargsetosa.show()"
      ],
      "metadata": {
        "id": "x1V1UxXsT4Qc"
      },
      "execution_count": null,
      "outputs": []
    },
    {
      "cell_type": "code",
      "source": [
        "# Analisando a existência de outliers para Iris versicolor."
      ],
      "metadata": {
        "id": "mzvcGd90fJsl"
      },
      "execution_count": null,
      "outputs": []
    },
    {
      "cell_type": "code",
      "source": [
        "scompversicolor = px.box(versicolor, y='Sépala_comprimento')\n",
        "scompversicolor.show()"
      ],
      "metadata": {
        "id": "JZsN-MZAfoia"
      },
      "execution_count": null,
      "outputs": []
    },
    {
      "cell_type": "code",
      "source": [
        "slargversicolor = px.box(versicolor, y='Sépala_largura')\n",
        "slargversicolor.show()"
      ],
      "metadata": {
        "id": "1Uz9XiYWfsu9"
      },
      "execution_count": null,
      "outputs": []
    },
    {
      "cell_type": "code",
      "source": [
        "pcompversicolor = px.box(versicolor, y='Pétala_comprimento')\n",
        "pcompversicolor.show()"
      ],
      "metadata": {
        "id": "llq5sLuRfwtF"
      },
      "execution_count": null,
      "outputs": []
    },
    {
      "cell_type": "code",
      "source": [
        "plargversicolor = px.box(versicolor, y='Pétala_largura')\n",
        "plargversicolor.show()"
      ],
      "metadata": {
        "id": "80IArKtbf0lN"
      },
      "execution_count": null,
      "outputs": []
    },
    {
      "cell_type": "code",
      "source": [
        "# Analisando a existência de outliers para Iris virginica."
      ],
      "metadata": {
        "id": "IXGdONqvgwRx"
      },
      "execution_count": null,
      "outputs": []
    },
    {
      "cell_type": "code",
      "source": [
        "scompvirginica = px.box(virginica, y='Sépala_comprimento')\n",
        "scompvirginica.show()"
      ],
      "metadata": {
        "id": "-CFnHb4trRhQ"
      },
      "execution_count": null,
      "outputs": []
    },
    {
      "cell_type": "code",
      "source": [
        "slargvirginica = px.box(virginica, y='Sépala_largura')\n",
        "slargvirginica.show()"
      ],
      "metadata": {
        "id": "v_xOaLmprhyl"
      },
      "execution_count": null,
      "outputs": []
    },
    {
      "cell_type": "code",
      "source": [
        "pcompvirginica = px.box(virginica, y='Pétala_comprimento')\n",
        "pcompvirginica.show()"
      ],
      "metadata": {
        "id": "YBlOKngNrs4g"
      },
      "execution_count": null,
      "outputs": []
    },
    {
      "cell_type": "code",
      "source": [
        "plargvirginica = px.box(virginica, y='Pétala_largura')\n",
        "plargvirginica.show()"
      ],
      "metadata": {
        "id": "n80lOcior9IG"
      },
      "execution_count": null,
      "outputs": []
    },
    {
      "cell_type": "code",
      "source": [
        "# Analisando a normalidade\n",
        "import seaborn as sns"
      ],
      "metadata": {
        "id": "8I_G-8uMT3UG"
      },
      "execution_count": null,
      "outputs": []
    },
    {
      "cell_type": "code",
      "source": [
        "# Comprimento das sépalas."
      ],
      "metadata": {
        "id": "6fIW6drN1pgX"
      },
      "execution_count": null,
      "outputs": []
    },
    {
      "cell_type": "code",
      "source": [
        "sns.histplot(dados, x='Sépala_comprimento', bins=10, color = 'pink', kde=True, stat='probability')"
      ],
      "metadata": {
        "id": "ujPhqt5aUhLp"
      },
      "execution_count": null,
      "outputs": []
    },
    {
      "cell_type": "code",
      "source": [
        "sns.histplot(setosa,  x='Sépala_comprimento', bins=10, color = 'pink', kde=True, stat='probability')"
      ],
      "metadata": {
        "id": "xvChT8W50i0O"
      },
      "execution_count": null,
      "outputs": []
    },
    {
      "cell_type": "code",
      "source": [
        "sns.histplot(versicolor,  x='Sépala_comprimento', bins=10, color = 'pink', kde=True, stat='probability')"
      ],
      "metadata": {
        "id": "QvuZHmcK0hQ2"
      },
      "execution_count": null,
      "outputs": []
    },
    {
      "cell_type": "code",
      "source": [
        "sns.histplot(virginica,  x='Sépala_comprimento', bins=10, color = 'pink', kde=True, stat='probability')"
      ],
      "metadata": {
        "id": "fWHTudJn01_o"
      },
      "execution_count": null,
      "outputs": []
    },
    {
      "cell_type": "code",
      "source": [
        "# Largura das sépalas."
      ],
      "metadata": {
        "id": "KppVV4ok1us-"
      },
      "execution_count": null,
      "outputs": []
    },
    {
      "cell_type": "code",
      "source": [
        "sns.histplot(dados, x='Sépala_largura', bins=10, color = 'purple', kde=True, stat='probability')"
      ],
      "metadata": {
        "id": "rceWYicxU-88"
      },
      "execution_count": null,
      "outputs": []
    },
    {
      "cell_type": "code",
      "source": [
        "sns.histplot(setosa, x='Sépala_largura', bins=10, color = 'purple', kde=True, stat='probability')"
      ],
      "metadata": {
        "id": "MbglcQFv1AEK"
      },
      "execution_count": null,
      "outputs": []
    },
    {
      "cell_type": "code",
      "source": [
        "sns.histplot(versicolor, x='Sépala_largura', bins=10, color = 'purple', kde=True, stat='probability')"
      ],
      "metadata": {
        "id": "ggtqmN711EMz"
      },
      "execution_count": null,
      "outputs": []
    },
    {
      "cell_type": "code",
      "source": [
        "sns.histplot(virginica, x='Sépala_largura', bins=10, color = 'purple', kde=True, stat='probability')"
      ],
      "metadata": {
        "id": "0dPyPW111D9e"
      },
      "execution_count": null,
      "outputs": []
    },
    {
      "cell_type": "code",
      "source": [
        "# Comprimento das pétalas."
      ],
      "metadata": {
        "id": "khyGCU_Q10ZK"
      },
      "execution_count": null,
      "outputs": []
    },
    {
      "cell_type": "code",
      "source": [
        "sns.histplot(dados, x='Pétala_comprimento', bins=10, color = 'yellow', kde=True, stat='probability')"
      ],
      "metadata": {
        "id": "toa1p3IRVJWy"
      },
      "execution_count": null,
      "outputs": []
    },
    {
      "cell_type": "code",
      "source": [
        "sns.histplot(setosa, x='Pétala_comprimento', bins=10, color = 'yellow', kde=True, stat='probability')"
      ],
      "metadata": {
        "id": "AVNJ5fLJ1TO2"
      },
      "execution_count": null,
      "outputs": []
    },
    {
      "cell_type": "code",
      "source": [
        "sns.histplot(versicolor, x='Pétala_comprimento', bins=10, color = 'yellow', kde=True, stat='probability')"
      ],
      "metadata": {
        "id": "uI-Ys5N81XQY"
      },
      "execution_count": null,
      "outputs": []
    },
    {
      "cell_type": "code",
      "source": [
        "sns.histplot(virginica, x='Pétala_comprimento', bins=10, color = 'yellow', kde=True, stat='probability')"
      ],
      "metadata": {
        "id": "ci0k4PMC1a47"
      },
      "execution_count": null,
      "outputs": []
    },
    {
      "cell_type": "code",
      "source": [
        "# Largura das pétalas."
      ],
      "metadata": {
        "id": "hFrSOOst15JY"
      },
      "execution_count": null,
      "outputs": []
    },
    {
      "cell_type": "code",
      "source": [
        "sns.histplot(dados, x='Pétala_largura', bins=10, color = 'blue', kde=True, stat='probability')"
      ],
      "metadata": {
        "id": "dtjrnU1HVQay"
      },
      "execution_count": null,
      "outputs": []
    },
    {
      "cell_type": "code",
      "source": [
        "sns.histplot(setosa, x='Pétala_largura', bins=10, color = 'blue', kde=True, stat='probability')"
      ],
      "metadata": {
        "id": "cdpP9eev2AOs"
      },
      "execution_count": null,
      "outputs": []
    },
    {
      "cell_type": "code",
      "source": [
        "sns.histplot(versicolor, x='Pétala_largura', bins=10, color = 'blue', kde=True, stat='probability')"
      ],
      "metadata": {
        "id": "NpRnzCec2BJt"
      },
      "execution_count": null,
      "outputs": []
    },
    {
      "cell_type": "code",
      "source": [
        "sns.histplot(virginica, x='Pétala_largura', bins=10, color = 'blue', kde=True, stat='probability')"
      ],
      "metadata": {
        "id": "TGMfdLRz2CQT"
      },
      "execution_count": null,
      "outputs": []
    },
    {
      "cell_type": "code",
      "source": [
        "import scipy.stats as stats\n",
        "import matplotlib.pyplot as plt\n"
      ],
      "metadata": {
        "id": "J3r_xKr5VkS8"
      },
      "execution_count": null,
      "outputs": []
    },
    {
      "cell_type": "code",
      "source": [
        "# Iris setosa (Teste Shapiro-Wilk e gráfico QQ Plot)"
      ],
      "metadata": {
        "id": "EWvbXi0q0RlB"
      },
      "execution_count": null,
      "outputs": []
    },
    {
      "cell_type": "code",
      "source": [
        "stats.shapiro(setosa.Sépala_comprimento)"
      ],
      "metadata": {
        "id": "Rcgyyev_2j-z"
      },
      "execution_count": null,
      "outputs": []
    },
    {
      "cell_type": "code",
      "source": [
        "stats.probplot(setosa['Sépala_comprimento'], dist='norm', plot=plt)\n",
        "plt.title('Normal QQ Plot - Comprimento das Sépalas - I. setosa')\n",
        "plt.show()"
      ],
      "metadata": {
        "id": "22pMAkzS4iFs"
      },
      "execution_count": null,
      "outputs": []
    },
    {
      "cell_type": "code",
      "source": [
        "stats.shapiro(setosa.Sépala_largura)"
      ],
      "metadata": {
        "id": "v7tMwXca2zNN"
      },
      "execution_count": null,
      "outputs": []
    },
    {
      "cell_type": "code",
      "source": [
        "stats.probplot(setosa['Sépala_largura'], dist='norm', plot=plt)\n",
        "plt.title('Normal QQ Plot - Largura das Sépalas - I. setosa')\n",
        "plt.show()"
      ],
      "metadata": {
        "id": "sZqW04fw5Lgw"
      },
      "execution_count": null,
      "outputs": []
    },
    {
      "cell_type": "code",
      "source": [
        "stats.shapiro(setosa.Pétala_comprimento)"
      ],
      "metadata": {
        "id": "I4-1HDpO25g7"
      },
      "execution_count": null,
      "outputs": []
    },
    {
      "cell_type": "code",
      "source": [
        "stats.probplot(setosa['Pétala_comprimento'], dist='norm', plot=plt)\n",
        "plt.title('Normal QQ Plot - Comprimento das Pétalas - I. setosa')\n",
        "plt.show()"
      ],
      "metadata": {
        "id": "jKfM6R7N5S7X"
      },
      "execution_count": null,
      "outputs": []
    },
    {
      "cell_type": "code",
      "source": [
        "stats.shapiro(setosa.Pétala_largura)"
      ],
      "metadata": {
        "id": "QqbRTQYC2_9w"
      },
      "execution_count": null,
      "outputs": []
    },
    {
      "cell_type": "code",
      "source": [
        "stats.probplot(setosa['Pétala_largura'], dist='norm', plot=plt)\n",
        "plt.title('Normal QQ Plot - Largura das Pétalas - I. setosa')\n",
        "plt.show()"
      ],
      "metadata": {
        "id": "_TewgbMc5Zjw"
      },
      "execution_count": null,
      "outputs": []
    },
    {
      "cell_type": "code",
      "source": [
        "# Iris versicolor"
      ],
      "metadata": {
        "id": "5d_V5Ysr3HtT"
      },
      "execution_count": null,
      "outputs": []
    },
    {
      "cell_type": "code",
      "source": [
        "stats.shapiro(versicolor.Sépala_comprimento)"
      ],
      "metadata": {
        "id": "Zp0M0jKm3N4B"
      },
      "execution_count": null,
      "outputs": []
    },
    {
      "cell_type": "code",
      "source": [
        "stats.probplot(versicolor['Sépala_comprimento'], dist='norm', plot=plt)\n",
        "plt.title('Normal QQ Plot - Comprimento das Sépalas - I. versicolor')\n",
        "plt.show()"
      ],
      "metadata": {
        "id": "_DVyhBY75ojT"
      },
      "execution_count": null,
      "outputs": []
    },
    {
      "cell_type": "code",
      "source": [
        "stats.shapiro(versicolor.Sépala_largura)"
      ],
      "metadata": {
        "id": "bYQxvPzD3SXG"
      },
      "execution_count": null,
      "outputs": []
    },
    {
      "cell_type": "code",
      "source": [
        "stats.probplot(versicolor['Sépala_largura'], dist='norm', plot=plt)\n",
        "plt.title('Normal QQ Plot - Largura das Sépalas - I. versicolor')\n",
        "plt.show()"
      ],
      "metadata": {
        "id": "4V79rCyw5zCX"
      },
      "execution_count": null,
      "outputs": []
    },
    {
      "cell_type": "code",
      "source": [
        "stats.shapiro(versicolor.Pétala_comprimento)"
      ],
      "metadata": {
        "id": "f7yY75nN3Y45"
      },
      "execution_count": null,
      "outputs": []
    },
    {
      "cell_type": "code",
      "source": [
        "stats.probplot(versicolor['Pétala_comprimento'], dist='norm', plot=plt)\n",
        "plt.title('Normal QQ Plot - Comprimento das Pétalas - I. versicolor')\n",
        "plt.show()"
      ],
      "metadata": {
        "id": "Fj1GfUeg6DP-"
      },
      "execution_count": null,
      "outputs": []
    },
    {
      "cell_type": "code",
      "source": [
        "stats.shapiro(versicolor.Pétala_largura)"
      ],
      "metadata": {
        "id": "V1ITN6Su3dXj"
      },
      "execution_count": null,
      "outputs": []
    },
    {
      "cell_type": "code",
      "source": [
        "stats.probplot(versicolor['Pétala_largura'], dist='norm', plot=plt)\n",
        "plt.title('Normal QQ Plot - Largura das Pétalas - I. versicolor')\n",
        "plt.show()"
      ],
      "metadata": {
        "id": "vdlUNr7j6YqO"
      },
      "execution_count": null,
      "outputs": []
    },
    {
      "cell_type": "code",
      "source": [
        "# Iris virginica"
      ],
      "metadata": {
        "id": "ja7cdrkJ3p5F"
      },
      "execution_count": null,
      "outputs": []
    },
    {
      "cell_type": "code",
      "source": [
        "stats.shapiro(virginica.Sépala_comprimento)"
      ],
      "metadata": {
        "id": "UOkqygUj39b0"
      },
      "execution_count": null,
      "outputs": []
    },
    {
      "cell_type": "code",
      "source": [
        "stats.probplot(virginica['Sépala_comprimento'], dist='norm', plot=plt)\n",
        "plt.title('Normal QQ Plot - Comprimento das Sépalas - I. virginica')\n",
        "plt.show()"
      ],
      "metadata": {
        "id": "qIIn3BrL7abf"
      },
      "execution_count": null,
      "outputs": []
    },
    {
      "cell_type": "code",
      "source": [
        "stats.shapiro(virginica.Sépala_largura)"
      ],
      "metadata": {
        "id": "b6ryBfqQ4A4v"
      },
      "execution_count": null,
      "outputs": []
    },
    {
      "cell_type": "code",
      "source": [
        "stats.probplot(virginica['Sépala_largura'], dist='norm', plot=plt)\n",
        "plt.title('Normal QQ Plot - Largura das Sépalas - I. virginica')\n",
        "plt.show()"
      ],
      "metadata": {
        "id": "XnoyrxCZ7hxB"
      },
      "execution_count": null,
      "outputs": []
    },
    {
      "cell_type": "code",
      "source": [
        "stats.shapiro(virginica.Pétala_comprimento)"
      ],
      "metadata": {
        "id": "anPDsPXy4AcZ"
      },
      "execution_count": null,
      "outputs": []
    },
    {
      "cell_type": "code",
      "source": [
        "stats.probplot(virginica['Pétala_comprimento'], dist='norm', plot=plt)\n",
        "plt.title('Normal QQ Plot - Comprimento das Pétalas - I. virginica')\n",
        "plt.show()"
      ],
      "metadata": {
        "id": "FAqvnExT7s_J"
      },
      "execution_count": null,
      "outputs": []
    },
    {
      "cell_type": "code",
      "source": [
        "stats.shapiro(virginica.Pétala_largura)"
      ],
      "metadata": {
        "id": "7WEwm6lR3_fP"
      },
      "execution_count": null,
      "outputs": []
    },
    {
      "cell_type": "code",
      "source": [
        "stats.probplot(virginica['Pétala_largura'], dist='norm', plot=plt)\n",
        "plt.title('Normal QQ Plot - Largura das Pétalas - I. virginica')\n",
        "plt.show()"
      ],
      "metadata": {
        "id": "J0FwWNUd7-a7"
      },
      "execution_count": null,
      "outputs": []
    }
  ]
}