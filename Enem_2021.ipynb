{
  "nbformat": 4,
  "nbformat_minor": 0,
  "metadata": {
    "colab": {
      "provenance": [],
      "collapsed_sections": [],
      "mount_file_id": "1Y5W_MStDri7ipPH_QyY05FS0075Ckl-P",
      "authorship_tag": "ABX9TyO6hLS2qxIPS3tShFGqpQob",
      "include_colab_link": true
    },
    "kernelspec": {
      "name": "python3",
      "display_name": "Python 3"
    },
    "language_info": {
      "name": "python"
    }
  },
  "cells": [
    {
      "cell_type": "markdown",
      "metadata": {
        "id": "view-in-github",
        "colab_type": "text"
      },
      "source": [
        "<a href=\"https://colab.research.google.com/github/Cris-0506/Cris-0506/blob/main/Enem_2021.ipynb\" target=\"_parent\"><img src=\"https://colab.research.google.com/assets/colab-badge.svg\" alt=\"Open In Colab\"/></a>"
      ]
    },
    {
      "cell_type": "markdown",
      "source": [
        "\n",
        "Projeto Enem 2021 / Dados disponíveis no site do Inep (http://inep.gov.br/microdados).\n"
      ],
      "metadata": {
        "id": "ookiVCSvNXtx"
      }
    },
    {
      "cell_type": "markdown",
      "source": [
        "Análise de desempenho na nota de redação entre homens e mulheres na prova do Enem 2021."
      ],
      "metadata": {
        "id": "oBQ8tB1wNfF3"
      }
    },
    {
      "cell_type": "code",
      "execution_count": 9,
      "metadata": {
        "id": "k_b0_MM6z3h8"
      },
      "outputs": [],
      "source": [
        "import pandas as pd\n",
        "import numpy as np"
      ]
    },
    {
      "cell_type": "code",
      "source": [
        "dados = pd.read_csv('/content/MICRODADOS_ENEM_2021.csv', sep=';', encoding = 'iso-8859-1')"
      ],
      "metadata": {
        "id": "fCjOF8SP0biB"
      },
      "execution_count": 10,
      "outputs": []
    },
    {
      "cell_type": "code",
      "source": [
        "np.random.seed(1)"
      ],
      "metadata": {
        "id": "ELYgDk0E1Qak"
      },
      "execution_count": 11,
      "outputs": []
    },
    {
      "cell_type": "code",
      "source": [
        "amostragem = dados.sample(30000)"
      ],
      "metadata": {
        "id": "sFy5WklI1dh0"
      },
      "execution_count": 12,
      "outputs": []
    },
    {
      "cell_type": "code",
      "source": [
        "amostragem.shape"
      ],
      "metadata": {
        "id": "9_-3UHu-1npQ",
        "colab": {
          "base_uri": "https://localhost:8080/"
        },
        "outputId": "d271c27b-4e91-4dab-d678-5d735e2db4be"
      },
      "execution_count": 13,
      "outputs": [
        {
          "output_type": "execute_result",
          "data": {
            "text/plain": [
              "(30000, 76)"
            ]
          },
          "metadata": {},
          "execution_count": 13
        }
      ]
    },
    {
      "cell_type": "code",
      "source": [
        "# Analisando as variáveis do dataframe.\n",
        "amostragem.columns.values"
      ],
      "metadata": {
        "id": "9_x6eBE91wmt"
      },
      "execution_count": null,
      "outputs": []
    },
    {
      "cell_type": "code",
      "source": [
        "# Filtrando as colunas que serão utilizadas.\n",
        "seleçao = ['NU_INSCRICAO', 'NU_ANO', 'TP_FAIXA_ETARIA', 'TP_SEXO','TP_ESTADO_CIVIL', 'TP_COR_RACA', 'TP_NACIONALIDADE','TP_ST_CONCLUSAO', 'TP_ANO_CONCLUIU', 'TP_ESCOLA', 'TP_ENSINO','IN_TREINEIRO', 'CO_MUNICIPIO_ESC', 'NO_MUNICIPIO_ESC','CO_UF_ESC','TP_PRESENCA_CN', 'TP_PRESENCA_CH', 'TP_PRESENCA_LC', 'TP_PRESENCA_MT','NU_NOTA_CN', 'NU_NOTA_CH', 'NU_NOTA_LC','NU_NOTA_MT','NU_NOTA_COMP1','NU_NOTA_COMP2','NU_NOTA_COMP3','NU_NOTA_COMP4', 'NU_NOTA_COMP5','NU_NOTA_REDACAO']\n",
        "       "
      ],
      "metadata": {
        "id": "IGQ7L3gg28b-"
      },
      "execution_count": 15,
      "outputs": []
    },
    {
      "cell_type": "code",
      "source": [
        "dados_enem = amostragem.filter(items=seleçao)"
      ],
      "metadata": {
        "id": "_BrmaDJT4e7M"
      },
      "execution_count": 16,
      "outputs": []
    },
    {
      "cell_type": "code",
      "source": [
        "dados_enem.head(30)"
      ],
      "metadata": {
        "id": "cs6mj7DT5Lfs",
        "colab": {
          "base_uri": "https://localhost:8080/",
          "height": 1000
        },
        "outputId": "64c840be-a547-412d-d6fa-508294105a25"
      },
      "execution_count": 17,
      "outputs": [
        {
          "output_type": "execute_result",
          "data": {
            "text/plain": [
              "       NU_INSCRICAO  NU_ANO  TP_FAIXA_ETARIA TP_SEXO  TP_ESTADO_CIVIL  \\\n",
              "11516  210053057367    2021               11       M                1   \n",
              "209    210052699486    2021                3       F                1   \n",
              "1609   210053024840    2021               12       F                2   \n",
              "40738  210054114732    2021                2       M                1   \n",
              "42783  210051244423    2021               11       F                1   \n",
              "6805   210051243724    2021                2       M                1   \n",
              "33102  210054178191    2021                6       F                1   \n",
              "45383  210052788477    2021                3       M                1   \n",
              "29621  210053444036    2021                2       F                1   \n",
              "22539  210051804271    2021                3       F                1   \n",
              "15588  210053230282    2021                6       F                1   \n",
              "5507   210053543409    2021                1       F                1   \n",
              "27495  210053742613    2021                2       F                1   \n",
              "52770  210052828000    2021                6       M                1   \n",
              "29525  210053403381    2021                3       F                1   \n",
              "18340  210052115633    2021               11       F                1   \n",
              "22888  210052165070    2021                2       M                1   \n",
              "57459  210051247795    2021                1       F                1   \n",
              "35917  210052061900    2021                3       F                1   \n",
              "39746  210051159126    2021                6       F                1   \n",
              "6690   210052179726    2021                6       M                1   \n",
              "50291  210054462606    2021               12       F                1   \n",
              "53028  210052925967    2021                3       M                1   \n",
              "14674  210052756655    2021                3       F                1   \n",
              "7985   210052314164    2021                5       M                1   \n",
              "44697  210054012333    2021                3       F                1   \n",
              "15973  210051531003    2021                2       M                1   \n",
              "50901  210051586440    2021               12       M                2   \n",
              "20908  210052903344    2021                2       F                1   \n",
              "39587  210053317100    2021                2       F                1   \n",
              "\n",
              "       TP_COR_RACA  TP_NACIONALIDADE  TP_ST_CONCLUSAO  TP_ANO_CONCLUIU  \\\n",
              "11516            4                 1                4                0   \n",
              "209              1                 1                2                0   \n",
              "1609             5                 1                1               14   \n",
              "40738            3                 1                2                0   \n",
              "42783            3                 1                1                0   \n",
              "6805             2                 1                3                0   \n",
              "33102            3                 1                1                3   \n",
              "45383            3                 1                2                0   \n",
              "29621            3                 1                2                0   \n",
              "22539            3                 1                2                0   \n",
              "15588            3                 1                1                3   \n",
              "5507             3                 1                3                0   \n",
              "27495            3                 1                2                0   \n",
              "52770            3                 1                1                2   \n",
              "29525            3                 1                2                0   \n",
              "18340            3                 1                1                9   \n",
              "22888            3                 1                2                0   \n",
              "57459            3                 1                3                0   \n",
              "35917            1                 1                2                0   \n",
              "39746            3                 1                1                4   \n",
              "6690             1                 1                1                4   \n",
              "50291            3                 1                1               12   \n",
              "53028            1                 1                2                0   \n",
              "14674            1                 1                2                0   \n",
              "7985             3                 1                1                2   \n",
              "44697            3                 1                1                1   \n",
              "15973            2                 1                2                0   \n",
              "50901            1                 1                1               12   \n",
              "20908            2                 1                3                0   \n",
              "39587            3                 1                2                0   \n",
              "\n",
              "       TP_ESCOLA  ...  NU_NOTA_CN  NU_NOTA_CH  NU_NOTA_LC NU_NOTA_MT  \\\n",
              "11516          1  ...         NaN         NaN         NaN        NaN   \n",
              "209            2  ...       441.9       469.4       500.1      506.5   \n",
              "1609           1  ...       464.8       590.1       491.6      468.8   \n",
              "40738          2  ...       422.5       365.4       468.7      442.3   \n",
              "42783          1  ...         NaN         NaN         NaN        NaN   \n",
              "6805           1  ...       528.3       461.7       513.3      509.7   \n",
              "33102          1  ...         NaN         NaN         NaN        NaN   \n",
              "45383          2  ...       398.7       549.3       505.0      539.8   \n",
              "29621          2  ...       470.7       482.4       462.9      555.0   \n",
              "22539          2  ...       678.7       704.2       661.7      748.9   \n",
              "15588          1  ...       723.7       791.1       667.2      820.7   \n",
              "5507           1  ...       399.8       523.4       451.3      512.3   \n",
              "27495          2  ...       381.4       354.4       401.5      378.6   \n",
              "52770          1  ...       503.2       536.5       536.9      522.1   \n",
              "29525          2  ...       565.9       558.9       495.0      635.2   \n",
              "18340          1  ...       513.9       494.5       580.5      469.1   \n",
              "22888          2  ...       673.2       655.9       682.4      771.1   \n",
              "57459          1  ...       390.6       474.7       508.9      448.2   \n",
              "35917          2  ...       433.0       564.3       492.6      551.2   \n",
              "39746          1  ...       404.3       415.7       522.2      389.4   \n",
              "6690           1  ...         NaN       547.8       560.9        NaN   \n",
              "50291          1  ...       472.8       573.2       490.3      411.3   \n",
              "53028          3  ...       603.0       638.5       598.4      673.1   \n",
              "14674          2  ...         NaN         NaN         NaN        NaN   \n",
              "7985           1  ...       553.6       619.6       626.3      559.8   \n",
              "44697          1  ...         NaN         NaN         NaN        NaN   \n",
              "15973          2  ...       574.1       586.9       557.1      699.9   \n",
              "50901          1  ...       565.0       590.4       493.0      459.0   \n",
              "20908          1  ...       481.8       431.8       375.3      411.9   \n",
              "39587          2  ...       506.6       528.2       545.4      617.5   \n",
              "\n",
              "       NU_NOTA_COMP1  NU_NOTA_COMP2  NU_NOTA_COMP3  NU_NOTA_COMP4  \\\n",
              "11516            NaN            NaN            NaN            NaN   \n",
              "209            120.0          160.0          100.0          120.0   \n",
              "1609           120.0           80.0           60.0          100.0   \n",
              "40738          120.0          100.0           80.0          100.0   \n",
              "42783            NaN            NaN            NaN            NaN   \n",
              "6805           100.0          200.0          120.0          100.0   \n",
              "33102            NaN            NaN            NaN            NaN   \n",
              "45383          100.0          160.0          100.0          120.0   \n",
              "29621          120.0          160.0          120.0          180.0   \n",
              "22539          160.0          200.0          160.0          160.0   \n",
              "15588          180.0          180.0          160.0          200.0   \n",
              "5507           180.0          200.0          180.0          200.0   \n",
              "27495          120.0          120.0          120.0          120.0   \n",
              "52770          120.0          140.0          120.0          140.0   \n",
              "29525          160.0          200.0          140.0          180.0   \n",
              "18340          100.0          120.0          100.0          120.0   \n",
              "22888          180.0          200.0          180.0          160.0   \n",
              "57459          140.0          120.0          120.0          140.0   \n",
              "35917          140.0          200.0          140.0          120.0   \n",
              "39746          140.0          160.0          120.0          140.0   \n",
              "6690           120.0           80.0          100.0          120.0   \n",
              "50291          140.0          200.0          120.0          140.0   \n",
              "53028          160.0          180.0          160.0          200.0   \n",
              "14674            NaN            NaN            NaN            NaN   \n",
              "7985           140.0          140.0          120.0          140.0   \n",
              "44697            NaN            NaN            NaN            NaN   \n",
              "15973          120.0          120.0          120.0          140.0   \n",
              "50901          100.0          120.0          120.0          100.0   \n",
              "20908          120.0          120.0          100.0          120.0   \n",
              "39587          120.0          180.0          120.0          140.0   \n",
              "\n",
              "       NU_NOTA_COMP5  NU_NOTA_REDACAO  \n",
              "11516            NaN              NaN  \n",
              "209            120.0            620.0  \n",
              "1609            40.0            400.0  \n",
              "40738          120.0            520.0  \n",
              "42783            NaN              NaN  \n",
              "6805           100.0            620.0  \n",
              "33102            NaN              NaN  \n",
              "45383          120.0            600.0  \n",
              "29621          160.0            740.0  \n",
              "22539          160.0            840.0  \n",
              "15588          200.0            920.0  \n",
              "5507           180.0            940.0  \n",
              "27495           40.0            520.0  \n",
              "52770          160.0            680.0  \n",
              "29525          180.0            860.0  \n",
              "18340           80.0            520.0  \n",
              "22888          200.0            920.0  \n",
              "57459            0.0            520.0  \n",
              "35917          160.0            760.0  \n",
              "39746          140.0            700.0  \n",
              "6690           120.0            540.0  \n",
              "50291          120.0            720.0  \n",
              "53028          200.0            900.0  \n",
              "14674            NaN              NaN  \n",
              "7985           160.0            700.0  \n",
              "44697            NaN              NaN  \n",
              "15973          160.0            660.0  \n",
              "50901          120.0            560.0  \n",
              "20908          120.0            580.0  \n",
              "39587          140.0            700.0  \n",
              "\n",
              "[30 rows x 29 columns]"
            ],
            "text/html": [
              "\n",
              "  <div id=\"df-61e95ca3-d0d6-47b6-af09-c9e8c489c1ec\">\n",
              "    <div class=\"colab-df-container\">\n",
              "      <div>\n",
              "<style scoped>\n",
              "    .dataframe tbody tr th:only-of-type {\n",
              "        vertical-align: middle;\n",
              "    }\n",
              "\n",
              "    .dataframe tbody tr th {\n",
              "        vertical-align: top;\n",
              "    }\n",
              "\n",
              "    .dataframe thead th {\n",
              "        text-align: right;\n",
              "    }\n",
              "</style>\n",
              "<table border=\"1\" class=\"dataframe\">\n",
              "  <thead>\n",
              "    <tr style=\"text-align: right;\">\n",
              "      <th></th>\n",
              "      <th>NU_INSCRICAO</th>\n",
              "      <th>NU_ANO</th>\n",
              "      <th>TP_FAIXA_ETARIA</th>\n",
              "      <th>TP_SEXO</th>\n",
              "      <th>TP_ESTADO_CIVIL</th>\n",
              "      <th>TP_COR_RACA</th>\n",
              "      <th>TP_NACIONALIDADE</th>\n",
              "      <th>TP_ST_CONCLUSAO</th>\n",
              "      <th>TP_ANO_CONCLUIU</th>\n",
              "      <th>TP_ESCOLA</th>\n",
              "      <th>...</th>\n",
              "      <th>NU_NOTA_CN</th>\n",
              "      <th>NU_NOTA_CH</th>\n",
              "      <th>NU_NOTA_LC</th>\n",
              "      <th>NU_NOTA_MT</th>\n",
              "      <th>NU_NOTA_COMP1</th>\n",
              "      <th>NU_NOTA_COMP2</th>\n",
              "      <th>NU_NOTA_COMP3</th>\n",
              "      <th>NU_NOTA_COMP4</th>\n",
              "      <th>NU_NOTA_COMP5</th>\n",
              "      <th>NU_NOTA_REDACAO</th>\n",
              "    </tr>\n",
              "  </thead>\n",
              "  <tbody>\n",
              "    <tr>\n",
              "      <th>11516</th>\n",
              "      <td>210053057367</td>\n",
              "      <td>2021</td>\n",
              "      <td>11</td>\n",
              "      <td>M</td>\n",
              "      <td>1</td>\n",
              "      <td>4</td>\n",
              "      <td>1</td>\n",
              "      <td>4</td>\n",
              "      <td>0</td>\n",
              "      <td>1</td>\n",
              "      <td>...</td>\n",
              "      <td>NaN</td>\n",
              "      <td>NaN</td>\n",
              "      <td>NaN</td>\n",
              "      <td>NaN</td>\n",
              "      <td>NaN</td>\n",
              "      <td>NaN</td>\n",
              "      <td>NaN</td>\n",
              "      <td>NaN</td>\n",
              "      <td>NaN</td>\n",
              "      <td>NaN</td>\n",
              "    </tr>\n",
              "    <tr>\n",
              "      <th>209</th>\n",
              "      <td>210052699486</td>\n",
              "      <td>2021</td>\n",
              "      <td>3</td>\n",
              "      <td>F</td>\n",
              "      <td>1</td>\n",
              "      <td>1</td>\n",
              "      <td>1</td>\n",
              "      <td>2</td>\n",
              "      <td>0</td>\n",
              "      <td>2</td>\n",
              "      <td>...</td>\n",
              "      <td>441.9</td>\n",
              "      <td>469.4</td>\n",
              "      <td>500.1</td>\n",
              "      <td>506.5</td>\n",
              "      <td>120.0</td>\n",
              "      <td>160.0</td>\n",
              "      <td>100.0</td>\n",
              "      <td>120.0</td>\n",
              "      <td>120.0</td>\n",
              "      <td>620.0</td>\n",
              "    </tr>\n",
              "    <tr>\n",
              "      <th>1609</th>\n",
              "      <td>210053024840</td>\n",
              "      <td>2021</td>\n",
              "      <td>12</td>\n",
              "      <td>F</td>\n",
              "      <td>2</td>\n",
              "      <td>5</td>\n",
              "      <td>1</td>\n",
              "      <td>1</td>\n",
              "      <td>14</td>\n",
              "      <td>1</td>\n",
              "      <td>...</td>\n",
              "      <td>464.8</td>\n",
              "      <td>590.1</td>\n",
              "      <td>491.6</td>\n",
              "      <td>468.8</td>\n",
              "      <td>120.0</td>\n",
              "      <td>80.0</td>\n",
              "      <td>60.0</td>\n",
              "      <td>100.0</td>\n",
              "      <td>40.0</td>\n",
              "      <td>400.0</td>\n",
              "    </tr>\n",
              "    <tr>\n",
              "      <th>40738</th>\n",
              "      <td>210054114732</td>\n",
              "      <td>2021</td>\n",
              "      <td>2</td>\n",
              "      <td>M</td>\n",
              "      <td>1</td>\n",
              "      <td>3</td>\n",
              "      <td>1</td>\n",
              "      <td>2</td>\n",
              "      <td>0</td>\n",
              "      <td>2</td>\n",
              "      <td>...</td>\n",
              "      <td>422.5</td>\n",
              "      <td>365.4</td>\n",
              "      <td>468.7</td>\n",
              "      <td>442.3</td>\n",
              "      <td>120.0</td>\n",
              "      <td>100.0</td>\n",
              "      <td>80.0</td>\n",
              "      <td>100.0</td>\n",
              "      <td>120.0</td>\n",
              "      <td>520.0</td>\n",
              "    </tr>\n",
              "    <tr>\n",
              "      <th>42783</th>\n",
              "      <td>210051244423</td>\n",
              "      <td>2021</td>\n",
              "      <td>11</td>\n",
              "      <td>F</td>\n",
              "      <td>1</td>\n",
              "      <td>3</td>\n",
              "      <td>1</td>\n",
              "      <td>1</td>\n",
              "      <td>0</td>\n",
              "      <td>1</td>\n",
              "      <td>...</td>\n",
              "      <td>NaN</td>\n",
              "      <td>NaN</td>\n",
              "      <td>NaN</td>\n",
              "      <td>NaN</td>\n",
              "      <td>NaN</td>\n",
              "      <td>NaN</td>\n",
              "      <td>NaN</td>\n",
              "      <td>NaN</td>\n",
              "      <td>NaN</td>\n",
              "      <td>NaN</td>\n",
              "    </tr>\n",
              "    <tr>\n",
              "      <th>6805</th>\n",
              "      <td>210051243724</td>\n",
              "      <td>2021</td>\n",
              "      <td>2</td>\n",
              "      <td>M</td>\n",
              "      <td>1</td>\n",
              "      <td>2</td>\n",
              "      <td>1</td>\n",
              "      <td>3</td>\n",
              "      <td>0</td>\n",
              "      <td>1</td>\n",
              "      <td>...</td>\n",
              "      <td>528.3</td>\n",
              "      <td>461.7</td>\n",
              "      <td>513.3</td>\n",
              "      <td>509.7</td>\n",
              "      <td>100.0</td>\n",
              "      <td>200.0</td>\n",
              "      <td>120.0</td>\n",
              "      <td>100.0</td>\n",
              "      <td>100.0</td>\n",
              "      <td>620.0</td>\n",
              "    </tr>\n",
              "    <tr>\n",
              "      <th>33102</th>\n",
              "      <td>210054178191</td>\n",
              "      <td>2021</td>\n",
              "      <td>6</td>\n",
              "      <td>F</td>\n",
              "      <td>1</td>\n",
              "      <td>3</td>\n",
              "      <td>1</td>\n",
              "      <td>1</td>\n",
              "      <td>3</td>\n",
              "      <td>1</td>\n",
              "      <td>...</td>\n",
              "      <td>NaN</td>\n",
              "      <td>NaN</td>\n",
              "      <td>NaN</td>\n",
              "      <td>NaN</td>\n",
              "      <td>NaN</td>\n",
              "      <td>NaN</td>\n",
              "      <td>NaN</td>\n",
              "      <td>NaN</td>\n",
              "      <td>NaN</td>\n",
              "      <td>NaN</td>\n",
              "    </tr>\n",
              "    <tr>\n",
              "      <th>45383</th>\n",
              "      <td>210052788477</td>\n",
              "      <td>2021</td>\n",
              "      <td>3</td>\n",
              "      <td>M</td>\n",
              "      <td>1</td>\n",
              "      <td>3</td>\n",
              "      <td>1</td>\n",
              "      <td>2</td>\n",
              "      <td>0</td>\n",
              "      <td>2</td>\n",
              "      <td>...</td>\n",
              "      <td>398.7</td>\n",
              "      <td>549.3</td>\n",
              "      <td>505.0</td>\n",
              "      <td>539.8</td>\n",
              "      <td>100.0</td>\n",
              "      <td>160.0</td>\n",
              "      <td>100.0</td>\n",
              "      <td>120.0</td>\n",
              "      <td>120.0</td>\n",
              "      <td>600.0</td>\n",
              "    </tr>\n",
              "    <tr>\n",
              "      <th>29621</th>\n",
              "      <td>210053444036</td>\n",
              "      <td>2021</td>\n",
              "      <td>2</td>\n",
              "      <td>F</td>\n",
              "      <td>1</td>\n",
              "      <td>3</td>\n",
              "      <td>1</td>\n",
              "      <td>2</td>\n",
              "      <td>0</td>\n",
              "      <td>2</td>\n",
              "      <td>...</td>\n",
              "      <td>470.7</td>\n",
              "      <td>482.4</td>\n",
              "      <td>462.9</td>\n",
              "      <td>555.0</td>\n",
              "      <td>120.0</td>\n",
              "      <td>160.0</td>\n",
              "      <td>120.0</td>\n",
              "      <td>180.0</td>\n",
              "      <td>160.0</td>\n",
              "      <td>740.0</td>\n",
              "    </tr>\n",
              "    <tr>\n",
              "      <th>22539</th>\n",
              "      <td>210051804271</td>\n",
              "      <td>2021</td>\n",
              "      <td>3</td>\n",
              "      <td>F</td>\n",
              "      <td>1</td>\n",
              "      <td>3</td>\n",
              "      <td>1</td>\n",
              "      <td>2</td>\n",
              "      <td>0</td>\n",
              "      <td>2</td>\n",
              "      <td>...</td>\n",
              "      <td>678.7</td>\n",
              "      <td>704.2</td>\n",
              "      <td>661.7</td>\n",
              "      <td>748.9</td>\n",
              "      <td>160.0</td>\n",
              "      <td>200.0</td>\n",
              "      <td>160.0</td>\n",
              "      <td>160.0</td>\n",
              "      <td>160.0</td>\n",
              "      <td>840.0</td>\n",
              "    </tr>\n",
              "    <tr>\n",
              "      <th>15588</th>\n",
              "      <td>210053230282</td>\n",
              "      <td>2021</td>\n",
              "      <td>6</td>\n",
              "      <td>F</td>\n",
              "      <td>1</td>\n",
              "      <td>3</td>\n",
              "      <td>1</td>\n",
              "      <td>1</td>\n",
              "      <td>3</td>\n",
              "      <td>1</td>\n",
              "      <td>...</td>\n",
              "      <td>723.7</td>\n",
              "      <td>791.1</td>\n",
              "      <td>667.2</td>\n",
              "      <td>820.7</td>\n",
              "      <td>180.0</td>\n",
              "      <td>180.0</td>\n",
              "      <td>160.0</td>\n",
              "      <td>200.0</td>\n",
              "      <td>200.0</td>\n",
              "      <td>920.0</td>\n",
              "    </tr>\n",
              "    <tr>\n",
              "      <th>5507</th>\n",
              "      <td>210053543409</td>\n",
              "      <td>2021</td>\n",
              "      <td>1</td>\n",
              "      <td>F</td>\n",
              "      <td>1</td>\n",
              "      <td>3</td>\n",
              "      <td>1</td>\n",
              "      <td>3</td>\n",
              "      <td>0</td>\n",
              "      <td>1</td>\n",
              "      <td>...</td>\n",
              "      <td>399.8</td>\n",
              "      <td>523.4</td>\n",
              "      <td>451.3</td>\n",
              "      <td>512.3</td>\n",
              "      <td>180.0</td>\n",
              "      <td>200.0</td>\n",
              "      <td>180.0</td>\n",
              "      <td>200.0</td>\n",
              "      <td>180.0</td>\n",
              "      <td>940.0</td>\n",
              "    </tr>\n",
              "    <tr>\n",
              "      <th>27495</th>\n",
              "      <td>210053742613</td>\n",
              "      <td>2021</td>\n",
              "      <td>2</td>\n",
              "      <td>F</td>\n",
              "      <td>1</td>\n",
              "      <td>3</td>\n",
              "      <td>1</td>\n",
              "      <td>2</td>\n",
              "      <td>0</td>\n",
              "      <td>2</td>\n",
              "      <td>...</td>\n",
              "      <td>381.4</td>\n",
              "      <td>354.4</td>\n",
              "      <td>401.5</td>\n",
              "      <td>378.6</td>\n",
              "      <td>120.0</td>\n",
              "      <td>120.0</td>\n",
              "      <td>120.0</td>\n",
              "      <td>120.0</td>\n",
              "      <td>40.0</td>\n",
              "      <td>520.0</td>\n",
              "    </tr>\n",
              "    <tr>\n",
              "      <th>52770</th>\n",
              "      <td>210052828000</td>\n",
              "      <td>2021</td>\n",
              "      <td>6</td>\n",
              "      <td>M</td>\n",
              "      <td>1</td>\n",
              "      <td>3</td>\n",
              "      <td>1</td>\n",
              "      <td>1</td>\n",
              "      <td>2</td>\n",
              "      <td>1</td>\n",
              "      <td>...</td>\n",
              "      <td>503.2</td>\n",
              "      <td>536.5</td>\n",
              "      <td>536.9</td>\n",
              "      <td>522.1</td>\n",
              "      <td>120.0</td>\n",
              "      <td>140.0</td>\n",
              "      <td>120.0</td>\n",
              "      <td>140.0</td>\n",
              "      <td>160.0</td>\n",
              "      <td>680.0</td>\n",
              "    </tr>\n",
              "    <tr>\n",
              "      <th>29525</th>\n",
              "      <td>210053403381</td>\n",
              "      <td>2021</td>\n",
              "      <td>3</td>\n",
              "      <td>F</td>\n",
              "      <td>1</td>\n",
              "      <td>3</td>\n",
              "      <td>1</td>\n",
              "      <td>2</td>\n",
              "      <td>0</td>\n",
              "      <td>2</td>\n",
              "      <td>...</td>\n",
              "      <td>565.9</td>\n",
              "      <td>558.9</td>\n",
              "      <td>495.0</td>\n",
              "      <td>635.2</td>\n",
              "      <td>160.0</td>\n",
              "      <td>200.0</td>\n",
              "      <td>140.0</td>\n",
              "      <td>180.0</td>\n",
              "      <td>180.0</td>\n",
              "      <td>860.0</td>\n",
              "    </tr>\n",
              "    <tr>\n",
              "      <th>18340</th>\n",
              "      <td>210052115633</td>\n",
              "      <td>2021</td>\n",
              "      <td>11</td>\n",
              "      <td>F</td>\n",
              "      <td>1</td>\n",
              "      <td>3</td>\n",
              "      <td>1</td>\n",
              "      <td>1</td>\n",
              "      <td>9</td>\n",
              "      <td>1</td>\n",
              "      <td>...</td>\n",
              "      <td>513.9</td>\n",
              "      <td>494.5</td>\n",
              "      <td>580.5</td>\n",
              "      <td>469.1</td>\n",
              "      <td>100.0</td>\n",
              "      <td>120.0</td>\n",
              "      <td>100.0</td>\n",
              "      <td>120.0</td>\n",
              "      <td>80.0</td>\n",
              "      <td>520.0</td>\n",
              "    </tr>\n",
              "    <tr>\n",
              "      <th>22888</th>\n",
              "      <td>210052165070</td>\n",
              "      <td>2021</td>\n",
              "      <td>2</td>\n",
              "      <td>M</td>\n",
              "      <td>1</td>\n",
              "      <td>3</td>\n",
              "      <td>1</td>\n",
              "      <td>2</td>\n",
              "      <td>0</td>\n",
              "      <td>2</td>\n",
              "      <td>...</td>\n",
              "      <td>673.2</td>\n",
              "      <td>655.9</td>\n",
              "      <td>682.4</td>\n",
              "      <td>771.1</td>\n",
              "      <td>180.0</td>\n",
              "      <td>200.0</td>\n",
              "      <td>180.0</td>\n",
              "      <td>160.0</td>\n",
              "      <td>200.0</td>\n",
              "      <td>920.0</td>\n",
              "    </tr>\n",
              "    <tr>\n",
              "      <th>57459</th>\n",
              "      <td>210051247795</td>\n",
              "      <td>2021</td>\n",
              "      <td>1</td>\n",
              "      <td>F</td>\n",
              "      <td>1</td>\n",
              "      <td>3</td>\n",
              "      <td>1</td>\n",
              "      <td>3</td>\n",
              "      <td>0</td>\n",
              "      <td>1</td>\n",
              "      <td>...</td>\n",
              "      <td>390.6</td>\n",
              "      <td>474.7</td>\n",
              "      <td>508.9</td>\n",
              "      <td>448.2</td>\n",
              "      <td>140.0</td>\n",
              "      <td>120.0</td>\n",
              "      <td>120.0</td>\n",
              "      <td>140.0</td>\n",
              "      <td>0.0</td>\n",
              "      <td>520.0</td>\n",
              "    </tr>\n",
              "    <tr>\n",
              "      <th>35917</th>\n",
              "      <td>210052061900</td>\n",
              "      <td>2021</td>\n",
              "      <td>3</td>\n",
              "      <td>F</td>\n",
              "      <td>1</td>\n",
              "      <td>1</td>\n",
              "      <td>1</td>\n",
              "      <td>2</td>\n",
              "      <td>0</td>\n",
              "      <td>2</td>\n",
              "      <td>...</td>\n",
              "      <td>433.0</td>\n",
              "      <td>564.3</td>\n",
              "      <td>492.6</td>\n",
              "      <td>551.2</td>\n",
              "      <td>140.0</td>\n",
              "      <td>200.0</td>\n",
              "      <td>140.0</td>\n",
              "      <td>120.0</td>\n",
              "      <td>160.0</td>\n",
              "      <td>760.0</td>\n",
              "    </tr>\n",
              "    <tr>\n",
              "      <th>39746</th>\n",
              "      <td>210051159126</td>\n",
              "      <td>2021</td>\n",
              "      <td>6</td>\n",
              "      <td>F</td>\n",
              "      <td>1</td>\n",
              "      <td>3</td>\n",
              "      <td>1</td>\n",
              "      <td>1</td>\n",
              "      <td>4</td>\n",
              "      <td>1</td>\n",
              "      <td>...</td>\n",
              "      <td>404.3</td>\n",
              "      <td>415.7</td>\n",
              "      <td>522.2</td>\n",
              "      <td>389.4</td>\n",
              "      <td>140.0</td>\n",
              "      <td>160.0</td>\n",
              "      <td>120.0</td>\n",
              "      <td>140.0</td>\n",
              "      <td>140.0</td>\n",
              "      <td>700.0</td>\n",
              "    </tr>\n",
              "    <tr>\n",
              "      <th>6690</th>\n",
              "      <td>210052179726</td>\n",
              "      <td>2021</td>\n",
              "      <td>6</td>\n",
              "      <td>M</td>\n",
              "      <td>1</td>\n",
              "      <td>1</td>\n",
              "      <td>1</td>\n",
              "      <td>1</td>\n",
              "      <td>4</td>\n",
              "      <td>1</td>\n",
              "      <td>...</td>\n",
              "      <td>NaN</td>\n",
              "      <td>547.8</td>\n",
              "      <td>560.9</td>\n",
              "      <td>NaN</td>\n",
              "      <td>120.0</td>\n",
              "      <td>80.0</td>\n",
              "      <td>100.0</td>\n",
              "      <td>120.0</td>\n",
              "      <td>120.0</td>\n",
              "      <td>540.0</td>\n",
              "    </tr>\n",
              "    <tr>\n",
              "      <th>50291</th>\n",
              "      <td>210054462606</td>\n",
              "      <td>2021</td>\n",
              "      <td>12</td>\n",
              "      <td>F</td>\n",
              "      <td>1</td>\n",
              "      <td>3</td>\n",
              "      <td>1</td>\n",
              "      <td>1</td>\n",
              "      <td>12</td>\n",
              "      <td>1</td>\n",
              "      <td>...</td>\n",
              "      <td>472.8</td>\n",
              "      <td>573.2</td>\n",
              "      <td>490.3</td>\n",
              "      <td>411.3</td>\n",
              "      <td>140.0</td>\n",
              "      <td>200.0</td>\n",
              "      <td>120.0</td>\n",
              "      <td>140.0</td>\n",
              "      <td>120.0</td>\n",
              "      <td>720.0</td>\n",
              "    </tr>\n",
              "    <tr>\n",
              "      <th>53028</th>\n",
              "      <td>210052925967</td>\n",
              "      <td>2021</td>\n",
              "      <td>3</td>\n",
              "      <td>M</td>\n",
              "      <td>1</td>\n",
              "      <td>1</td>\n",
              "      <td>1</td>\n",
              "      <td>2</td>\n",
              "      <td>0</td>\n",
              "      <td>3</td>\n",
              "      <td>...</td>\n",
              "      <td>603.0</td>\n",
              "      <td>638.5</td>\n",
              "      <td>598.4</td>\n",
              "      <td>673.1</td>\n",
              "      <td>160.0</td>\n",
              "      <td>180.0</td>\n",
              "      <td>160.0</td>\n",
              "      <td>200.0</td>\n",
              "      <td>200.0</td>\n",
              "      <td>900.0</td>\n",
              "    </tr>\n",
              "    <tr>\n",
              "      <th>14674</th>\n",
              "      <td>210052756655</td>\n",
              "      <td>2021</td>\n",
              "      <td>3</td>\n",
              "      <td>F</td>\n",
              "      <td>1</td>\n",
              "      <td>1</td>\n",
              "      <td>1</td>\n",
              "      <td>2</td>\n",
              "      <td>0</td>\n",
              "      <td>2</td>\n",
              "      <td>...</td>\n",
              "      <td>NaN</td>\n",
              "      <td>NaN</td>\n",
              "      <td>NaN</td>\n",
              "      <td>NaN</td>\n",
              "      <td>NaN</td>\n",
              "      <td>NaN</td>\n",
              "      <td>NaN</td>\n",
              "      <td>NaN</td>\n",
              "      <td>NaN</td>\n",
              "      <td>NaN</td>\n",
              "    </tr>\n",
              "    <tr>\n",
              "      <th>7985</th>\n",
              "      <td>210052314164</td>\n",
              "      <td>2021</td>\n",
              "      <td>5</td>\n",
              "      <td>M</td>\n",
              "      <td>1</td>\n",
              "      <td>3</td>\n",
              "      <td>1</td>\n",
              "      <td>1</td>\n",
              "      <td>2</td>\n",
              "      <td>1</td>\n",
              "      <td>...</td>\n",
              "      <td>553.6</td>\n",
              "      <td>619.6</td>\n",
              "      <td>626.3</td>\n",
              "      <td>559.8</td>\n",
              "      <td>140.0</td>\n",
              "      <td>140.0</td>\n",
              "      <td>120.0</td>\n",
              "      <td>140.0</td>\n",
              "      <td>160.0</td>\n",
              "      <td>700.0</td>\n",
              "    </tr>\n",
              "    <tr>\n",
              "      <th>44697</th>\n",
              "      <td>210054012333</td>\n",
              "      <td>2021</td>\n",
              "      <td>3</td>\n",
              "      <td>F</td>\n",
              "      <td>1</td>\n",
              "      <td>3</td>\n",
              "      <td>1</td>\n",
              "      <td>1</td>\n",
              "      <td>1</td>\n",
              "      <td>1</td>\n",
              "      <td>...</td>\n",
              "      <td>NaN</td>\n",
              "      <td>NaN</td>\n",
              "      <td>NaN</td>\n",
              "      <td>NaN</td>\n",
              "      <td>NaN</td>\n",
              "      <td>NaN</td>\n",
              "      <td>NaN</td>\n",
              "      <td>NaN</td>\n",
              "      <td>NaN</td>\n",
              "      <td>NaN</td>\n",
              "    </tr>\n",
              "    <tr>\n",
              "      <th>15973</th>\n",
              "      <td>210051531003</td>\n",
              "      <td>2021</td>\n",
              "      <td>2</td>\n",
              "      <td>M</td>\n",
              "      <td>1</td>\n",
              "      <td>2</td>\n",
              "      <td>1</td>\n",
              "      <td>2</td>\n",
              "      <td>0</td>\n",
              "      <td>2</td>\n",
              "      <td>...</td>\n",
              "      <td>574.1</td>\n",
              "      <td>586.9</td>\n",
              "      <td>557.1</td>\n",
              "      <td>699.9</td>\n",
              "      <td>120.0</td>\n",
              "      <td>120.0</td>\n",
              "      <td>120.0</td>\n",
              "      <td>140.0</td>\n",
              "      <td>160.0</td>\n",
              "      <td>660.0</td>\n",
              "    </tr>\n",
              "    <tr>\n",
              "      <th>50901</th>\n",
              "      <td>210051586440</td>\n",
              "      <td>2021</td>\n",
              "      <td>12</td>\n",
              "      <td>M</td>\n",
              "      <td>2</td>\n",
              "      <td>1</td>\n",
              "      <td>1</td>\n",
              "      <td>1</td>\n",
              "      <td>12</td>\n",
              "      <td>1</td>\n",
              "      <td>...</td>\n",
              "      <td>565.0</td>\n",
              "      <td>590.4</td>\n",
              "      <td>493.0</td>\n",
              "      <td>459.0</td>\n",
              "      <td>100.0</td>\n",
              "      <td>120.0</td>\n",
              "      <td>120.0</td>\n",
              "      <td>100.0</td>\n",
              "      <td>120.0</td>\n",
              "      <td>560.0</td>\n",
              "    </tr>\n",
              "    <tr>\n",
              "      <th>20908</th>\n",
              "      <td>210052903344</td>\n",
              "      <td>2021</td>\n",
              "      <td>2</td>\n",
              "      <td>F</td>\n",
              "      <td>1</td>\n",
              "      <td>2</td>\n",
              "      <td>1</td>\n",
              "      <td>3</td>\n",
              "      <td>0</td>\n",
              "      <td>1</td>\n",
              "      <td>...</td>\n",
              "      <td>481.8</td>\n",
              "      <td>431.8</td>\n",
              "      <td>375.3</td>\n",
              "      <td>411.9</td>\n",
              "      <td>120.0</td>\n",
              "      <td>120.0</td>\n",
              "      <td>100.0</td>\n",
              "      <td>120.0</td>\n",
              "      <td>120.0</td>\n",
              "      <td>580.0</td>\n",
              "    </tr>\n",
              "    <tr>\n",
              "      <th>39587</th>\n",
              "      <td>210053317100</td>\n",
              "      <td>2021</td>\n",
              "      <td>2</td>\n",
              "      <td>F</td>\n",
              "      <td>1</td>\n",
              "      <td>3</td>\n",
              "      <td>1</td>\n",
              "      <td>2</td>\n",
              "      <td>0</td>\n",
              "      <td>2</td>\n",
              "      <td>...</td>\n",
              "      <td>506.6</td>\n",
              "      <td>528.2</td>\n",
              "      <td>545.4</td>\n",
              "      <td>617.5</td>\n",
              "      <td>120.0</td>\n",
              "      <td>180.0</td>\n",
              "      <td>120.0</td>\n",
              "      <td>140.0</td>\n",
              "      <td>140.0</td>\n",
              "      <td>700.0</td>\n",
              "    </tr>\n",
              "  </tbody>\n",
              "</table>\n",
              "<p>30 rows × 29 columns</p>\n",
              "</div>\n",
              "      <button class=\"colab-df-convert\" onclick=\"convertToInteractive('df-61e95ca3-d0d6-47b6-af09-c9e8c489c1ec')\"\n",
              "              title=\"Convert this dataframe to an interactive table.\"\n",
              "              style=\"display:none;\">\n",
              "        \n",
              "  <svg xmlns=\"http://www.w3.org/2000/svg\" height=\"24px\"viewBox=\"0 0 24 24\"\n",
              "       width=\"24px\">\n",
              "    <path d=\"M0 0h24v24H0V0z\" fill=\"none\"/>\n",
              "    <path d=\"M18.56 5.44l.94 2.06.94-2.06 2.06-.94-2.06-.94-.94-2.06-.94 2.06-2.06.94zm-11 1L8.5 8.5l.94-2.06 2.06-.94-2.06-.94L8.5 2.5l-.94 2.06-2.06.94zm10 10l.94 2.06.94-2.06 2.06-.94-2.06-.94-.94-2.06-.94 2.06-2.06.94z\"/><path d=\"M17.41 7.96l-1.37-1.37c-.4-.4-.92-.59-1.43-.59-.52 0-1.04.2-1.43.59L10.3 9.45l-7.72 7.72c-.78.78-.78 2.05 0 2.83L4 21.41c.39.39.9.59 1.41.59.51 0 1.02-.2 1.41-.59l7.78-7.78 2.81-2.81c.8-.78.8-2.07 0-2.86zM5.41 20L4 18.59l7.72-7.72 1.47 1.35L5.41 20z\"/>\n",
              "  </svg>\n",
              "      </button>\n",
              "      \n",
              "  <style>\n",
              "    .colab-df-container {\n",
              "      display:flex;\n",
              "      flex-wrap:wrap;\n",
              "      gap: 12px;\n",
              "    }\n",
              "\n",
              "    .colab-df-convert {\n",
              "      background-color: #E8F0FE;\n",
              "      border: none;\n",
              "      border-radius: 50%;\n",
              "      cursor: pointer;\n",
              "      display: none;\n",
              "      fill: #1967D2;\n",
              "      height: 32px;\n",
              "      padding: 0 0 0 0;\n",
              "      width: 32px;\n",
              "    }\n",
              "\n",
              "    .colab-df-convert:hover {\n",
              "      background-color: #E2EBFA;\n",
              "      box-shadow: 0px 1px 2px rgba(60, 64, 67, 0.3), 0px 1px 3px 1px rgba(60, 64, 67, 0.15);\n",
              "      fill: #174EA6;\n",
              "    }\n",
              "\n",
              "    [theme=dark] .colab-df-convert {\n",
              "      background-color: #3B4455;\n",
              "      fill: #D2E3FC;\n",
              "    }\n",
              "\n",
              "    [theme=dark] .colab-df-convert:hover {\n",
              "      background-color: #434B5C;\n",
              "      box-shadow: 0px 1px 3px 1px rgba(0, 0, 0, 0.15);\n",
              "      filter: drop-shadow(0px 1px 2px rgba(0, 0, 0, 0.3));\n",
              "      fill: #FFFFFF;\n",
              "    }\n",
              "  </style>\n",
              "\n",
              "      <script>\n",
              "        const buttonEl =\n",
              "          document.querySelector('#df-61e95ca3-d0d6-47b6-af09-c9e8c489c1ec button.colab-df-convert');\n",
              "        buttonEl.style.display =\n",
              "          google.colab.kernel.accessAllowed ? 'block' : 'none';\n",
              "\n",
              "        async function convertToInteractive(key) {\n",
              "          const element = document.querySelector('#df-61e95ca3-d0d6-47b6-af09-c9e8c489c1ec');\n",
              "          const dataTable =\n",
              "            await google.colab.kernel.invokeFunction('convertToInteractive',\n",
              "                                                     [key], {});\n",
              "          if (!dataTable) return;\n",
              "\n",
              "          const docLinkHtml = 'Like what you see? Visit the ' +\n",
              "            '<a target=\"_blank\" href=https://colab.research.google.com/notebooks/data_table.ipynb>data table notebook</a>'\n",
              "            + ' to learn more about interactive tables.';\n",
              "          element.innerHTML = '';\n",
              "          dataTable['output_type'] = 'display_data';\n",
              "          await google.colab.output.renderOutput(dataTable, element);\n",
              "          const docLink = document.createElement('div');\n",
              "          docLink.innerHTML = docLinkHtml;\n",
              "          element.appendChild(docLink);\n",
              "        }\n",
              "      </script>\n",
              "    </div>\n",
              "  </div>\n",
              "  "
            ]
          },
          "metadata": {},
          "execution_count": 17
        }
      ]
    },
    {
      "cell_type": "code",
      "source": [
        "dados_sexo = dados_enem ['TP_SEXO']"
      ],
      "metadata": {
        "id": "6eN_iwDA9RDp"
      },
      "execution_count": 18,
      "outputs": []
    },
    {
      "cell_type": "code",
      "source": [
        "dados_sexo.value_counts()"
      ],
      "metadata": {
        "id": "jT-McanQ9m6A",
        "colab": {
          "base_uri": "https://localhost:8080/"
        },
        "outputId": "56c6ce8e-af0e-406b-f929-a3d08e7f15f8"
      },
      "execution_count": 19,
      "outputs": [
        {
          "output_type": "execute_result",
          "data": {
            "text/plain": [
              "F    21137\n",
              "M     8863\n",
              "Name: TP_SEXO, dtype: int64"
            ]
          },
          "metadata": {},
          "execution_count": 19
        }
      ]
    },
    {
      "cell_type": "code",
      "source": [
        "# Renomeando registros da faixa etária.\n",
        "dados_enem['TP_FAIXA_ETARIA'] = dados_enem['TP_FAIXA_ETARIA'].replace({1:'Menor de 17', 2:17, 3:18, 4:19, 5:20, 6:21,7:22, 8:23, 9:24, 10:25, 11:'Entre 26 e 30', 12: 'Entre 31 e 35', 13: 'Entre 36 e 40', 14: 'Entre 41 e 45', 15: 'Entre 46 e 50', 16: 'Entre 51 e 55', 17:'Entre 56 e 60', 18: 'Entre 61 e 65', 19: 'Entre 66 e 70', 20: 'Maior de 70' })"
      ],
      "metadata": {
        "id": "Ua7tPh8rBotH"
      },
      "execution_count": 20,
      "outputs": []
    },
    {
      "cell_type": "code",
      "source": [
        "dados_faixa_etaria = dados_enem ['TP_FAIXA_ETARIA']"
      ],
      "metadata": {
        "id": "Wq8pf7Qw-P2N"
      },
      "execution_count": 21,
      "outputs": []
    },
    {
      "cell_type": "code",
      "source": [
        "dados_faixa_etaria.value_counts()"
      ],
      "metadata": {
        "id": "DE9bsGZ0-aqI",
        "colab": {
          "base_uri": "https://localhost:8080/"
        },
        "outputId": "6e15c2b9-940a-48c6-d3db-d3c88a4e86df"
      },
      "execution_count": 22,
      "outputs": [
        {
          "output_type": "execute_result",
          "data": {
            "text/plain": [
              "18               8026\n",
              "17               6751\n",
              "19               3870\n",
              "20               2304\n",
              "Menor de 17      1652\n",
              "21               1516\n",
              "Entre 26 e 30    1356\n",
              "22                893\n",
              "Entre 31 e 35     753\n",
              "23                638\n",
              "24                566\n",
              "Entre 36 e 40     546\n",
              "25                425\n",
              "Entre 41 e 45     311\n",
              "Entre 46 e 50     186\n",
              "Entre 51 e 55     126\n",
              "Entre 56 e 60      58\n",
              "Entre 61 e 65      14\n",
              "Entre 66 e 70       5\n",
              "Maior de 70         4\n",
              "Name: TP_FAIXA_ETARIA, dtype: int64"
            ]
          },
          "metadata": {},
          "execution_count": 22
        }
      ]
    },
    {
      "cell_type": "code",
      "source": [
        "dados_enem['TP_ESTADO_CIVIL'] = dados_enem['TP_ESTADO_CIVIL']. replace ({0: 'Não informado', 1: 'Solteiro(a)', 2: 'Casado(a)', 3: 'Divorciado(a)/Separado(a)', 4: 'Viúvo(a)'})"
      ],
      "metadata": {
        "id": "CRDiSqSBEwls"
      },
      "execution_count": 23,
      "outputs": []
    },
    {
      "cell_type": "code",
      "source": [
        "# Criando uma variável que contém somente os candidatos que compareceram a prova e não foram desclassificados.\n",
        "candidatos = dados_enem.loc[dados_enem.TP_PRESENCA_CH == 1]"
      ],
      "metadata": {
        "id": "6D__y7K06k9I"
      },
      "execution_count": 24,
      "outputs": []
    },
    {
      "cell_type": "markdown",
      "source": [],
      "metadata": {
        "id": "vCKaP1_U747t"
      }
    },
    {
      "cell_type": "code",
      "source": [
        "# A análise será feita utilizando somente os dados dos vestibulandos classificados. As provas LC, CH e redação foram feitas no mesmo dia, CN e MT em outro dia.\n",
        "# Assim, o aluno perde mais de uma prova caso falte um dia.\n",
        "# Registros: 0 = Faltou  à prova; 1 = Presente na prova; 2 = Eliminado na prova.\n",
        "\n"
      ],
      "metadata": {
        "id": "aV92d_WP3Lb0"
      },
      "execution_count": 25,
      "outputs": []
    },
    {
      "cell_type": "code",
      "source": [
        "candidatos = candidatos.loc[candidatos.TP_PRESENCA_MT == 1]"
      ],
      "metadata": {
        "id": "F_tFTk7j7k3A"
      },
      "execution_count": 26,
      "outputs": []
    },
    {
      "cell_type": "code",
      "source": [
        "dados_estado_civil = candidatos['TP_ESTADO_CIVIL']"
      ],
      "metadata": {
        "id": "LrTqzkH8ELjh"
      },
      "execution_count": 27,
      "outputs": []
    },
    {
      "cell_type": "code",
      "source": [
        "dados_estado_civil.value_counts()"
      ],
      "metadata": {
        "id": "ccCKFZDJETer",
        "colab": {
          "base_uri": "https://localhost:8080/"
        },
        "outputId": "cf13648e-65b2-457d-fb6c-ff9de4c68755"
      },
      "execution_count": 28,
      "outputs": [
        {
          "output_type": "execute_result",
          "data": {
            "text/plain": [
              "Solteiro(a)                  21895\n",
              "Casado(a)                      681\n",
              "Não informado                  668\n",
              "Divorciado(a)/Separado(a)      242\n",
              "Viúvo(a)                        13\n",
              "Name: TP_ESTADO_CIVIL, dtype: int64"
            ]
          },
          "metadata": {},
          "execution_count": 28
        }
      ]
    },
    {
      "cell_type": "code",
      "source": [
        "dados_mulheres = candidatos.loc[candidatos.TP_SEXO == 'F']"
      ],
      "metadata": {
        "id": "gyHXMwNFyZeY"
      },
      "execution_count": 29,
      "outputs": []
    },
    {
      "cell_type": "code",
      "source": [
        "dados_mulheres.shape"
      ],
      "metadata": {
        "id": "IPDAZwz-04ac",
        "colab": {
          "base_uri": "https://localhost:8080/"
        },
        "outputId": "db95bf68-a45a-4448-e5df-6669f039e35f"
      },
      "execution_count": 30,
      "outputs": [
        {
          "output_type": "execute_result",
          "data": {
            "text/plain": [
              "(16680, 29)"
            ]
          },
          "metadata": {},
          "execution_count": 30
        }
      ]
    },
    {
      "cell_type": "code",
      "source": [
        "dados_homens = candidatos[candidatos.TP_SEXO == 'M']"
      ],
      "metadata": {
        "id": "9_X8TUow1B-a"
      },
      "execution_count": 31,
      "outputs": []
    },
    {
      "cell_type": "code",
      "source": [
        "dados_homens.shape"
      ],
      "metadata": {
        "id": "BB6czv738l6V",
        "colab": {
          "base_uri": "https://localhost:8080/"
        },
        "outputId": "185c6351-2a41-481d-bf0d-a38928cf7903"
      },
      "execution_count": 32,
      "outputs": [
        {
          "output_type": "execute_result",
          "data": {
            "text/plain": [
              "(6819, 29)"
            ]
          },
          "metadata": {},
          "execution_count": 32
        }
      ]
    },
    {
      "cell_type": "code",
      "source": [
        "# Retirando amostras de 3000 homens e 3000 mulheres para melhorar a robustez do teste de normalidade.\n",
        "amostra_mulheres = dados_mulheres.sample(3000)"
      ],
      "metadata": {
        "id": "F0hFqVPm938S"
      },
      "execution_count": 33,
      "outputs": []
    },
    {
      "cell_type": "code",
      "source": [
        "amostra_homens = dados_homens.sample(3000)"
      ],
      "metadata": {
        "id": "dQO3yCTJ-fcz"
      },
      "execution_count": 34,
      "outputs": []
    },
    {
      "cell_type": "markdown",
      "source": [
        "1. Objetivo: Analisar se há diferença de desempenho entre homens e mulheres na nota de redação.\n",
        "\n",
        "\n",
        "*   H0 = Não existe diferença (p>0,05).\n",
        "*   Ha = Existe diferença (p<=0,05).\n",
        "\n"
      ],
      "metadata": {
        "id": "LXGejSX8-xYg"
      }
    },
    {
      "cell_type": "code",
      "source": [
        "import plotly.express as px\n",
        "import seaborn as sns\n",
        "import scipy.stats as stats\n",
        "import matplotlib.pyplot as plt"
      ],
      "metadata": {
        "id": "rQilfDGc_IaG"
      },
      "execution_count": 35,
      "outputs": []
    },
    {
      "cell_type": "code",
      "source": [
        "# Analisando Normalidade com teste de Shapiro-Wilk. (p>0,05)\n",
        "stats.shapiro(amostra_mulheres.NU_NOTA_REDACAO)"
      ],
      "metadata": {
        "colab": {
          "base_uri": "https://localhost:8080/"
        },
        "id": "jsWTkZ9J_srj",
        "outputId": "12ef39ff-48d0-4a33-a2fd-09b15f11f311"
      },
      "execution_count": 36,
      "outputs": [
        {
          "output_type": "execute_result",
          "data": {
            "text/plain": [
              "ShapiroResult(statistic=0.9464705586433411, pvalue=1.0187863777277264e-31)"
            ]
          },
          "metadata": {},
          "execution_count": 36
        }
      ]
    },
    {
      "cell_type": "code",
      "source": [
        "stats.shapiro(amostra_homens.NU_NOTA_REDACAO)"
      ],
      "metadata": {
        "colab": {
          "base_uri": "https://localhost:8080/"
        },
        "id": "mDmEWLIMBcHj",
        "outputId": "17e4c0a9-1055-4c66-f999-fd3a4eda0e5d"
      },
      "execution_count": 37,
      "outputs": [
        {
          "output_type": "execute_result",
          "data": {
            "text/plain": [
              "ShapiroResult(statistic=0.9393039345741272, pvalue=2.145908651122257e-33)"
            ]
          },
          "metadata": {},
          "execution_count": 37
        }
      ]
    },
    {
      "cell_type": "code",
      "source": [
        "# A distribuição das notas de redação de homens e mulheres não é normal, dessa forma será necessário um teste não paramétrico.\n",
        "# Observação dos dados nos gráficos QQ Plot e histograma."
      ],
      "metadata": {
        "id": "eInDti3qBt5g"
      },
      "execution_count": 38,
      "outputs": []
    },
    {
      "cell_type": "code",
      "source": [
        "stats.probplot(amostra_mulheres['NU_NOTA_REDACAO'], dist='norm', plot=plt)\n",
        "plt.title('Normal QQ Plot-Nota Redação Mulheres')\n",
        "plt.show()"
      ],
      "metadata": {
        "id": "AfFYDCVkB5TK",
        "colab": {
          "base_uri": "https://localhost:8080/",
          "height": 295
        },
        "outputId": "e09d70be-b43d-4785-9281-58f8b4bcbf5a"
      },
      "execution_count": 39,
      "outputs": [
        {
          "output_type": "display_data",
          "data": {
            "text/plain": [
              "<Figure size 432x288 with 1 Axes>"
            ],
            "image/png": "[encoded data removed]"
          },
          "metadata": {
            "needs_background": "light"
          }
        }
      ]
    },
    {
      "cell_type": "code",
      "source": [
        "stats.probplot(amostra_homens['NU_NOTA_REDACAO'], dist='norm', plot=plt)\n",
        "plt.title('Normal QQ Plot - Nota Redação Homens')\n",
        "plt.show()"
      ],
      "metadata": {
        "id": "93EoBD6hCNV5",
        "colab": {
          "base_uri": "https://localhost:8080/",
          "height": 295
        },
        "outputId": "c0c28c4b-458e-4f34-9284-8641f0fe0098"
      },
      "execution_count": 40,
      "outputs": [
        {
          "output_type": "display_data",
          "data": {
            "text/plain": [
              "<Figure size 432x288 with 1 Axes>"
            ],
            "image/png": "[encoded data removed]"
          },
          "metadata": {
            "needs_background": "light"
          }
        }
      ]
    },
    {
      "cell_type": "code",
      "source": [
        "sns.histplot(amostra_mulheres, x='NU_NOTA_REDACAO', bins=10, color='orange', kde=True, stat='probability')"
      ],
      "metadata": {
        "id": "xmmyyYeDC0TG",
        "colab": {
          "base_uri": "https://localhost:8080/",
          "height": 297
        },
        "outputId": "cad019c7-5278-4557-e58f-b54aa6800e60"
      },
      "execution_count": 41,
      "outputs": [
        {
          "output_type": "execute_result",
          "data": {
            "text/plain": [
              "<matplotlib.axes._subplots.AxesSubplot at 0x7f0c5a043710>"
            ]
          },
          "metadata": {},
          "execution_count": 41
        },
        {
          "output_type": "display_data",
          "data": {
            "text/plain": [
              "<Figure size 432x288 with 1 Axes>"
            ],
            "image/png": "[encoded data removed]"
          },
          "metadata": {
            "needs_background": "light"
          }
        }
      ]
    },
    {
      "cell_type": "code",
      "source": [
        "sns.histplot(amostra_homens, x='NU_NOTA_REDACAO', bins=10, color= 'red', kde=True, stat='probability')"
      ],
      "metadata": {
        "id": "iyMuOg56C-AG",
        "colab": {
          "base_uri": "https://localhost:8080/",
          "height": 297
        },
        "outputId": "0b3f6ad0-6723-4497-e509-97440f80ddcf"
      },
      "execution_count": 42,
      "outputs": [
        {
          "output_type": "execute_result",
          "data": {
            "text/plain": [
              "<matplotlib.axes._subplots.AxesSubplot at 0x7f0c4a00aa10>"
            ]
          },
          "metadata": {},
          "execution_count": 42
        },
        {
          "output_type": "display_data",
          "data": {
            "text/plain": [
              "<Figure size 432x288 with 1 Axes>"
            ],
            "image/png": "[encoded data removed]"
          },
          "metadata": {
            "needs_background": "light"
          }
        }
      ]
    },
    {
      "cell_type": "code",
      "source": [
        "stat, p=stats.mannwhitneyu(amostra_mulheres.NU_NOTA_REDACAO, amostra_homens.NU_NOTA_REDACAO)\n",
        "print('Estatística do Teste: {}'.format(stat.round(2)))\n",
        "print('p-valor:{}'.format(p))"
      ],
      "metadata": {
        "colab": {
          "base_uri": "https://localhost:8080/"
        },
        "id": "kyc6ovSrF_6V",
        "outputId": "4634f12f-f605-46be-c1b1-7c1cfc43c2cc"
      },
      "execution_count": 43,
      "outputs": [
        {
          "output_type": "stream",
          "name": "stdout",
          "text": [
            "Estatística do Teste: 4796493.5\n",
            "p-valor:9.754372085408898e-06\n"
          ]
        }
      ]
    },
    {
      "cell_type": "code",
      "source": [
        "amostra_mulheres.describe()"
      ],
      "metadata": {
        "id": "0zGJQkuMGnD9",
        "colab": {
          "base_uri": "https://localhost:8080/",
          "height": 394
        },
        "outputId": "e874d5a1-42cd-4e5e-8cc9-0c423fa34b2d"
      },
      "execution_count": 44,
      "outputs": [
        {
          "output_type": "execute_result",
          "data": {
            "text/plain": [
              "       NU_INSCRICAO  NU_ANO  TP_COR_RACA  TP_NACIONALIDADE  TP_ST_CONCLUSAO  \\\n",
              "count  3.000000e+03  3000.0  3000.000000       3000.000000      3000.000000   \n",
              "mean   2.100528e+11  2021.0     2.117000          1.026333         1.691667   \n",
              "std    1.010784e+06     0.0     1.010108          0.170244         0.665892   \n",
              "min    2.100510e+11  2021.0     0.000000          0.000000         1.000000   \n",
              "25%    2.100519e+11  2021.0     1.000000          1.000000         1.000000   \n",
              "50%    2.100528e+11  2021.0     2.000000          1.000000         2.000000   \n",
              "75%    2.100537e+11  2021.0     3.000000          1.000000         2.000000   \n",
              "max    2.100545e+11  2021.0     5.000000          4.000000         4.000000   \n",
              "\n",
              "       TP_ANO_CONCLUIU    TP_ESCOLA    TP_ENSINO  IN_TREINEIRO  \\\n",
              "count      3000.000000  3000.000000  1376.000000   3000.000000   \n",
              "mean          1.397333     1.513333     1.007267      0.111000   \n",
              "std           2.910146     0.587597     0.084970      0.314185   \n",
              "min           0.000000     1.000000     1.000000      0.000000   \n",
              "25%           0.000000     1.000000     1.000000      0.000000   \n",
              "50%           0.000000     1.000000     1.000000      0.000000   \n",
              "75%           2.000000     2.000000     1.000000      0.000000   \n",
              "max          15.000000     3.000000     2.000000      1.000000   \n",
              "\n",
              "       CO_MUNICIPIO_ESC  ...   NU_NOTA_CN   NU_NOTA_CH   NU_NOTA_LC  \\\n",
              "count      7.640000e+02  ...  3000.000000  3000.000000  3000.000000   \n",
              "mean       3.188922e+06  ...   484.331033   523.244067   504.426500   \n",
              "std        1.035844e+06  ...    79.335048    93.693517    77.772769   \n",
              "min        1.100114e+06  ...     0.000000     0.000000     0.000000   \n",
              "25%        2.309879e+06  ...   426.100000   451.725000   450.075000   \n",
              "50%        3.106200e+06  ...   471.450000   524.550000   507.800000   \n",
              "75%        3.550308e+06  ...   530.700000   587.525000   556.600000   \n",
              "max        5.300108e+06  ...   765.900000   832.500000   721.500000   \n",
              "\n",
              "        NU_NOTA_MT  NU_NOTA_COMP1  NU_NOTA_COMP2  NU_NOTA_COMP3  \\\n",
              "count  3000.000000    3000.000000    3000.000000    3000.000000   \n",
              "mean    525.385700     127.380000     151.986667     125.400000   \n",
              "std     107.211717      30.196681      43.017865      34.741555   \n",
              "min       0.000000       0.000000       0.000000       0.000000   \n",
              "25%     440.500000     120.000000     120.000000     100.000000   \n",
              "50%     504.300000     120.000000     160.000000     120.000000   \n",
              "75%     596.300000     160.000000     200.000000     140.000000   \n",
              "max     944.100000     200.000000     200.000000     200.000000   \n",
              "\n",
              "       NU_NOTA_COMP4  NU_NOTA_COMP5  NU_NOTA_REDACAO  \n",
              "count    3000.000000    3000.000000      3000.000000  \n",
              "mean      139.653333     129.946667       674.366667  \n",
              "std        37.221073      58.310066       180.391554  \n",
              "min         0.000000       0.000000         0.000000  \n",
              "25%       120.000000     100.000000       560.000000  \n",
              "50%       140.000000     140.000000       660.000000  \n",
              "75%       160.000000     180.000000       820.000000  \n",
              "max       200.000000     200.000000      1000.000000  \n",
              "\n",
              "[8 rows x 25 columns]"
            ],
            "text/html": [
              "\n",
              "  <div id=\"df-8299f9ce-b960-4560-8b68-02dcda061acc\">\n",
              "    <div class=\"colab-df-container\">\n",
              "      <div>\n",
              "<style scoped>\n",
              "    .dataframe tbody tr th:only-of-type {\n",
              "        vertical-align: middle;\n",
              "    }\n",
              "\n",
              "    .dataframe tbody tr th {\n",
              "        vertical-align: top;\n",
              "    }\n",
              "\n",
              "    .dataframe thead th {\n",
              "        text-align: right;\n",
              "    }\n",
              "</style>\n",
              "<table border=\"1\" class=\"dataframe\">\n",
              "  <thead>\n",
              "    <tr style=\"text-align: right;\">\n",
              "      <th></th>\n",
              "      <th>NU_INSCRICAO</th>\n",
              "      <th>NU_ANO</th>\n",
              "      <th>TP_COR_RACA</th>\n",
              "      <th>TP_NACIONALIDADE</th>\n",
              "      <th>TP_ST_CONCLUSAO</th>\n",
              "      <th>TP_ANO_CONCLUIU</th>\n",
              "      <th>TP_ESCOLA</th>\n",
              "      <th>TP_ENSINO</th>\n",
              "      <th>IN_TREINEIRO</th>\n",
              "      <th>CO_MUNICIPIO_ESC</th>\n",
              "      <th>...</th>\n",
              "      <th>NU_NOTA_CN</th>\n",
              "      <th>NU_NOTA_CH</th>\n",
              "      <th>NU_NOTA_LC</th>\n",
              "      <th>NU_NOTA_MT</th>\n",
              "      <th>NU_NOTA_COMP1</th>\n",
              "      <th>NU_NOTA_COMP2</th>\n",
              "      <th>NU_NOTA_COMP3</th>\n",
              "      <th>NU_NOTA_COMP4</th>\n",
              "      <th>NU_NOTA_COMP5</th>\n",
              "      <th>NU_NOTA_REDACAO</th>\n",
              "    </tr>\n",
              "  </thead>\n",
              "  <tbody>\n",
              "    <tr>\n",
              "      <th>count</th>\n",
              "      <td>3.000000e+03</td>\n",
              "      <td>3000.0</td>\n",
              "      <td>3000.000000</td>\n",
              "      <td>3000.000000</td>\n",
              "      <td>3000.000000</td>\n",
              "      <td>3000.000000</td>\n",
              "      <td>3000.000000</td>\n",
              "      <td>1376.000000</td>\n",
              "      <td>3000.000000</td>\n",
              "      <td>7.640000e+02</td>\n",
              "      <td>...</td>\n",
              "      <td>3000.000000</td>\n",
              "      <td>3000.000000</td>\n",
              "      <td>3000.000000</td>\n",
              "      <td>3000.000000</td>\n",
              "      <td>3000.000000</td>\n",
              "      <td>3000.000000</td>\n",
              "      <td>3000.000000</td>\n",
              "      <td>3000.000000</td>\n",
              "      <td>3000.000000</td>\n",
              "      <td>3000.000000</td>\n",
              "    </tr>\n",
              "    <tr>\n",
              "      <th>mean</th>\n",
              "      <td>2.100528e+11</td>\n",
              "      <td>2021.0</td>\n",
              "      <td>2.117000</td>\n",
              "      <td>1.026333</td>\n",
              "      <td>1.691667</td>\n",
              "      <td>1.397333</td>\n",
              "      <td>1.513333</td>\n",
              "      <td>1.007267</td>\n",
              "      <td>0.111000</td>\n",
              "      <td>3.188922e+06</td>\n",
              "      <td>...</td>\n",
              "      <td>484.331033</td>\n",
              "      <td>523.244067</td>\n",
              "      <td>504.426500</td>\n",
              "      <td>525.385700</td>\n",
              "      <td>127.380000</td>\n",
              "      <td>151.986667</td>\n",
              "      <td>125.400000</td>\n",
              "      <td>139.653333</td>\n",
              "      <td>129.946667</td>\n",
              "      <td>674.366667</td>\n",
              "    </tr>\n",
              "    <tr>\n",
              "      <th>std</th>\n",
              "      <td>1.010784e+06</td>\n",
              "      <td>0.0</td>\n",
              "      <td>1.010108</td>\n",
              "      <td>0.170244</td>\n",
              "      <td>0.665892</td>\n",
              "      <td>2.910146</td>\n",
              "      <td>0.587597</td>\n",
              "      <td>0.084970</td>\n",
              "      <td>0.314185</td>\n",
              "      <td>1.035844e+06</td>\n",
              "      <td>...</td>\n",
              "      <td>79.335048</td>\n",
              "      <td>93.693517</td>\n",
              "      <td>77.772769</td>\n",
              "      <td>107.211717</td>\n",
              "      <td>30.196681</td>\n",
              "      <td>43.017865</td>\n",
              "      <td>34.741555</td>\n",
              "      <td>37.221073</td>\n",
              "      <td>58.310066</td>\n",
              "      <td>180.391554</td>\n",
              "    </tr>\n",
              "    <tr>\n",
              "      <th>min</th>\n",
              "      <td>2.100510e+11</td>\n",
              "      <td>2021.0</td>\n",
              "      <td>0.000000</td>\n",
              "      <td>0.000000</td>\n",
              "      <td>1.000000</td>\n",
              "      <td>0.000000</td>\n",
              "      <td>1.000000</td>\n",
              "      <td>1.000000</td>\n",
              "      <td>0.000000</td>\n",
              "      <td>1.100114e+06</td>\n",
              "      <td>...</td>\n",
              "      <td>0.000000</td>\n",
              "      <td>0.000000</td>\n",
              "      <td>0.000000</td>\n",
              "      <td>0.000000</td>\n",
              "      <td>0.000000</td>\n",
              "      <td>0.000000</td>\n",
              "      <td>0.000000</td>\n",
              "      <td>0.000000</td>\n",
              "      <td>0.000000</td>\n",
              "      <td>0.000000</td>\n",
              "    </tr>\n",
              "    <tr>\n",
              "      <th>25%</th>\n",
              "      <td>2.100519e+11</td>\n",
              "      <td>2021.0</td>\n",
              "      <td>1.000000</td>\n",
              "      <td>1.000000</td>\n",
              "      <td>1.000000</td>\n",
              "      <td>0.000000</td>\n",
              "      <td>1.000000</td>\n",
              "      <td>1.000000</td>\n",
              "      <td>0.000000</td>\n",
              "      <td>2.309879e+06</td>\n",
              "      <td>...</td>\n",
              "      <td>426.100000</td>\n",
              "      <td>451.725000</td>\n",
              "      <td>450.075000</td>\n",
              "      <td>440.500000</td>\n",
              "      <td>120.000000</td>\n",
              "      <td>120.000000</td>\n",
              "      <td>100.000000</td>\n",
              "      <td>120.000000</td>\n",
              "      <td>100.000000</td>\n",
              "      <td>560.000000</td>\n",
              "    </tr>\n",
              "    <tr>\n",
              "      <th>50%</th>\n",
              "      <td>2.100528e+11</td>\n",
              "      <td>2021.0</td>\n",
              "      <td>2.000000</td>\n",
              "      <td>1.000000</td>\n",
              "      <td>2.000000</td>\n",
              "      <td>0.000000</td>\n",
              "      <td>1.000000</td>\n",
              "      <td>1.000000</td>\n",
              "      <td>0.000000</td>\n",
              "      <td>3.106200e+06</td>\n",
              "      <td>...</td>\n",
              "      <td>471.450000</td>\n",
              "      <td>524.550000</td>\n",
              "      <td>507.800000</td>\n",
              "      <td>504.300000</td>\n",
              "      <td>120.000000</td>\n",
              "      <td>160.000000</td>\n",
              "      <td>120.000000</td>\n",
              "      <td>140.000000</td>\n",
              "      <td>140.000000</td>\n",
              "      <td>660.000000</td>\n",
              "    </tr>\n",
              "    <tr>\n",
              "      <th>75%</th>\n",
              "      <td>2.100537e+11</td>\n",
              "      <td>2021.0</td>\n",
              "      <td>3.000000</td>\n",
              "      <td>1.000000</td>\n",
              "      <td>2.000000</td>\n",
              "      <td>2.000000</td>\n",
              "      <td>2.000000</td>\n",
              "      <td>1.000000</td>\n",
              "      <td>0.000000</td>\n",
              "      <td>3.550308e+06</td>\n",
              "      <td>...</td>\n",
              "      <td>530.700000</td>\n",
              "      <td>587.525000</td>\n",
              "      <td>556.600000</td>\n",
              "      <td>596.300000</td>\n",
              "      <td>160.000000</td>\n",
              "      <td>200.000000</td>\n",
              "      <td>140.000000</td>\n",
              "      <td>160.000000</td>\n",
              "      <td>180.000000</td>\n",
              "      <td>820.000000</td>\n",
              "    </tr>\n",
              "    <tr>\n",
              "      <th>max</th>\n",
              "      <td>2.100545e+11</td>\n",
              "      <td>2021.0</td>\n",
              "      <td>5.000000</td>\n",
              "      <td>4.000000</td>\n",
              "      <td>4.000000</td>\n",
              "      <td>15.000000</td>\n",
              "      <td>3.000000</td>\n",
              "      <td>2.000000</td>\n",
              "      <td>1.000000</td>\n",
              "      <td>5.300108e+06</td>\n",
              "      <td>...</td>\n",
              "      <td>765.900000</td>\n",
              "      <td>832.500000</td>\n",
              "      <td>721.500000</td>\n",
              "      <td>944.100000</td>\n",
              "      <td>200.000000</td>\n",
              "      <td>200.000000</td>\n",
              "      <td>200.000000</td>\n",
              "      <td>200.000000</td>\n",
              "      <td>200.000000</td>\n",
              "      <td>1000.000000</td>\n",
              "    </tr>\n",
              "  </tbody>\n",
              "</table>\n",
              "<p>8 rows × 25 columns</p>\n",
              "</div>\n",
              "      <button class=\"colab-df-convert\" onclick=\"convertToInteractive('df-8299f9ce-b960-4560-8b68-02dcda061acc')\"\n",
              "              title=\"Convert this dataframe to an interactive table.\"\n",
              "              style=\"display:none;\">\n",
              "        \n",
              "  <svg xmlns=\"http://www.w3.org/2000/svg\" height=\"24px\"viewBox=\"0 0 24 24\"\n",
              "       width=\"24px\">\n",
              "    <path d=\"M0 0h24v24H0V0z\" fill=\"none\"/>\n",
              "    <path d=\"M18.56 5.44l.94 2.06.94-2.06 2.06-.94-2.06-.94-.94-2.06-.94 2.06-2.06.94zm-11 1L8.5 8.5l.94-2.06 2.06-.94-2.06-.94L8.5 2.5l-.94 2.06-2.06.94zm10 10l.94 2.06.94-2.06 2.06-.94-2.06-.94-.94-2.06-.94 2.06-2.06.94z\"/><path d=\"M17.41 7.96l-1.37-1.37c-.4-.4-.92-.59-1.43-.59-.52 0-1.04.2-1.43.59L10.3 9.45l-7.72 7.72c-.78.78-.78 2.05 0 2.83L4 21.41c.39.39.9.59 1.41.59.51 0 1.02-.2 1.41-.59l7.78-7.78 2.81-2.81c.8-.78.8-2.07 0-2.86zM5.41 20L4 18.59l7.72-7.72 1.47 1.35L5.41 20z\"/>\n",
              "  </svg>\n",
              "      </button>\n",
              "      \n",
              "  <style>\n",
              "    .colab-df-container {\n",
              "      display:flex;\n",
              "      flex-wrap:wrap;\n",
              "      gap: 12px;\n",
              "    }\n",
              "\n",
              "    .colab-df-convert {\n",
              "      background-color: #E8F0FE;\n",
              "      border: none;\n",
              "      border-radius: 50%;\n",
              "      cursor: pointer;\n",
              "      display: none;\n",
              "      fill: #1967D2;\n",
              "      height: 32px;\n",
              "      padding: 0 0 0 0;\n",
              "      width: 32px;\n",
              "    }\n",
              "\n",
              "    .colab-df-convert:hover {\n",
              "      background-color: #E2EBFA;\n",
              "      box-shadow: 0px 1px 2px rgba(60, 64, 67, 0.3), 0px 1px 3px 1px rgba(60, 64, 67, 0.15);\n",
              "      fill: #174EA6;\n",
              "    }\n",
              "\n",
              "    [theme=dark] .colab-df-convert {\n",
              "      background-color: #3B4455;\n",
              "      fill: #D2E3FC;\n",
              "    }\n",
              "\n",
              "    [theme=dark] .colab-df-convert:hover {\n",
              "      background-color: #434B5C;\n",
              "      box-shadow: 0px 1px 3px 1px rgba(0, 0, 0, 0.15);\n",
              "      filter: drop-shadow(0px 1px 2px rgba(0, 0, 0, 0.3));\n",
              "      fill: #FFFFFF;\n",
              "    }\n",
              "  </style>\n",
              "\n",
              "      <script>\n",
              "        const buttonEl =\n",
              "          document.querySelector('#df-8299f9ce-b960-4560-8b68-02dcda061acc button.colab-df-convert');\n",
              "        buttonEl.style.display =\n",
              "          google.colab.kernel.accessAllowed ? 'block' : 'none';\n",
              "\n",
              "        async function convertToInteractive(key) {\n",
              "          const element = document.querySelector('#df-8299f9ce-b960-4560-8b68-02dcda061acc');\n",
              "          const dataTable =\n",
              "            await google.colab.kernel.invokeFunction('convertToInteractive',\n",
              "                                                     [key], {});\n",
              "          if (!dataTable) return;\n",
              "\n",
              "          const docLinkHtml = 'Like what you see? Visit the ' +\n",
              "            '<a target=\"_blank\" href=https://colab.research.google.com/notebooks/data_table.ipynb>data table notebook</a>'\n",
              "            + ' to learn more about interactive tables.';\n",
              "          element.innerHTML = '';\n",
              "          dataTable['output_type'] = 'display_data';\n",
              "          await google.colab.output.renderOutput(dataTable, element);\n",
              "          const docLink = document.createElement('div');\n",
              "          docLink.innerHTML = docLinkHtml;\n",
              "          element.appendChild(docLink);\n",
              "        }\n",
              "      </script>\n",
              "    </div>\n",
              "  </div>\n",
              "  "
            ]
          },
          "metadata": {},
          "execution_count": 44
        }
      ]
    },
    {
      "cell_type": "code",
      "source": [
        "amostra_homens.describe()"
      ],
      "metadata": {
        "id": "kkWIc1zuH4J5",
        "colab": {
          "base_uri": "https://localhost:8080/",
          "height": 394
        },
        "outputId": "151adf3b-71d9-4526-df40-04c9fbe6ad34"
      },
      "execution_count": 45,
      "outputs": [
        {
          "output_type": "execute_result",
          "data": {
            "text/plain": [
              "       NU_INSCRICAO  NU_ANO  TP_COR_RACA  TP_NACIONALIDADE  TP_ST_CONCLUSAO  \\\n",
              "count  3.000000e+03  3000.0  3000.000000       3000.000000      3000.000000   \n",
              "mean   2.100527e+11  2021.0     2.069667          1.017333         1.667667   \n",
              "std    9.972752e+05     0.0     1.016772          0.179936         0.659823   \n",
              "min    2.100510e+11  2021.0     0.000000          0.000000         1.000000   \n",
              "25%    2.100519e+11  2021.0     1.000000          1.000000         1.000000   \n",
              "50%    2.100527e+11  2021.0     2.000000          1.000000         2.000000   \n",
              "75%    2.100536e+11  2021.0     3.000000          1.000000         2.000000   \n",
              "max    2.100545e+11  2021.0     5.000000          4.000000         4.000000   \n",
              "\n",
              "       TP_ANO_CONCLUIU    TP_ESCOLA    TP_ENSINO  IN_TREINEIRO  \\\n",
              "count      3000.000000  3000.000000  1365.000000   3000.000000   \n",
              "mean          2.023000     1.533000     1.006593      0.096667   \n",
              "std           3.946094     0.621589     0.080961      0.295553   \n",
              "min           0.000000     1.000000     1.000000      0.000000   \n",
              "25%           0.000000     1.000000     1.000000      0.000000   \n",
              "50%           0.000000     1.000000     1.000000      0.000000   \n",
              "75%           2.000000     2.000000     1.000000      0.000000   \n",
              "max          15.000000     3.000000     2.000000      1.000000   \n",
              "\n",
              "       CO_MUNICIPIO_ESC  ...  NU_NOTA_CN   NU_NOTA_CH   NU_NOTA_LC  \\\n",
              "count      9.380000e+02  ...  3000.00000  3000.000000  3000.000000   \n",
              "mean       3.169180e+06  ...   509.72320   544.601333   514.024833   \n",
              "std        1.072061e+06  ...    87.09455   100.149529    81.000307   \n",
              "min        1.100122e+06  ...     0.00000     0.000000     0.000000   \n",
              "25%        2.307776e+06  ...   442.37500   468.250000   457.450000   \n",
              "50%        2.927808e+06  ...   502.95000   549.700000   519.100000   \n",
              "75%        3.550308e+06  ...   569.80000   615.750000   571.850000   \n",
              "max        5.300108e+06  ...   806.90000   814.300000   734.400000   \n",
              "\n",
              "        NU_NOTA_MT  NU_NOTA_COMP1  NU_NOTA_COMP2  NU_NOTA_COMP3  \\\n",
              "count  3000.000000    3000.000000    3000.000000    3000.000000   \n",
              "mean    560.433800     121.986667     146.153333     120.893333   \n",
              "std     122.252416      32.906141      45.907577      36.833692   \n",
              "min       0.000000       0.000000       0.000000       0.000000   \n",
              "25%     457.450000     100.000000     120.000000     100.000000   \n",
              "50%     545.800000     120.000000     120.000000     120.000000   \n",
              "75%     652.900000     140.000000     200.000000     140.000000   \n",
              "max     953.100000     200.000000     200.000000     200.000000   \n",
              "\n",
              "       NU_NOTA_COMP4  NU_NOTA_COMP5  NU_NOTA_REDACAO  \n",
              "count    3000.000000    3000.000000      3000.000000  \n",
              "mean      135.733333     126.293333       651.060000  \n",
              "std        39.360454      59.340552       190.672656  \n",
              "min         0.000000       0.000000         0.000000  \n",
              "25%       120.000000     100.000000       540.000000  \n",
              "50%       120.000000     140.000000       640.000000  \n",
              "75%       160.000000     180.000000       800.000000  \n",
              "max       200.000000     200.000000       980.000000  \n",
              "\n",
              "[8 rows x 25 columns]"
            ],
            "text/html": [
              "\n",
              "  <div id=\"df-b852c464-1d17-48b4-aa40-7e8a4fb91fca\">\n",
              "    <div class=\"colab-df-container\">\n",
              "      <div>\n",
              "<style scoped>\n",
              "    .dataframe tbody tr th:only-of-type {\n",
              "        vertical-align: middle;\n",
              "    }\n",
              "\n",
              "    .dataframe tbody tr th {\n",
              "        vertical-align: top;\n",
              "    }\n",
              "\n",
              "    .dataframe thead th {\n",
              "        text-align: right;\n",
              "    }\n",
              "</style>\n",
              "<table border=\"1\" class=\"dataframe\">\n",
              "  <thead>\n",
              "    <tr style=\"text-align: right;\">\n",
              "      <th></th>\n",
              "      <th>NU_INSCRICAO</th>\n",
              "      <th>NU_ANO</th>\n",
              "      <th>TP_COR_RACA</th>\n",
              "      <th>TP_NACIONALIDADE</th>\n",
              "      <th>TP_ST_CONCLUSAO</th>\n",
              "      <th>TP_ANO_CONCLUIU</th>\n",
              "      <th>TP_ESCOLA</th>\n",
              "      <th>TP_ENSINO</th>\n",
              "      <th>IN_TREINEIRO</th>\n",
              "      <th>CO_MUNICIPIO_ESC</th>\n",
              "      <th>...</th>\n",
              "      <th>NU_NOTA_CN</th>\n",
              "      <th>NU_NOTA_CH</th>\n",
              "      <th>NU_NOTA_LC</th>\n",
              "      <th>NU_NOTA_MT</th>\n",
              "      <th>NU_NOTA_COMP1</th>\n",
              "      <th>NU_NOTA_COMP2</th>\n",
              "      <th>NU_NOTA_COMP3</th>\n",
              "      <th>NU_NOTA_COMP4</th>\n",
              "      <th>NU_NOTA_COMP5</th>\n",
              "      <th>NU_NOTA_REDACAO</th>\n",
              "    </tr>\n",
              "  </thead>\n",
              "  <tbody>\n",
              "    <tr>\n",
              "      <th>count</th>\n",
              "      <td>3.000000e+03</td>\n",
              "      <td>3000.0</td>\n",
              "      <td>3000.000000</td>\n",
              "      <td>3000.000000</td>\n",
              "      <td>3000.000000</td>\n",
              "      <td>3000.000000</td>\n",
              "      <td>3000.000000</td>\n",
              "      <td>1365.000000</td>\n",
              "      <td>3000.000000</td>\n",
              "      <td>9.380000e+02</td>\n",
              "      <td>...</td>\n",
              "      <td>3000.00000</td>\n",
              "      <td>3000.000000</td>\n",
              "      <td>3000.000000</td>\n",
              "      <td>3000.000000</td>\n",
              "      <td>3000.000000</td>\n",
              "      <td>3000.000000</td>\n",
              "      <td>3000.000000</td>\n",
              "      <td>3000.000000</td>\n",
              "      <td>3000.000000</td>\n",
              "      <td>3000.000000</td>\n",
              "    </tr>\n",
              "    <tr>\n",
              "      <th>mean</th>\n",
              "      <td>2.100527e+11</td>\n",
              "      <td>2021.0</td>\n",
              "      <td>2.069667</td>\n",
              "      <td>1.017333</td>\n",
              "      <td>1.667667</td>\n",
              "      <td>2.023000</td>\n",
              "      <td>1.533000</td>\n",
              "      <td>1.006593</td>\n",
              "      <td>0.096667</td>\n",
              "      <td>3.169180e+06</td>\n",
              "      <td>...</td>\n",
              "      <td>509.72320</td>\n",
              "      <td>544.601333</td>\n",
              "      <td>514.024833</td>\n",
              "      <td>560.433800</td>\n",
              "      <td>121.986667</td>\n",
              "      <td>146.153333</td>\n",
              "      <td>120.893333</td>\n",
              "      <td>135.733333</td>\n",
              "      <td>126.293333</td>\n",
              "      <td>651.060000</td>\n",
              "    </tr>\n",
              "    <tr>\n",
              "      <th>std</th>\n",
              "      <td>9.972752e+05</td>\n",
              "      <td>0.0</td>\n",
              "      <td>1.016772</td>\n",
              "      <td>0.179936</td>\n",
              "      <td>0.659823</td>\n",
              "      <td>3.946094</td>\n",
              "      <td>0.621589</td>\n",
              "      <td>0.080961</td>\n",
              "      <td>0.295553</td>\n",
              "      <td>1.072061e+06</td>\n",
              "      <td>...</td>\n",
              "      <td>87.09455</td>\n",
              "      <td>100.149529</td>\n",
              "      <td>81.000307</td>\n",
              "      <td>122.252416</td>\n",
              "      <td>32.906141</td>\n",
              "      <td>45.907577</td>\n",
              "      <td>36.833692</td>\n",
              "      <td>39.360454</td>\n",
              "      <td>59.340552</td>\n",
              "      <td>190.672656</td>\n",
              "    </tr>\n",
              "    <tr>\n",
              "      <th>min</th>\n",
              "      <td>2.100510e+11</td>\n",
              "      <td>2021.0</td>\n",
              "      <td>0.000000</td>\n",
              "      <td>0.000000</td>\n",
              "      <td>1.000000</td>\n",
              "      <td>0.000000</td>\n",
              "      <td>1.000000</td>\n",
              "      <td>1.000000</td>\n",
              "      <td>0.000000</td>\n",
              "      <td>1.100122e+06</td>\n",
              "      <td>...</td>\n",
              "      <td>0.00000</td>\n",
              "      <td>0.000000</td>\n",
              "      <td>0.000000</td>\n",
              "      <td>0.000000</td>\n",
              "      <td>0.000000</td>\n",
              "      <td>0.000000</td>\n",
              "      <td>0.000000</td>\n",
              "      <td>0.000000</td>\n",
              "      <td>0.000000</td>\n",
              "      <td>0.000000</td>\n",
              "    </tr>\n",
              "    <tr>\n",
              "      <th>25%</th>\n",
              "      <td>2.100519e+11</td>\n",
              "      <td>2021.0</td>\n",
              "      <td>1.000000</td>\n",
              "      <td>1.000000</td>\n",
              "      <td>1.000000</td>\n",
              "      <td>0.000000</td>\n",
              "      <td>1.000000</td>\n",
              "      <td>1.000000</td>\n",
              "      <td>0.000000</td>\n",
              "      <td>2.307776e+06</td>\n",
              "      <td>...</td>\n",
              "      <td>442.37500</td>\n",
              "      <td>468.250000</td>\n",
              "      <td>457.450000</td>\n",
              "      <td>457.450000</td>\n",
              "      <td>100.000000</td>\n",
              "      <td>120.000000</td>\n",
              "      <td>100.000000</td>\n",
              "      <td>120.000000</td>\n",
              "      <td>100.000000</td>\n",
              "      <td>540.000000</td>\n",
              "    </tr>\n",
              "    <tr>\n",
              "      <th>50%</th>\n",
              "      <td>2.100527e+11</td>\n",
              "      <td>2021.0</td>\n",
              "      <td>2.000000</td>\n",
              "      <td>1.000000</td>\n",
              "      <td>2.000000</td>\n",
              "      <td>0.000000</td>\n",
              "      <td>1.000000</td>\n",
              "      <td>1.000000</td>\n",
              "      <td>0.000000</td>\n",
              "      <td>2.927808e+06</td>\n",
              "      <td>...</td>\n",
              "      <td>502.95000</td>\n",
              "      <td>549.700000</td>\n",
              "      <td>519.100000</td>\n",
              "      <td>545.800000</td>\n",
              "      <td>120.000000</td>\n",
              "      <td>120.000000</td>\n",
              "      <td>120.000000</td>\n",
              "      <td>120.000000</td>\n",
              "      <td>140.000000</td>\n",
              "      <td>640.000000</td>\n",
              "    </tr>\n",
              "    <tr>\n",
              "      <th>75%</th>\n",
              "      <td>2.100536e+11</td>\n",
              "      <td>2021.0</td>\n",
              "      <td>3.000000</td>\n",
              "      <td>1.000000</td>\n",
              "      <td>2.000000</td>\n",
              "      <td>2.000000</td>\n",
              "      <td>2.000000</td>\n",
              "      <td>1.000000</td>\n",
              "      <td>0.000000</td>\n",
              "      <td>3.550308e+06</td>\n",
              "      <td>...</td>\n",
              "      <td>569.80000</td>\n",
              "      <td>615.750000</td>\n",
              "      <td>571.850000</td>\n",
              "      <td>652.900000</td>\n",
              "      <td>140.000000</td>\n",
              "      <td>200.000000</td>\n",
              "      <td>140.000000</td>\n",
              "      <td>160.000000</td>\n",
              "      <td>180.000000</td>\n",
              "      <td>800.000000</td>\n",
              "    </tr>\n",
              "    <tr>\n",
              "      <th>max</th>\n",
              "      <td>2.100545e+11</td>\n",
              "      <td>2021.0</td>\n",
              "      <td>5.000000</td>\n",
              "      <td>4.000000</td>\n",
              "      <td>4.000000</td>\n",
              "      <td>15.000000</td>\n",
              "      <td>3.000000</td>\n",
              "      <td>2.000000</td>\n",
              "      <td>1.000000</td>\n",
              "      <td>5.300108e+06</td>\n",
              "      <td>...</td>\n",
              "      <td>806.90000</td>\n",
              "      <td>814.300000</td>\n",
              "      <td>734.400000</td>\n",
              "      <td>953.100000</td>\n",
              "      <td>200.000000</td>\n",
              "      <td>200.000000</td>\n",
              "      <td>200.000000</td>\n",
              "      <td>200.000000</td>\n",
              "      <td>200.000000</td>\n",
              "      <td>980.000000</td>\n",
              "    </tr>\n",
              "  </tbody>\n",
              "</table>\n",
              "<p>8 rows × 25 columns</p>\n",
              "</div>\n",
              "      <button class=\"colab-df-convert\" onclick=\"convertToInteractive('df-b852c464-1d17-48b4-aa40-7e8a4fb91fca')\"\n",
              "              title=\"Convert this dataframe to an interactive table.\"\n",
              "              style=\"display:none;\">\n",
              "        \n",
              "  <svg xmlns=\"http://www.w3.org/2000/svg\" height=\"24px\"viewBox=\"0 0 24 24\"\n",
              "       width=\"24px\">\n",
              "    <path d=\"M0 0h24v24H0V0z\" fill=\"none\"/>\n",
              "    <path d=\"M18.56 5.44l.94 2.06.94-2.06 2.06-.94-2.06-.94-.94-2.06-.94 2.06-2.06.94zm-11 1L8.5 8.5l.94-2.06 2.06-.94-2.06-.94L8.5 2.5l-.94 2.06-2.06.94zm10 10l.94 2.06.94-2.06 2.06-.94-2.06-.94-.94-2.06-.94 2.06-2.06.94z\"/><path d=\"M17.41 7.96l-1.37-1.37c-.4-.4-.92-.59-1.43-.59-.52 0-1.04.2-1.43.59L10.3 9.45l-7.72 7.72c-.78.78-.78 2.05 0 2.83L4 21.41c.39.39.9.59 1.41.59.51 0 1.02-.2 1.41-.59l7.78-7.78 2.81-2.81c.8-.78.8-2.07 0-2.86zM5.41 20L4 18.59l7.72-7.72 1.47 1.35L5.41 20z\"/>\n",
              "  </svg>\n",
              "      </button>\n",
              "      \n",
              "  <style>\n",
              "    .colab-df-container {\n",
              "      display:flex;\n",
              "      flex-wrap:wrap;\n",
              "      gap: 12px;\n",
              "    }\n",
              "\n",
              "    .colab-df-convert {\n",
              "      background-color: #E8F0FE;\n",
              "      border: none;\n",
              "      border-radius: 50%;\n",
              "      cursor: pointer;\n",
              "      display: none;\n",
              "      fill: #1967D2;\n",
              "      height: 32px;\n",
              "      padding: 0 0 0 0;\n",
              "      width: 32px;\n",
              "    }\n",
              "\n",
              "    .colab-df-convert:hover {\n",
              "      background-color: #E2EBFA;\n",
              "      box-shadow: 0px 1px 2px rgba(60, 64, 67, 0.3), 0px 1px 3px 1px rgba(60, 64, 67, 0.15);\n",
              "      fill: #174EA6;\n",
              "    }\n",
              "\n",
              "    [theme=dark] .colab-df-convert {\n",
              "      background-color: #3B4455;\n",
              "      fill: #D2E3FC;\n",
              "    }\n",
              "\n",
              "    [theme=dark] .colab-df-convert:hover {\n",
              "      background-color: #434B5C;\n",
              "      box-shadow: 0px 1px 3px 1px rgba(0, 0, 0, 0.15);\n",
              "      filter: drop-shadow(0px 1px 2px rgba(0, 0, 0, 0.3));\n",
              "      fill: #FFFFFF;\n",
              "    }\n",
              "  </style>\n",
              "\n",
              "      <script>\n",
              "        const buttonEl =\n",
              "          document.querySelector('#df-b852c464-1d17-48b4-aa40-7e8a4fb91fca button.colab-df-convert');\n",
              "        buttonEl.style.display =\n",
              "          google.colab.kernel.accessAllowed ? 'block' : 'none';\n",
              "\n",
              "        async function convertToInteractive(key) {\n",
              "          const element = document.querySelector('#df-b852c464-1d17-48b4-aa40-7e8a4fb91fca');\n",
              "          const dataTable =\n",
              "            await google.colab.kernel.invokeFunction('convertToInteractive',\n",
              "                                                     [key], {});\n",
              "          if (!dataTable) return;\n",
              "\n",
              "          const docLinkHtml = 'Like what you see? Visit the ' +\n",
              "            '<a target=\"_blank\" href=https://colab.research.google.com/notebooks/data_table.ipynb>data table notebook</a>'\n",
              "            + ' to learn more about interactive tables.';\n",
              "          element.innerHTML = '';\n",
              "          dataTable['output_type'] = 'display_data';\n",
              "          await google.colab.output.renderOutput(dataTable, element);\n",
              "          const docLink = document.createElement('div');\n",
              "          docLink.innerHTML = docLinkHtml;\n",
              "          element.appendChild(docLink);\n",
              "        }\n",
              "      </script>\n",
              "    </div>\n",
              "  </div>\n",
              "  "
            ]
          },
          "metadata": {},
          "execution_count": 45
        }
      ]
    },
    {
      "cell_type": "markdown",
      "source": [
        "Conclusão: Considerando o intervalo de confiança de 95%, podemos concluir que existe diferença entre as medianas das notas de redação entre homens e mulheres. Rejeita H0. O desempenho das mulheres na prova de redação foi superior ao dos homens.\n",
        "\n",
        "\n",
        "*   Mediana nota mulheres = 620\n",
        "*   Mediana nota homens = 600\n",
        "\n"
      ],
      "metadata": {
        "id": "l3lBVbKrHBHy"
      }
    },
    {
      "cell_type": "markdown",
      "source": [
        "2. Objetivo: Analisar se há diferença de desempenho entre mulheres casadas e homens casados na nota de redação.\n",
        "\n",
        "\n",
        "*   H0 = Não há diferença (p>0,05)\n",
        "*   Ha = Há diferença (p<=0,05)\n"
      ],
      "metadata": {
        "id": "huB2fK4BIwOQ"
      }
    },
    {
      "cell_type": "code",
      "source": [
        "mulheres_casadas = amostra_mulheres.loc[amostra_mulheres.TP_ESTADO_CIVIL == 'Casado(a)']"
      ],
      "metadata": {
        "id": "UQSw8LwXIvtn"
      },
      "execution_count": 46,
      "outputs": []
    },
    {
      "cell_type": "code",
      "source": [
        "mulheres_casadas.shape"
      ],
      "metadata": {
        "colab": {
          "base_uri": "https://localhost:8080/"
        },
        "id": "50PffHz8Ks95",
        "outputId": "798fcc18-1ad6-4b67-d5e3-efd96bc71b9e"
      },
      "execution_count": 47,
      "outputs": [
        {
          "output_type": "execute_result",
          "data": {
            "text/plain": [
              "(65, 29)"
            ]
          },
          "metadata": {},
          "execution_count": 47
        }
      ]
    },
    {
      "cell_type": "code",
      "source": [
        "homens_casados = amostra_homens.loc[amostra_homens.TP_ESTADO_CIVIL == 'Casado(a)']"
      ],
      "metadata": {
        "id": "QdOvEq6TKyrB"
      },
      "execution_count": 48,
      "outputs": []
    },
    {
      "cell_type": "code",
      "source": [
        "homens_casados.shape"
      ],
      "metadata": {
        "colab": {
          "base_uri": "https://localhost:8080/"
        },
        "id": "w-jqGLmwK8BY",
        "outputId": "558fb368-99e2-494b-8f32-1b9130eb47ae"
      },
      "execution_count": 49,
      "outputs": [
        {
          "output_type": "execute_result",
          "data": {
            "text/plain": [
              "(116, 29)"
            ]
          },
          "metadata": {},
          "execution_count": 49
        }
      ]
    },
    {
      "cell_type": "code",
      "source": [
        "stats.shapiro(mulheres_casadas.NU_NOTA_REDACAO)"
      ],
      "metadata": {
        "colab": {
          "base_uri": "https://localhost:8080/"
        },
        "id": "g_PU_gwzLBDT",
        "outputId": "d69ace93-d33e-4ecf-ca4d-6dcb700bd11d"
      },
      "execution_count": 50,
      "outputs": [
        {
          "output_type": "execute_result",
          "data": {
            "text/plain": [
              "ShapiroResult(statistic=0.9224055409431458, pvalue=0.0005648444057442248)"
            ]
          },
          "metadata": {},
          "execution_count": 50
        }
      ]
    },
    {
      "cell_type": "code",
      "source": [
        "stats.shapiro(homens_casados.NU_NOTA_REDACAO)"
      ],
      "metadata": {
        "colab": {
          "base_uri": "https://localhost:8080/"
        },
        "id": "v0N2fi8zLMZ5",
        "outputId": "f2357573-00ee-4fc9-c21e-3a4f347dfe61"
      },
      "execution_count": 51,
      "outputs": [
        {
          "output_type": "execute_result",
          "data": {
            "text/plain": [
              "ShapiroResult(statistic=0.8949728608131409, pvalue=1.619147980136404e-07)"
            ]
          },
          "metadata": {},
          "execution_count": 51
        }
      ]
    },
    {
      "cell_type": "code",
      "source": [
        "# A distribuição das notas de redação de homens e mulheres casados não é normal, dessa forma será necessário um teste não paramétrico.\n",
        "# Observação dos dados nos gráficos QQ Plot e histograma."
      ],
      "metadata": {
        "id": "-tVSeVwQLX8d"
      },
      "execution_count": 52,
      "outputs": []
    },
    {
      "cell_type": "code",
      "source": [
        "stats.probplot(mulheres_casadas ['NU_NOTA_REDACAO'], dist='norm', plot=plt)\n",
        "plt.title('Normal QQ Plot - Nota Redação Mulheres Casadas')\n",
        "plt.show()"
      ],
      "metadata": {
        "id": "-TeePK1VLgak",
        "colab": {
          "base_uri": "https://localhost:8080/",
          "height": 295
        },
        "outputId": "735c83dd-7313-4d9d-fc40-c401cfe3e276"
      },
      "execution_count": 53,
      "outputs": [
        {
          "output_type": "display_data",
          "data": {
            "text/plain": [
              "<Figure size 432x288 with 1 Axes>"
            ],
            "image/png": "[encoded data removed]"
          },
          "metadata": {
            "needs_background": "light"
          }
        }
      ]
    },
    {
      "cell_type": "code",
      "source": [
        "stats.probplot(homens_casados['NU_NOTA_REDACAO'], dist='norm', plot=plt)\n",
        "plt.title('Normal QQ Plot - Nota Redação Homens Casados')\n",
        "plt.show()"
      ],
      "metadata": {
        "id": "xshi-1PFLp3E",
        "colab": {
          "base_uri": "https://localhost:8080/",
          "height": 295
        },
        "outputId": "3f4f77c6-ab49-4158-860f-802cfc7993fa"
      },
      "execution_count": 54,
      "outputs": [
        {
          "output_type": "display_data",
          "data": {
            "text/plain": [
              "<Figure size 432x288 with 1 Axes>"
            ],
            "image/png": "[encoded data removed]"
          },
          "metadata": {
            "needs_background": "light"
          }
        }
      ]
    },
    {
      "cell_type": "code",
      "source": [
        "sns.histplot(mulheres_casadas, x='NU_NOTA_REDACAO', bins=10, color='orange', kde=True, stat='probability')"
      ],
      "metadata": {
        "id": "0ZaBS7QjL1Pz",
        "colab": {
          "base_uri": "https://localhost:8080/",
          "height": 297
        },
        "outputId": "c39f4510-b993-46eb-d539-44d548dfdfb3"
      },
      "execution_count": 55,
      "outputs": [
        {
          "output_type": "execute_result",
          "data": {
            "text/plain": [
              "<matplotlib.axes._subplots.AxesSubplot at 0x7f0c49ec87d0>"
            ]
          },
          "metadata": {},
          "execution_count": 55
        },
        {
          "output_type": "display_data",
          "data": {
            "text/plain": [
              "<Figure size 432x288 with 1 Axes>"
            ],
            "image/png": "[encoded data removed]"
          },
          "metadata": {
            "needs_background": "light"
          }
        }
      ]
    },
    {
      "cell_type": "code",
      "source": [
        "sns.histplot(homens_casados, x='NU_NOTA_REDACAO', bins=10, color='blue', kde=True, stat='probability')"
      ],
      "metadata": {
        "id": "SvWjV9ZIL8Kk",
        "colab": {
          "base_uri": "https://localhost:8080/",
          "height": 297
        },
        "outputId": "f4cab185-46be-4391-9e8a-b44e41ef379a"
      },
      "execution_count": 56,
      "outputs": [
        {
          "output_type": "execute_result",
          "data": {
            "text/plain": [
              "<matplotlib.axes._subplots.AxesSubplot at 0x7f0c49dd5650>"
            ]
          },
          "metadata": {},
          "execution_count": 56
        },
        {
          "output_type": "display_data",
          "data": {
            "text/plain": [
              "<Figure size 432x288 with 1 Axes>"
            ],
            "image/png": "[encoded data removed]"
          },
          "metadata": {
            "needs_background": "light"
          }
        }
      ]
    },
    {
      "cell_type": "code",
      "source": [
        "stat, p = stats.mannwhitneyu(mulheres_casadas.NU_NOTA_REDACAO, homens_casados.NU_NOTA_REDACAO)\n",
        "print('Estatística do Teste: {}:'.format(stat.round(2)))\n",
        "print('p-valor:{}'.format(p))"
      ],
      "metadata": {
        "colab": {
          "base_uri": "https://localhost:8080/"
        },
        "id": "rNsSFN6EMKHV",
        "outputId": "f1c35ab3-8492-446d-f38c-13c3a74c8e69"
      },
      "execution_count": 57,
      "outputs": [
        {
          "output_type": "stream",
          "name": "stdout",
          "text": [
            "Estatística do Teste: 3558.5:\n",
            "p-valor:0.5318539961770496\n"
          ]
        }
      ]
    },
    {
      "cell_type": "markdown",
      "source": [
        "Conclusão: Considerando o intervalo de confiança de 95%, não podemos concluir que exista diferença entre as medianas das notas de redação entre mulheres casadas e homens casados. Não rejeita H0."
      ],
      "metadata": {
        "id": "7-carB5eMt7d"
      }
    }
  ]
}