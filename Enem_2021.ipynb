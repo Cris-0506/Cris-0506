{
  "nbformat": 4,
  "nbformat_minor": 0,
  "metadata": {
    "colab": {
      "provenance": [],
      "collapsed_sections": [],
      "mount_file_id": "1Y5W_MStDri7ipPH_QyY05FS0075Ckl-P",
      "authorship_tag": "ABX9TyO6hLS2qxIPS3tShFGqpQob",
      "include_colab_link": true
    },
    "kernelspec": {
      "name": "python3",
      "display_name": "Python 3"
    },
    "language_info": {
      "name": "python"
    }
  },
  "cells": [
    {
      "cell_type": "markdown",
      "metadata": {
        "id": "view-in-github",
        "colab_type": "text"
      },
      "source": [
        "<a href=\"https://colab.research.google.com/github/Cris-0506/Cris-0506/blob/main/Enem_2021.ipynb\" target=\"_parent\"><img src=\"https://colab.research.google.com/assets/colab-badge.svg\" alt=\"Open In Colab\"/></a>"
      ]
    },
    {
      "cell_type": "markdown",
      "source": [
        "\n",
        "Projeto Enem 2021 / Dados disponíveis no site do Inep (http://inep.gov.br/microdados).\n"
      ],
      "metadata": {
        "id": "ookiVCSvNXtx"
      }
    },
    {
      "cell_type": "markdown",
      "source": [
        "Análise de desempenho na nota de redação entre homens e mulheres na prova do Enem 2021."
      ],
      "metadata": {
        "id": "oBQ8tB1wNfF3"
      }
    },
    {
      "cell_type": "code",
      "execution_count": 9,
      "metadata": {
        "id": "k_b0_MM6z3h8"
      },
      "outputs": [],
      "source": [
        "import pandas as pd\n",
        "import numpy as np"
      ]
    },
    {
      "cell_type": "code",
      "source": [
        "dados = pd.read_csv('/content/MICRODADOS_ENEM_2021.csv', sep=';', encoding = 'iso-8859-1')"
      ],
      "metadata": {
        "id": "fCjOF8SP0biB"
      },
      "execution_count": 10,
      "outputs": []
    },
    {
      "cell_type": "code",
      "source": [
        "np.random.seed(1)"
      ],
      "metadata": {
        "id": "ELYgDk0E1Qak"
      },
      "execution_count": 11,
      "outputs": []
    },
    {
      "cell_type": "code",
      "source": [
        "amostragem = dados.sample(30000)"
      ],
      "metadata": {
        "id": "sFy5WklI1dh0"
      },
      "execution_count": 12,
      "outputs": []
    },
    {
      "cell_type": "code",
      "source": [
        "amostragem.shape"
      ],
      "metadata": {
        "id": "9_-3UHu-1npQ",
        "colab": {
          "base_uri": "https://localhost:8080/"
        },
        "outputId": "d271c27b-4e91-4dab-d678-5d735e2db4be"
      },
      "execution_count": 13,
      "outputs": [
        {
          "output_type": "execute_result",
          "data": {
            "text/plain": [
              "(30000, 76)"
            ]
          },
          "metadata": {},
          "execution_count": 13
        }
      ]
    },
    {
      "cell_type": "code",
      "source": [
        "# Analisando as variáveis do dataframe.\n",
        "amostragem.columns.values"
      ],
      "metadata": {
        "id": "9_x6eBE91wmt"
      },
      "execution_count": null,
      "outputs": []
    },
    {
      "cell_type": "code",
      "source": [
        "# Filtrando as colunas que serão utilizadas.\n",
        "seleçao = ['NU_INSCRICAO', 'NU_ANO', 'TP_FAIXA_ETARIA', 'TP_SEXO','TP_ESTADO_CIVIL', 'TP_COR_RACA', 'TP_NACIONALIDADE','TP_ST_CONCLUSAO', 'TP_ANO_CONCLUIU', 'TP_ESCOLA', 'TP_ENSINO','IN_TREINEIRO', 'CO_MUNICIPIO_ESC', 'NO_MUNICIPIO_ESC','CO_UF_ESC','TP_PRESENCA_CN', 'TP_PRESENCA_CH', 'TP_PRESENCA_LC', 'TP_PRESENCA_MT','NU_NOTA_CN', 'NU_NOTA_CH', 'NU_NOTA_LC','NU_NOTA_MT','NU_NOTA_COMP1','NU_NOTA_COMP2','NU_NOTA_COMP3','NU_NOTA_COMP4', 'NU_NOTA_COMP5','NU_NOTA_REDACAO']\n",
        "       "
      ],
      "metadata": {
        "id": "IGQ7L3gg28b-"
      },
      "execution_count": 15,
      "outputs": []
    },
    {
      "cell_type": "code",
      "source": [
        "dados_enem = amostragem.filter(items=seleçao)"
      ],
      "metadata": {
        "id": "_BrmaDJT4e7M"
      },
      "execution_count": 16,
      "outputs": []
    },
    {
      "cell_type": "code",
      "source": [
        "dados_enem.head(30)"
      ],
      "metadata": {
        "id": "cs6mj7DT5Lfs"
      },
      "execution_count": null,
      "outputs": []
    },
    {
      "cell_type": "code",
      "source": [
        "dados_sexo = dados_enem ['TP_SEXO']"
      ],
      "metadata": {
        "id": "6eN_iwDA9RDp"
      },
      "execution_count": 18,
      "outputs": []
    },
    {
      "cell_type": "code",
      "source": [
        "dados_sexo.value_counts()"
      ],
      "metadata": {
        "id": "jT-McanQ9m6A"
      },
      "execution_count": null,
      "outputs": []
    },
    {
      "cell_type": "code",
      "source": [
        "# Renomeando registros da faixa etária.\n",
        "dados_enem['TP_FAIXA_ETARIA'] = dados_enem['TP_FAIXA_ETARIA'].replace({1:'Menor de 17', 2:17, 3:18, 4:19, 5:20, 6:21,7:22, 8:23, 9:24, 10:25, 11:'Entre 26 e 30', 12: 'Entre 31 e 35', 13: 'Entre 36 e 40', 14: 'Entre 41 e 45', 15: 'Entre 46 e 50', 16: 'Entre 51 e 55', 17:'Entre 56 e 60', 18: 'Entre 61 e 65', 19: 'Entre 66 e 70', 20: 'Maior de 70' })"
      ],
      "metadata": {
        "id": "Ua7tPh8rBotH"
      },
      "execution_count": 20,
      "outputs": []
    },
    {
      "cell_type": "code",
      "source": [
        "dados_faixa_etaria = dados_enem ['TP_FAIXA_ETARIA']"
      ],
      "metadata": {
        "id": "Wq8pf7Qw-P2N"
      },
      "execution_count": 21,
      "outputs": []
    },
    {
      "cell_type": "code",
      "source": [
        "dados_faixa_etaria.value_counts()"
      ],
      "metadata": {
        "id": "DE9bsGZ0-aqI"
      },
      "execution_count": null,
      "outputs": []
    },
    {
      "cell_type": "code",
      "source": [
        "dados_enem['TP_ESTADO_CIVIL'] = dados_enem['TP_ESTADO_CIVIL']. replace ({0: 'Não informado', 1: 'Solteiro(a)', 2: 'Casado(a)', 3: 'Divorciado(a)/Separado(a)', 4: 'Viúvo(a)'})"
      ],
      "metadata": {
        "id": "CRDiSqSBEwls"
      },
      "execution_count": 23,
      "outputs": []
    },
    {
      "cell_type": "code",
      "source": [
        "# Criando uma variável que contém somente os candidatos que compareceram a prova e não foram desclassificados.\n",
        "candidatos = dados_enem.loc[dados_enem.TP_PRESENCA_CH == 1]"
      ],
      "metadata": {
        "id": "6D__y7K06k9I"
      },
      "execution_count": 24,
      "outputs": []
    },
    {
      "cell_type": "markdown",
      "source": [],
      "metadata": {
        "id": "vCKaP1_U747t"
      }
    },
    {
      "cell_type": "code",
      "source": [
        "# A análise será feita utilizando somente os dados dos vestibulandos classificados. As provas LC, CH e redação foram feitas no mesmo dia, CN e MT em outro dia.\n",
        "# Assim, o aluno perde mais de uma prova caso falte um dia.\n",
        "# Registros: 0 = Faltou  à prova; 1 = Presente na prova; 2 = Eliminado na prova.\n",
        "\n"
      ],
      "metadata": {
        "id": "aV92d_WP3Lb0"
      },
      "execution_count": 25,
      "outputs": []
    },
    {
      "cell_type": "code",
      "source": [
        "candidatos = candidatos.loc[candidatos.TP_PRESENCA_MT == 1]"
      ],
      "metadata": {
        "id": "F_tFTk7j7k3A"
      },
      "execution_count": 26,
      "outputs": []
    },
    {
      "cell_type": "code",
      "source": [
        "dados_estado_civil = candidatos['TP_ESTADO_CIVIL']"
      ],
      "metadata": {
        "id": "LrTqzkH8ELjh"
      },
      "execution_count": 27,
      "outputs": []
    },
    {
      "cell_type": "code",
      "source": [
        "dados_estado_civil.value_counts()"
      ],
      "metadata": {
        "id": "ccCKFZDJETer"
      },
      "execution_count": null,
      "outputs": []
    },
    {
      "cell_type": "code",
      "source": [
        "dados_mulheres = candidatos.loc[candidatos.TP_SEXO == 'F']"
      ],
      "metadata": {
        "id": "gyHXMwNFyZeY"
      },
      "execution_count": 29,
      "outputs": []
    },
    {
      "cell_type": "code",
      "source": [
        "dados_mulheres.shape"
      ],
      "metadata": {
        "id": "IPDAZwz-04ac"
      },
      "execution_count": null,
      "outputs": []
    },
    {
      "cell_type": "code",
      "source": [
        "dados_homens = candidatos[candidatos.TP_SEXO == 'M']"
      ],
      "metadata": {
        "id": "9_X8TUow1B-a"
      },
      "execution_count": 31,
      "outputs": []
    },
    {
      "cell_type": "code",
      "source": [
        "dados_homens.shape"
      ],
      "metadata": {
        "id": "BB6czv738l6V"
      },
      "execution_count": null,
      "outputs": []
    },
    {
      "cell_type": "code",
      "source": [
        "# Retirando amostras de 3000 homens e 3000 mulheres para melhorar a robustez do teste de normalidade.\n",
        "amostra_mulheres = dados_mulheres.sample(3000)"
      ],
      "metadata": {
        "id": "F0hFqVPm938S"
      },
      "execution_count": 33,
      "outputs": []
    },
    {
      "cell_type": "code",
      "source": [
        "amostra_homens = dados_homens.sample(3000)"
      ],
      "metadata": {
        "id": "dQO3yCTJ-fcz"
      },
      "execution_count": 34,
      "outputs": []
    },
    {
      "cell_type": "markdown",
      "source": [
        "1. Objetivo: Analisar se há diferença de desempenho entre homens e mulheres na nota de redação.\n",
        "\n",
        "\n",
        "*   H0 = Não existe diferença (p>0,05).\n",
        "*   Ha = Existe diferença (p<=0,05).\n",
        "\n"
      ],
      "metadata": {
        "id": "LXGejSX8-xYg"
      }
    },
    {
      "cell_type": "code",
      "source": [
        "import plotly.express as px\n",
        "import seaborn as sns\n",
        "import scipy.stats as stats\n",
        "import matplotlib.pyplot as plt"
      ],
      "metadata": {
        "id": "rQilfDGc_IaG"
      },
      "execution_count": 35,
      "outputs": []
    },
    {
      "cell_type": "code",
      "source": [
        "# Analisando Normalidade com teste de Shapiro-Wilk. (p>0,05)\n",
        "stats.shapiro(amostra_mulheres.NU_NOTA_REDACAO)"
      ],
      "metadata": {
        "colab": {
          "base_uri": "https://localhost:8080/"
        },
        "id": "jsWTkZ9J_srj",
        "outputId": "12ef39ff-48d0-4a33-a2fd-09b15f11f311"
      },
      "execution_count": 36,
      "outputs": [
        {
          "output_type": "execute_result",
          "data": {
            "text/plain": [
              "ShapiroResult(statistic=0.9464705586433411, pvalue=1.0187863777277264e-31)"
            ]
          },
          "metadata": {},
          "execution_count": 36
        }
      ]
    },
    {
      "cell_type": "code",
      "source": [
        "stats.shapiro(amostra_homens.NU_NOTA_REDACAO)"
      ],
      "metadata": {
        "colab": {
          "base_uri": "https://localhost:8080/"
        },
        "id": "mDmEWLIMBcHj",
        "outputId": "17e4c0a9-1055-4c66-f999-fd3a4eda0e5d"
      },
      "execution_count": 37,
      "outputs": [
        {
          "output_type": "execute_result",
          "data": {
            "text/plain": [
              "ShapiroResult(statistic=0.9393039345741272, pvalue=2.145908651122257e-33)"
            ]
          },
          "metadata": {},
          "execution_count": 37
        }
      ]
    },
    {
      "cell_type": "code",
      "source": [
        "# A distribuição das notas de redação de homens e mulheres não é normal, dessa forma será necessário um teste não paramétrico.\n",
        "# Observação dos dados nos gráficos QQ Plot e histograma."
      ],
      "metadata": {
        "id": "eInDti3qBt5g"
      },
      "execution_count": 38,
      "outputs": []
    },
    {
      "cell_type": "code",
      "source": [
        "stats.probplot(amostra_mulheres['NU_NOTA_REDACAO'], dist='norm', plot=plt)\n",
        "plt.title('Normal QQ Plot-Nota Redação Mulheres')\n",
        "plt.show()"
      ],
      "metadata": {
        "id": "AfFYDCVkB5TK"
      },
      "execution_count": null,
      "outputs": []
    },
    {
      "cell_type": "code",
      "source": [
        "stats.probplot(amostra_homens['NU_NOTA_REDACAO'], dist='norm', plot=plt)\n",
        "plt.title('Normal QQ Plot - Nota Redação Homens')\n",
        "plt.show()"
      ],
      "metadata": {
        "id": "93EoBD6hCNV5"
      },
      "execution_count": null,
      "outputs": []
    },
    {
      "cell_type": "code",
      "source": [
        "sns.histplot(amostra_mulheres, x='NU_NOTA_REDACAO', bins=10, color='orange', kde=True, stat='probability')"
      ],
      "metadata": {
        "id": "xmmyyYeDC0TG"
      },
      "execution_count": null,
      "outputs": []
    },
    {
      "cell_type": "code",
      "source": [
        "sns.histplot(amostra_homens, x='NU_NOTA_REDACAO', bins=10, color= 'red', kde=True, stat='probability')"
      ],
      "metadata": {
        "id": "iyMuOg56C-AG"
      },
      "execution_count": null,
      "outputs": []
    },
    {
      "cell_type": "code",
      "source": [
        "stat, p=stats.mannwhitneyu(amostra_mulheres.NU_NOTA_REDACAO, amostra_homens.NU_NOTA_REDACAO)\n",
        "print('Estatística do Teste: {}'.format(stat.round(2)))\n",
        "print('p-valor:{}'.format(p))"
      ],
      "metadata": {
        "colab": {
          "base_uri": "https://localhost:8080/"
        },
        "id": "kyc6ovSrF_6V",
        "outputId": "4634f12f-f605-46be-c1b1-7c1cfc43c2cc"
      },
      "execution_count": 43,
      "outputs": [
        {
          "output_type": "stream",
          "name": "stdout",
          "text": [
            "Estatística do Teste: 4796493.5\n",
            "p-valor:9.754372085408898e-06\n"
          ]
        }
      ]
    },
    {
      "cell_type": "code",
      "source": [
        "amostra_mulheres.describe()"
      ],
      "metadata": {
        "id": "0zGJQkuMGnD9"
      },
      "execution_count": null,
      "outputs": []
    },
    {
      "cell_type": "code",
      "source": [
        "amostra_homens.describe()"
      ],
      "metadata": {
        "id": "kkWIc1zuH4J5"
      },
      "execution_count": null,
      "outputs": []
    },
    {
      "cell_type": "markdown",
      "source": [
        "Conclusão: Considerando o intervalo de confiança de 95%, podemos concluir que existe diferença entre as medianas das notas de redação entre homens e mulheres. Rejeita H0. O desempenho das mulheres na prova de redação foi superior ao dos homens.\n",
        "\n",
        "\n",
        "*   Mediana nota mulheres = 620\n",
        "*   Mediana nota homens = 600\n",
        "\n"
      ],
      "metadata": {
        "id": "l3lBVbKrHBHy"
      }
    },
    {
      "cell_type": "markdown",
      "source": [
        "2. Objetivo: Analisar se há diferença de desempenho entre mulheres casadas e homens casados na nota de redação.\n",
        "\n",
        "\n",
        "*   H0 = Não há diferença (p>0,05)\n",
        "*   Ha = Há diferença (p<=0,05)\n"
      ],
      "metadata": {
        "id": "huB2fK4BIwOQ"
      }
    },
    {
      "cell_type": "code",
      "source": [
        "mulheres_casadas = amostra_mulheres.loc[amostra_mulheres.TP_ESTADO_CIVIL == 'Casado(a)']"
      ],
      "metadata": {
        "id": "UQSw8LwXIvtn"
      },
      "execution_count": 46,
      "outputs": []
    },
    {
      "cell_type": "code",
      "source": [
        "mulheres_casadas.shape"
      ],
      "metadata": {
        "colab": {
          "base_uri": "https://localhost:8080/"
        },
        "id": "50PffHz8Ks95",
        "outputId": "798fcc18-1ad6-4b67-d5e3-efd96bc71b9e"
      },
      "execution_count": 47,
      "outputs": [
        {
          "output_type": "execute_result",
          "data": {
            "text/plain": [
              "(65, 29)"
            ]
          },
          "metadata": {},
          "execution_count": 47
        }
      ]
    },
    {
      "cell_type": "code",
      "source": [
        "homens_casados = amostra_homens.loc[amostra_homens.TP_ESTADO_CIVIL == 'Casado(a)']"
      ],
      "metadata": {
        "id": "QdOvEq6TKyrB"
      },
      "execution_count": 48,
      "outputs": []
    },
    {
      "cell_type": "code",
      "source": [
        "homens_casados.shape"
      ],
      "metadata": {
        "colab": {
          "base_uri": "https://localhost:8080/"
        },
        "id": "w-jqGLmwK8BY",
        "outputId": "558fb368-99e2-494b-8f32-1b9130eb47ae"
      },
      "execution_count": 49,
      "outputs": [
        {
          "output_type": "execute_result",
          "data": {
            "text/plain": [
              "(116, 29)"
            ]
          },
          "metadata": {},
          "execution_count": 49
        }
      ]
    },
    {
      "cell_type": "code",
      "source": [
        "stats.shapiro(mulheres_casadas.NU_NOTA_REDACAO)"
      ],
      "metadata": {
        "colab": {
          "base_uri": "https://localhost:8080/"
        },
        "id": "g_PU_gwzLBDT",
        "outputId": "d69ace93-d33e-4ecf-ca4d-6dcb700bd11d"
      },
      "execution_count": 50,
      "outputs": [
        {
          "output_type": "execute_result",
          "data": {
            "text/plain": [
              "ShapiroResult(statistic=0.9224055409431458, pvalue=0.0005648444057442248)"
            ]
          },
          "metadata": {},
          "execution_count": 50
        }
      ]
    },
    {
      "cell_type": "code",
      "source": [
        "stats.shapiro(homens_casados.NU_NOTA_REDACAO)"
      ],
      "metadata": {
        "colab": {
          "base_uri": "https://localhost:8080/"
        },
        "id": "v0N2fi8zLMZ5",
        "outputId": "f2357573-00ee-4fc9-c21e-3a4f347dfe61"
      },
      "execution_count": 51,
      "outputs": [
        {
          "output_type": "execute_result",
          "data": {
            "text/plain": [
              "ShapiroResult(statistic=0.8949728608131409, pvalue=1.619147980136404e-07)"
            ]
          },
          "metadata": {},
          "execution_count": 51
        }
      ]
    },
    {
      "cell_type": "code",
      "source": [
        "# A distribuição das notas de redação de homens e mulheres casados não é normal, dessa forma será necessário um teste não paramétrico.\n",
        "# Observação dos dados nos gráficos QQ Plot e histograma."
      ],
      "metadata": {
        "id": "-tVSeVwQLX8d"
      },
      "execution_count": 52,
      "outputs": []
    },
    {
      "cell_type": "code",
      "source": [
        "stats.probplot(mulheres_casadas ['NU_NOTA_REDACAO'], dist='norm', plot=plt)\n",
        "plt.title('Normal QQ Plot - Nota Redação Mulheres Casadas')\n",
        "plt.show()"
      ],
      "metadata": {
        "id": "-TeePK1VLgak"
      },
      "execution_count": null,
      "outputs": []
    },
    {
      "cell_type": "code",
      "source": [
        "stats.probplot(homens_casados['NU_NOTA_REDACAO'], dist='norm', plot=plt)\n",
        "plt.title('Normal QQ Plot - Nota Redação Homens Casados')\n",
        "plt.show()"
      ],
      "metadata": {
        "id": "xshi-1PFLp3E"
      },
      "execution_count": null,
      "outputs": []
    },
    {
      "cell_type": "code",
      "source": [
        "sns.histplot(mulheres_casadas, x='NU_NOTA_REDACAO', bins=10, color='orange', kde=True, stat='probability')"
      ],
      "metadata": {
        "id": "0ZaBS7QjL1Pz"
      },
      "execution_count": null,
      "outputs": []
    },
    {
      "cell_type": "code",
      "source": [
        "sns.histplot(homens_casados, x='NU_NOTA_REDACAO', bins=10, color='blue', kde=True, stat='probability')"
      ],
      "metadata": {
        "id": "SvWjV9ZIL8Kk"
      },
      "execution_count": null,
      "outputs": []
    },
    {
      "cell_type": "code",
      "source": [
        "stat, p = stats.mannwhitneyu(mulheres_casadas.NU_NOTA_REDACAO, homens_casados.NU_NOTA_REDACAO)\n",
        "print('Estatística do Teste: {}:'.format(stat.round(2)))\n",
        "print('p-valor:{}'.format(p))"
      ],
      "metadata": {
        "colab": {
          "base_uri": "https://localhost:8080/"
        },
        "id": "rNsSFN6EMKHV",
        "outputId": "f1c35ab3-8492-446d-f38c-13c3a74c8e69"
      },
      "execution_count": 57,
      "outputs": [
        {
          "output_type": "stream",
          "name": "stdout",
          "text": [
            "Estatística do Teste: 3558.5:\n",
            "p-valor:0.5318539961770496\n"
          ]
        }
      ]
    },
    {
      "cell_type": "markdown",
      "source": [
        "Conclusão: Considerando o intervalo de confiança de 95%, não podemos concluir que exista diferença entre as medianas das notas de redação entre mulheres casadas e homens casados. Não rejeita H0."
      ],
      "metadata": {
        "id": "7-carB5eMt7d"
      }
    }
  ]
}